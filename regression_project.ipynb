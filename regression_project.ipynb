{
  "cells": [
    {
      "cell_type": "markdown",
      "metadata": {
        "id": "5joGVhddjotb"
      },
      "source": [
        "# 1 - Regression Model"
      ]
    },
    {
      "cell_type": "markdown",
      "metadata": {
        "id": "krWT41fAjoth"
      },
      "source": [
        "## 1.2 Loading Data\n",
        "[JSON Viewer](http://jsonviewer.stack.hu)\n",
        "\n",
        "[Pandas: read_json](https://pandas.pydata.org/docs/reference/api/pandas.read_json.html?highlight=read_json#pandas.read_json)\n"
      ]
    },
    {
      "cell_type": "code",
      "execution_count": 1,
      "metadata": {
        "id": "RmPCUP27joti"
      },
      "outputs": [],
      "source": [
        "import pandas as pd\n",
        "import numpy as np"
      ]
    },
    {
      "cell_type": "code",
      "execution_count": 2,
      "metadata": {
        "id": "QggfzZk1jotk"
      },
      "outputs": [
        {
          "data": {
            "text/html": [
              "<div>\n",
              "<style scoped>\n",
              "    .dataframe tbody tr th:only-of-type {\n",
              "        vertical-align: middle;\n",
              "    }\n",
              "\n",
              "    .dataframe tbody tr th {\n",
              "        vertical-align: top;\n",
              "    }\n",
              "\n",
              "    .dataframe thead th {\n",
              "        text-align: right;\n",
              "    }\n",
              "</style>\n",
              "<table border=\"1\" class=\"dataframe\">\n",
              "  <thead>\n",
              "    <tr style=\"text-align: right;\">\n",
              "      <th></th>\n",
              "      <th>ident</th>\n",
              "      <th>listing</th>\n",
              "    </tr>\n",
              "  </thead>\n",
              "  <tbody>\n",
              "    <tr>\n",
              "      <th>0</th>\n",
              "      <td>{'customerID': '775564-BOJSMVON', 'source': 'W...</td>\n",
              "      <td>{'types': {'unit': 'Outros', 'usage': 'Residen...</td>\n",
              "    </tr>\n",
              "    <tr>\n",
              "      <th>1</th>\n",
              "      <td>{'customerID': '660895-AUENKNYY', 'source': 'W...</td>\n",
              "      <td>{'types': {'unit': 'Apartamento', 'usage': 'Re...</td>\n",
              "    </tr>\n",
              "    <tr>\n",
              "      <th>2</th>\n",
              "      <td>{'customerID': '751522-JESYFEQL', 'source': 'W...</td>\n",
              "      <td>{'types': {'unit': 'Outros', 'usage': 'Residen...</td>\n",
              "    </tr>\n",
              "    <tr>\n",
              "      <th>3</th>\n",
              "      <td>{'customerID': '714052-GAAEWYKS', 'source': 'W...</td>\n",
              "      <td>{'types': {'unit': 'Outros', 'usage': 'Comerci...</td>\n",
              "    </tr>\n",
              "    <tr>\n",
              "      <th>4</th>\n",
              "      <td>{'customerID': '568886-ZIBFOMCC', 'source': 'W...</td>\n",
              "      <td>{'types': {'unit': 'Apartamento', 'usage': 'Re...</td>\n",
              "    </tr>\n",
              "    <tr>\n",
              "      <th>...</th>\n",
              "      <td>...</td>\n",
              "      <td>...</td>\n",
              "    </tr>\n",
              "    <tr>\n",
              "      <th>73610</th>\n",
              "      <td>{'customerID': '134148-MJIBCMDQ', 'source': 'W...</td>\n",
              "      <td>{'types': {'unit': 'Casa', 'usage': 'Residenci...</td>\n",
              "    </tr>\n",
              "    <tr>\n",
              "      <th>73611</th>\n",
              "      <td>{'customerID': '541465-QBQVXXXZ', 'source': 'W...</td>\n",
              "      <td>{'types': {'unit': 'Casa', 'usage': 'Residenci...</td>\n",
              "    </tr>\n",
              "    <tr>\n",
              "      <th>73612</th>\n",
              "      <td>{'customerID': '800542-BZREFTQS', 'source': 'W...</td>\n",
              "      <td>{'types': {'unit': 'Apartamento', 'usage': 'Re...</td>\n",
              "    </tr>\n",
              "    <tr>\n",
              "      <th>73613</th>\n",
              "      <td>{'customerID': '939419-ECGUNTIH', 'source': 'W...</td>\n",
              "      <td>{'types': {'unit': 'Casa', 'usage': 'Residenci...</td>\n",
              "    </tr>\n",
              "    <tr>\n",
              "      <th>73614</th>\n",
              "      <td>{'customerID': '610503-VULDJJZZ', 'source': 'W...</td>\n",
              "      <td>{'types': {'unit': 'Apartamento', 'usage': 'Re...</td>\n",
              "    </tr>\n",
              "  </tbody>\n",
              "</table>\n",
              "<p>73615 rows × 2 columns</p>\n",
              "</div>"
            ],
            "text/plain": [
              "                                                   ident  \\\n",
              "0      {'customerID': '775564-BOJSMVON', 'source': 'W...   \n",
              "1      {'customerID': '660895-AUENKNYY', 'source': 'W...   \n",
              "2      {'customerID': '751522-JESYFEQL', 'source': 'W...   \n",
              "3      {'customerID': '714052-GAAEWYKS', 'source': 'W...   \n",
              "4      {'customerID': '568886-ZIBFOMCC', 'source': 'W...   \n",
              "...                                                  ...   \n",
              "73610  {'customerID': '134148-MJIBCMDQ', 'source': 'W...   \n",
              "73611  {'customerID': '541465-QBQVXXXZ', 'source': 'W...   \n",
              "73612  {'customerID': '800542-BZREFTQS', 'source': 'W...   \n",
              "73613  {'customerID': '939419-ECGUNTIH', 'source': 'W...   \n",
              "73614  {'customerID': '610503-VULDJJZZ', 'source': 'W...   \n",
              "\n",
              "                                                 listing  \n",
              "0      {'types': {'unit': 'Outros', 'usage': 'Residen...  \n",
              "1      {'types': {'unit': 'Apartamento', 'usage': 'Re...  \n",
              "2      {'types': {'unit': 'Outros', 'usage': 'Residen...  \n",
              "3      {'types': {'unit': 'Outros', 'usage': 'Comerci...  \n",
              "4      {'types': {'unit': 'Apartamento', 'usage': 'Re...  \n",
              "...                                                  ...  \n",
              "73610  {'types': {'unit': 'Casa', 'usage': 'Residenci...  \n",
              "73611  {'types': {'unit': 'Casa', 'usage': 'Residenci...  \n",
              "73612  {'types': {'unit': 'Apartamento', 'usage': 'Re...  \n",
              "73613  {'types': {'unit': 'Casa', 'usage': 'Residenci...  \n",
              "73614  {'types': {'unit': 'Apartamento', 'usage': 'Re...  \n",
              "\n",
              "[73615 rows x 2 columns]"
            ]
          },
          "execution_count": 2,
          "metadata": {},
          "output_type": "execute_result"
        }
      ],
      "source": [
        "file_path = 'data/imoveis.json'\n",
        "df = pd.read_json(file_path, orient='columns')\n",
        "\n",
        "df"
      ]
    },
    {
      "cell_type": "markdown",
      "metadata": {
        "id": "i0ajVKZfjotn"
      },
      "source": [
        "## 1.3 Initial data processing"
      ]
    },
    {
      "cell_type": "markdown",
      "metadata": {
        "id": "SNlALwsLjoto"
      },
      "source": [
        "### Normalization"
      ]
    },
    {
      "cell_type": "code",
      "execution_count": 3,
      "metadata": {
        "id": "_FhPQDBbjotp"
      },
      "outputs": [
        {
          "data": {
            "text/html": [
              "<div>\n",
              "<style scoped>\n",
              "    .dataframe tbody tr th:only-of-type {\n",
              "        vertical-align: middle;\n",
              "    }\n",
              "\n",
              "    .dataframe tbody tr th {\n",
              "        vertical-align: top;\n",
              "    }\n",
              "\n",
              "    .dataframe thead th {\n",
              "        text-align: right;\n",
              "    }\n",
              "</style>\n",
              "<table border=\"1\" class=\"dataframe\">\n",
              "  <thead>\n",
              "    <tr style=\"text-align: right;\">\n",
              "      <th></th>\n",
              "      <th>customerID</th>\n",
              "      <th>source</th>\n",
              "    </tr>\n",
              "  </thead>\n",
              "  <tbody>\n",
              "    <tr>\n",
              "      <th>0</th>\n",
              "      <td>775564-BOJSMVON</td>\n",
              "      <td>Website</td>\n",
              "    </tr>\n",
              "    <tr>\n",
              "      <th>1</th>\n",
              "      <td>660895-AUENKNYY</td>\n",
              "      <td>Website</td>\n",
              "    </tr>\n",
              "    <tr>\n",
              "      <th>2</th>\n",
              "      <td>751522-JESYFEQL</td>\n",
              "      <td>Website</td>\n",
              "    </tr>\n",
              "    <tr>\n",
              "      <th>3</th>\n",
              "      <td>714052-GAAEWYKS</td>\n",
              "      <td>Website</td>\n",
              "    </tr>\n",
              "    <tr>\n",
              "      <th>4</th>\n",
              "      <td>568886-ZIBFOMCC</td>\n",
              "      <td>Website</td>\n",
              "    </tr>\n",
              "  </tbody>\n",
              "</table>\n",
              "</div>"
            ],
            "text/plain": [
              "        customerID   source\n",
              "0  775564-BOJSMVON  Website\n",
              "1  660895-AUENKNYY  Website\n",
              "2  751522-JESYFEQL  Website\n",
              "3  714052-GAAEWYKS  Website\n",
              "4  568886-ZIBFOMCC  Website"
            ]
          },
          "execution_count": 3,
          "metadata": {},
          "output_type": "execute_result"
        }
      ],
      "source": [
        "df1 = pd.json_normalize(df.ident)\n",
        "df1.head()"
      ]
    },
    {
      "cell_type": "code",
      "execution_count": 4,
      "metadata": {
        "id": "p7UnhrX9jotp"
      },
      "outputs": [
        {
          "data": {
            "text/html": [
              "<div>\n",
              "<style scoped>\n",
              "    .dataframe tbody tr th:only-of-type {\n",
              "        vertical-align: middle;\n",
              "    }\n",
              "\n",
              "    .dataframe tbody tr th {\n",
              "        vertical-align: top;\n",
              "    }\n",
              "\n",
              "    .dataframe thead th {\n",
              "        text-align: right;\n",
              "    }\n",
              "</style>\n",
              "<table border=\"1\" class=\"dataframe\">\n",
              "  <thead>\n",
              "    <tr style=\"text-align: right;\">\n",
              "      <th></th>\n",
              "      <th>types_unit</th>\n",
              "      <th>types_usage</th>\n",
              "      <th>address_city</th>\n",
              "      <th>address_location_lon</th>\n",
              "      <th>address_location_lat</th>\n",
              "      <th>address_zone</th>\n",
              "      <th>address_neighborhood</th>\n",
              "      <th>prices_price</th>\n",
              "      <th>prices_tax_iptu</th>\n",
              "      <th>prices_tax_condo</th>\n",
              "      <th>features_bedrooms</th>\n",
              "      <th>features_bathrooms</th>\n",
              "      <th>features_suites</th>\n",
              "      <th>features_parkingSpaces</th>\n",
              "      <th>features_usableAreas</th>\n",
              "      <th>features_totalAreas</th>\n",
              "      <th>features_floors</th>\n",
              "      <th>features_unitsOnTheFloor</th>\n",
              "      <th>features_unitFloor</th>\n",
              "    </tr>\n",
              "  </thead>\n",
              "  <tbody>\n",
              "    <tr>\n",
              "      <th>0</th>\n",
              "      <td>Outros</td>\n",
              "      <td>Residencial</td>\n",
              "      <td>Rio de Janeiro</td>\n",
              "      <td>-43.413557</td>\n",
              "      <td>-22.909429</td>\n",
              "      <td>Zona Oeste</td>\n",
              "      <td>Taquara</td>\n",
              "      <td>45000</td>\n",
              "      <td>0</td>\n",
              "      <td>150</td>\n",
              "      <td>0</td>\n",
              "      <td>0</td>\n",
              "      <td>0</td>\n",
              "      <td>1</td>\n",
              "      <td>62</td>\n",
              "      <td>62</td>\n",
              "      <td>0</td>\n",
              "      <td>0</td>\n",
              "      <td>0</td>\n",
              "    </tr>\n",
              "    <tr>\n",
              "      <th>1</th>\n",
              "      <td>Apartamento</td>\n",
              "      <td>Residencial</td>\n",
              "      <td>Rio de Janeiro</td>\n",
              "      <td>-43.509141</td>\n",
              "      <td>-22.869698</td>\n",
              "      <td>Zona Oeste</td>\n",
              "      <td>Santíssimo</td>\n",
              "      <td>45000</td>\n",
              "      <td>0</td>\n",
              "      <td>120</td>\n",
              "      <td>2</td>\n",
              "      <td>1</td>\n",
              "      <td>0</td>\n",
              "      <td>1</td>\n",
              "      <td>44</td>\n",
              "      <td>0</td>\n",
              "      <td>0</td>\n",
              "      <td>0</td>\n",
              "      <td>0</td>\n",
              "    </tr>\n",
              "    <tr>\n",
              "      <th>2</th>\n",
              "      <td>Outros</td>\n",
              "      <td>Residencial</td>\n",
              "      <td>Rio de Janeiro</td>\n",
              "      <td>-43.646786</td>\n",
              "      <td>-22.986927</td>\n",
              "      <td>Zona Oeste</td>\n",
              "      <td>Pedra de Guaratiba</td>\n",
              "      <td>50000</td>\n",
              "      <td>0</td>\n",
              "      <td>100</td>\n",
              "      <td>0</td>\n",
              "      <td>0</td>\n",
              "      <td>0</td>\n",
              "      <td>0</td>\n",
              "      <td>132</td>\n",
              "      <td>132</td>\n",
              "      <td>0</td>\n",
              "      <td>0</td>\n",
              "      <td>0</td>\n",
              "    </tr>\n",
              "    <tr>\n",
              "      <th>3</th>\n",
              "      <td>Outros</td>\n",
              "      <td>Comercial</td>\n",
              "      <td>Rio de Janeiro</td>\n",
              "      <td>-43.330818</td>\n",
              "      <td>-22.881977</td>\n",
              "      <td>Zona Norte</td>\n",
              "      <td>Cascadura</td>\n",
              "      <td>45000</td>\n",
              "      <td>346</td>\n",
              "      <td>468</td>\n",
              "      <td>0</td>\n",
              "      <td>1</td>\n",
              "      <td>0</td>\n",
              "      <td>0</td>\n",
              "      <td>32</td>\n",
              "      <td>32</td>\n",
              "      <td>0</td>\n",
              "      <td>0</td>\n",
              "      <td>3</td>\n",
              "    </tr>\n",
              "    <tr>\n",
              "      <th>4</th>\n",
              "      <td>Apartamento</td>\n",
              "      <td>Residencial</td>\n",
              "      <td>Rio de Janeiro</td>\n",
              "      <td>-43.480742</td>\n",
              "      <td>-23.027653</td>\n",
              "      <td>Zona Oeste</td>\n",
              "      <td>Recreio dos Bandeirantes</td>\n",
              "      <td>50000</td>\n",
              "      <td>120</td>\n",
              "      <td>400</td>\n",
              "      <td>3</td>\n",
              "      <td>2</td>\n",
              "      <td>1</td>\n",
              "      <td>1</td>\n",
              "      <td>60</td>\n",
              "      <td>0</td>\n",
              "      <td>3</td>\n",
              "      <td>4</td>\n",
              "      <td>2</td>\n",
              "    </tr>\n",
              "  </tbody>\n",
              "</table>\n",
              "</div>"
            ],
            "text/plain": [
              "    types_unit  types_usage    address_city  address_location_lon  \\\n",
              "0       Outros  Residencial  Rio de Janeiro            -43.413557   \n",
              "1  Apartamento  Residencial  Rio de Janeiro            -43.509141   \n",
              "2       Outros  Residencial  Rio de Janeiro            -43.646786   \n",
              "3       Outros    Comercial  Rio de Janeiro            -43.330818   \n",
              "4  Apartamento  Residencial  Rio de Janeiro            -43.480742   \n",
              "\n",
              "   address_location_lat address_zone      address_neighborhood prices_price  \\\n",
              "0            -22.909429   Zona Oeste                   Taquara        45000   \n",
              "1            -22.869698   Zona Oeste                Santíssimo        45000   \n",
              "2            -22.986927   Zona Oeste        Pedra de Guaratiba        50000   \n",
              "3            -22.881977   Zona Norte                 Cascadura        45000   \n",
              "4            -23.027653   Zona Oeste  Recreio dos Bandeirantes        50000   \n",
              "\n",
              "  prices_tax_iptu prices_tax_condo  features_bedrooms  features_bathrooms  \\\n",
              "0               0              150                  0                   0   \n",
              "1               0              120                  2                   1   \n",
              "2               0              100                  0                   0   \n",
              "3             346              468                  0                   1   \n",
              "4             120              400                  3                   2   \n",
              "\n",
              "   features_suites  features_parkingSpaces features_usableAreas  \\\n",
              "0                0                       1                   62   \n",
              "1                0                       1                   44   \n",
              "2                0                       0                  132   \n",
              "3                0                       0                   32   \n",
              "4                1                       1                   60   \n",
              "\n",
              "  features_totalAreas  features_floors  features_unitsOnTheFloor  \\\n",
              "0                  62                0                         0   \n",
              "1                   0                0                         0   \n",
              "2                 132                0                         0   \n",
              "3                  32                0                         0   \n",
              "4                   0                3                         4   \n",
              "\n",
              "   features_unitFloor  \n",
              "0                   0  \n",
              "1                   0  \n",
              "2                   0  \n",
              "3                   3  \n",
              "4                   2  "
            ]
          },
          "execution_count": 4,
          "metadata": {},
          "output_type": "execute_result"
        }
      ],
      "source": [
        "df2 = pd.json_normalize(df.listing, sep='_')\n",
        "df2.head()"
      ]
    },
    {
      "cell_type": "markdown",
      "metadata": {
        "id": "DWqC5wd3jotq"
      },
      "source": [
        "### Joining dataframes"
      ]
    },
    {
      "cell_type": "code",
      "execution_count": 5,
      "metadata": {
        "id": "VO8u42uxjotq"
      },
      "outputs": [
        {
          "data": {
            "text/html": [
              "<div>\n",
              "<style scoped>\n",
              "    .dataframe tbody tr th:only-of-type {\n",
              "        vertical-align: middle;\n",
              "    }\n",
              "\n",
              "    .dataframe tbody tr th {\n",
              "        vertical-align: top;\n",
              "    }\n",
              "\n",
              "    .dataframe thead th {\n",
              "        text-align: right;\n",
              "    }\n",
              "</style>\n",
              "<table border=\"1\" class=\"dataframe\">\n",
              "  <thead>\n",
              "    <tr style=\"text-align: right;\">\n",
              "      <th></th>\n",
              "      <th>customerID</th>\n",
              "      <th>source</th>\n",
              "      <th>types_unit</th>\n",
              "      <th>types_usage</th>\n",
              "      <th>address_city</th>\n",
              "      <th>address_location_lon</th>\n",
              "      <th>address_location_lat</th>\n",
              "      <th>address_zone</th>\n",
              "      <th>address_neighborhood</th>\n",
              "      <th>prices_price</th>\n",
              "      <th>...</th>\n",
              "      <th>prices_tax_condo</th>\n",
              "      <th>features_bedrooms</th>\n",
              "      <th>features_bathrooms</th>\n",
              "      <th>features_suites</th>\n",
              "      <th>features_parkingSpaces</th>\n",
              "      <th>features_usableAreas</th>\n",
              "      <th>features_totalAreas</th>\n",
              "      <th>features_floors</th>\n",
              "      <th>features_unitsOnTheFloor</th>\n",
              "      <th>features_unitFloor</th>\n",
              "    </tr>\n",
              "  </thead>\n",
              "  <tbody>\n",
              "    <tr>\n",
              "      <th>0</th>\n",
              "      <td>775564-BOJSMVON</td>\n",
              "      <td>Website</td>\n",
              "      <td>Outros</td>\n",
              "      <td>Residencial</td>\n",
              "      <td>Rio de Janeiro</td>\n",
              "      <td>-43.413557</td>\n",
              "      <td>-22.909429</td>\n",
              "      <td>Zona Oeste</td>\n",
              "      <td>Taquara</td>\n",
              "      <td>45000</td>\n",
              "      <td>...</td>\n",
              "      <td>150</td>\n",
              "      <td>0</td>\n",
              "      <td>0</td>\n",
              "      <td>0</td>\n",
              "      <td>1</td>\n",
              "      <td>62</td>\n",
              "      <td>62</td>\n",
              "      <td>0</td>\n",
              "      <td>0</td>\n",
              "      <td>0</td>\n",
              "    </tr>\n",
              "    <tr>\n",
              "      <th>1</th>\n",
              "      <td>660895-AUENKNYY</td>\n",
              "      <td>Website</td>\n",
              "      <td>Apartamento</td>\n",
              "      <td>Residencial</td>\n",
              "      <td>Rio de Janeiro</td>\n",
              "      <td>-43.509141</td>\n",
              "      <td>-22.869698</td>\n",
              "      <td>Zona Oeste</td>\n",
              "      <td>Santíssimo</td>\n",
              "      <td>45000</td>\n",
              "      <td>...</td>\n",
              "      <td>120</td>\n",
              "      <td>2</td>\n",
              "      <td>1</td>\n",
              "      <td>0</td>\n",
              "      <td>1</td>\n",
              "      <td>44</td>\n",
              "      <td>0</td>\n",
              "      <td>0</td>\n",
              "      <td>0</td>\n",
              "      <td>0</td>\n",
              "    </tr>\n",
              "    <tr>\n",
              "      <th>2</th>\n",
              "      <td>751522-JESYFEQL</td>\n",
              "      <td>Website</td>\n",
              "      <td>Outros</td>\n",
              "      <td>Residencial</td>\n",
              "      <td>Rio de Janeiro</td>\n",
              "      <td>-43.646786</td>\n",
              "      <td>-22.986927</td>\n",
              "      <td>Zona Oeste</td>\n",
              "      <td>Pedra de Guaratiba</td>\n",
              "      <td>50000</td>\n",
              "      <td>...</td>\n",
              "      <td>100</td>\n",
              "      <td>0</td>\n",
              "      <td>0</td>\n",
              "      <td>0</td>\n",
              "      <td>0</td>\n",
              "      <td>132</td>\n",
              "      <td>132</td>\n",
              "      <td>0</td>\n",
              "      <td>0</td>\n",
              "      <td>0</td>\n",
              "    </tr>\n",
              "    <tr>\n",
              "      <th>3</th>\n",
              "      <td>714052-GAAEWYKS</td>\n",
              "      <td>Website</td>\n",
              "      <td>Outros</td>\n",
              "      <td>Comercial</td>\n",
              "      <td>Rio de Janeiro</td>\n",
              "      <td>-43.330818</td>\n",
              "      <td>-22.881977</td>\n",
              "      <td>Zona Norte</td>\n",
              "      <td>Cascadura</td>\n",
              "      <td>45000</td>\n",
              "      <td>...</td>\n",
              "      <td>468</td>\n",
              "      <td>0</td>\n",
              "      <td>1</td>\n",
              "      <td>0</td>\n",
              "      <td>0</td>\n",
              "      <td>32</td>\n",
              "      <td>32</td>\n",
              "      <td>0</td>\n",
              "      <td>0</td>\n",
              "      <td>3</td>\n",
              "    </tr>\n",
              "    <tr>\n",
              "      <th>4</th>\n",
              "      <td>568886-ZIBFOMCC</td>\n",
              "      <td>Website</td>\n",
              "      <td>Apartamento</td>\n",
              "      <td>Residencial</td>\n",
              "      <td>Rio de Janeiro</td>\n",
              "      <td>-43.480742</td>\n",
              "      <td>-23.027653</td>\n",
              "      <td>Zona Oeste</td>\n",
              "      <td>Recreio dos Bandeirantes</td>\n",
              "      <td>50000</td>\n",
              "      <td>...</td>\n",
              "      <td>400</td>\n",
              "      <td>3</td>\n",
              "      <td>2</td>\n",
              "      <td>1</td>\n",
              "      <td>1</td>\n",
              "      <td>60</td>\n",
              "      <td>0</td>\n",
              "      <td>3</td>\n",
              "      <td>4</td>\n",
              "      <td>2</td>\n",
              "    </tr>\n",
              "  </tbody>\n",
              "</table>\n",
              "<p>5 rows × 21 columns</p>\n",
              "</div>"
            ],
            "text/plain": [
              "        customerID   source   types_unit  types_usage    address_city  \\\n",
              "0  775564-BOJSMVON  Website       Outros  Residencial  Rio de Janeiro   \n",
              "1  660895-AUENKNYY  Website  Apartamento  Residencial  Rio de Janeiro   \n",
              "2  751522-JESYFEQL  Website       Outros  Residencial  Rio de Janeiro   \n",
              "3  714052-GAAEWYKS  Website       Outros    Comercial  Rio de Janeiro   \n",
              "4  568886-ZIBFOMCC  Website  Apartamento  Residencial  Rio de Janeiro   \n",
              "\n",
              "   address_location_lon  address_location_lat address_zone  \\\n",
              "0            -43.413557            -22.909429   Zona Oeste   \n",
              "1            -43.509141            -22.869698   Zona Oeste   \n",
              "2            -43.646786            -22.986927   Zona Oeste   \n",
              "3            -43.330818            -22.881977   Zona Norte   \n",
              "4            -43.480742            -23.027653   Zona Oeste   \n",
              "\n",
              "       address_neighborhood prices_price  ... prices_tax_condo  \\\n",
              "0                   Taquara        45000  ...              150   \n",
              "1                Santíssimo        45000  ...              120   \n",
              "2        Pedra de Guaratiba        50000  ...              100   \n",
              "3                 Cascadura        45000  ...              468   \n",
              "4  Recreio dos Bandeirantes        50000  ...              400   \n",
              "\n",
              "  features_bedrooms  features_bathrooms  features_suites  \\\n",
              "0                 0                   0                0   \n",
              "1                 2                   1                0   \n",
              "2                 0                   0                0   \n",
              "3                 0                   1                0   \n",
              "4                 3                   2                1   \n",
              "\n",
              "   features_parkingSpaces  features_usableAreas features_totalAreas  \\\n",
              "0                       1                    62                  62   \n",
              "1                       1                    44                   0   \n",
              "2                       0                   132                 132   \n",
              "3                       0                    32                  32   \n",
              "4                       1                    60                   0   \n",
              "\n",
              "  features_floors  features_unitsOnTheFloor  features_unitFloor  \n",
              "0               0                         0                   0  \n",
              "1               0                         0                   0  \n",
              "2               0                         0                   0  \n",
              "3               0                         0                   3  \n",
              "4               3                         4                   2  \n",
              "\n",
              "[5 rows x 21 columns]"
            ]
          },
          "execution_count": 5,
          "metadata": {},
          "output_type": "execute_result"
        }
      ],
      "source": [
        "data_prop = pd.concat([df1, df2], axis=1)\n",
        "data_prop.head()"
      ]
    },
    {
      "cell_type": "code",
      "execution_count": 6,
      "metadata": {
        "id": "7LD3vrYikH-N"
      },
      "outputs": [
        {
          "data": {
            "text/plain": [
              "(73615, 21)"
            ]
          },
          "execution_count": 6,
          "metadata": {},
          "output_type": "execute_result"
        }
      ],
      "source": [
        "data_prop.shape"
      ]
    },
    {
      "cell_type": "code",
      "execution_count": 7,
      "metadata": {
        "id": "h2uxFnNWjotr"
      },
      "outputs": [
        {
          "name": "stdout",
          "output_type": "stream",
          "text": [
            "================================================================================================================================================================================================================================================\n",
            "customerID\n",
            "775564-BOJSMVON    1\n",
            "917809-TRNXMOHE    1\n",
            "125760-XEXDELYV    1\n",
            "294183-VCUBOXCU    1\n",
            "465524-CFDRZTHS    1\n",
            "                  ..\n",
            "200525-LDRZXCVM    1\n",
            "938284-QWFBFUXB    1\n",
            "882696-YVZSJYMI    1\n",
            "566032-WFPGBXHL    1\n",
            "610503-VULDJJZZ    1\n",
            "Name: count, Length: 73615, dtype: int64\n",
            "================================================================================================================================================================================================================================================\n",
            "source\n",
            "Website    73615\n",
            "Name: count, dtype: int64\n",
            "================================================================================================================================================================================================================================================\n",
            "types_unit\n",
            "Apartamento    59106\n",
            "Casa            9389\n",
            "Outros          5120\n",
            "Name: count, dtype: int64\n",
            "================================================================================================================================================================================================================================================\n",
            "types_usage\n",
            "Residencial    69596\n",
            "Comercial       4019\n",
            "Name: count, dtype: int64\n",
            "================================================================================================================================================================================================================================================\n",
            "address_city\n",
            "Rio de Janeiro        73607\n",
            "Queimados                 3\n",
            "São Gonçalo               2\n",
            "Cachoeirinha              1\n",
            "São João de Meriti        1\n",
            "Armação dos Búzios        1\n",
            "Name: count, dtype: int64\n",
            "================================================================================================================================================================================================================================================\n",
            "address_location_lon\n",
            "-43.365895    399\n",
            "-43.462590    278\n",
            "-43.333066    236\n",
            "-43.383834    232\n",
            "-43.516473    218\n",
            "             ... \n",
            "-43.231882      1\n",
            "-43.236952      1\n",
            "-43.240152      1\n",
            "-43.185712      1\n",
            "-43.250934      1\n",
            "Name: count, Length: 25753, dtype: int64\n",
            "================================================================================================================================================================================================================================================\n",
            "address_location_lat\n",
            "-23.000371    399\n",
            "-23.017479    278\n",
            "-22.937463    236\n",
            "-22.966600    232\n",
            "-23.015968    218\n",
            "             ... \n",
            "-22.916667      1\n",
            "-22.904453      1\n",
            "-22.927386      1\n",
            "-22.944062      1\n",
            "-22.998918      1\n",
            "Name: count, Length: 25552, dtype: int64\n",
            "================================================================================================================================================================================================================================================\n",
            "address_zone\n",
            "Zona Oeste      37116\n",
            "Zona Sul        19222\n",
            "Zona Norte      15191\n",
            "Zona Central     1921\n",
            "                  165\n",
            "Name: count, dtype: int64\n",
            "================================================================================================================================================================================================================================================\n",
            "address_neighborhood\n",
            "Barra da Tijuca                 11987\n",
            "Recreio dos Bandeirantes         7956\n",
            "Copacabana                       6380\n",
            "Jacarepaguá                      4192\n",
            "Tijuca                           3672\n",
            "                                ...  \n",
            "Área Rural de Rio de Janeiro        1\n",
            "Parque Analândia                    1\n",
            "Dumas                               1\n",
            "Tubiacanga                          1\n",
            "Vasco da Gama                       1\n",
            "Name: count, Length: 158, dtype: int64\n",
            "================================================================================================================================================================================================================================================\n",
            "prices_price\n",
            "650000     830\n",
            "550000     750\n",
            "750000     748\n",
            "450000     737\n",
            "1200000    723\n",
            "          ... \n",
            "672042       1\n",
            "671567       1\n",
            "678825       1\n",
            "371932       1\n",
            "578990       1\n",
            "Name: count, Length: 5230, dtype: int64\n",
            "================================================================================================================================================================================================================================================\n",
            "prices_tax_iptu\n",
            "0         9436\n",
            "1         1937\n",
            "20        1247\n",
            "10        1122\n",
            "100        939\n",
            "          ... \n",
            "4857         1\n",
            "2526         1\n",
            "5376         1\n",
            "444900       1\n",
            "3729         1\n",
            "Name: count, Length: 5488, dtype: int64\n",
            "================================================================================================================================================================================================================================================\n",
            "prices_tax_condo\n",
            "0         6562\n",
            "1200      1371\n",
            "800       1350\n",
            "1100      1257\n",
            "1         1254\n",
            "          ... \n",
            "2905         1\n",
            "2272         1\n",
            "4102         1\n",
            "144654       1\n",
            "6075         1\n",
            "Name: count, Length: 3297, dtype: int64\n",
            "================================================================================================================================================================================================================================================\n",
            "features_bedrooms\n",
            "2     25350\n",
            "3     24068\n",
            "4     10911\n",
            "1      6353\n",
            "0      3980\n",
            "5      2220\n",
            "6       476\n",
            "7        90\n",
            "8        65\n",
            "10       28\n",
            "9        18\n",
            "11        9\n",
            "12        8\n",
            "13        7\n",
            "14        7\n",
            "20        5\n",
            "15        4\n",
            "32        3\n",
            "30        2\n",
            "17        2\n",
            "23        2\n",
            "50        2\n",
            "27        2\n",
            "40        1\n",
            "24        1\n",
            "36        1\n",
            "Name: count, dtype: int64\n",
            "================================================================================================================================================================================================================================================\n",
            "features_bathrooms\n",
            "2     25451\n",
            "1     21096\n",
            "3     13481\n",
            "4      5591\n",
            "5      3286\n",
            "6      1999\n",
            "0      1270\n",
            "7       813\n",
            "8       405\n",
            "9        95\n",
            "10       72\n",
            "11       17\n",
            "12       16\n",
            "15        3\n",
            "40        3\n",
            "22        2\n",
            "17        2\n",
            "16        2\n",
            "13        2\n",
            "25        2\n",
            "18        2\n",
            "14        1\n",
            "49        1\n",
            "24        1\n",
            "36        1\n",
            "20        1\n",
            "Name: count, dtype: int64\n",
            "================================================================================================================================================================================================================================================\n",
            "features_suites\n",
            "1     33188\n",
            "0     24492\n",
            "2      7812\n",
            "3      3707\n",
            "4      3314\n",
            "5       916\n",
            "6       140\n",
            "7        18\n",
            "8         7\n",
            "9         4\n",
            "10        4\n",
            "11        4\n",
            "13        2\n",
            "20        1\n",
            "50        1\n",
            "23        1\n",
            "17        1\n",
            "12        1\n",
            "16        1\n",
            "36        1\n",
            "Name: count, dtype: int64\n",
            "================================================================================================================================================================================================================================================\n",
            "features_parkingSpaces\n",
            "1      35766\n",
            "2      15487\n",
            "0      13173\n",
            "3       5020\n",
            "4       2727\n",
            "5        601\n",
            "6        377\n",
            "8        134\n",
            "10       124\n",
            "7         82\n",
            "12        16\n",
            "15        14\n",
            "20        10\n",
            "9         10\n",
            "14         8\n",
            "30         8\n",
            "19         7\n",
            "21         7\n",
            "11         6\n",
            "13         5\n",
            "25         4\n",
            "50         3\n",
            "45         3\n",
            "16         3\n",
            "40         3\n",
            "18         3\n",
            "144        1\n",
            "60         1\n",
            "26         1\n",
            "35         1\n",
            "44         1\n",
            "180        1\n",
            "27         1\n",
            "17         1\n",
            "99         1\n",
            "31         1\n",
            "34         1\n",
            "42         1\n",
            "23         1\n",
            "32         1\n",
            "Name: count, dtype: int64\n",
            "================================================================================================================================================================================================================================================\n",
            "features_usableAreas\n",
            "70      2197\n",
            "60      1560\n",
            "80      1525\n",
            "90      1302\n",
            "50      1259\n",
            "        ... \n",
            "1442       1\n",
            "1917       1\n",
            "916        1\n",
            "1629       1\n",
            "1201       1\n",
            "Name: count, Length: 939, dtype: int64\n",
            "================================================================================================================================================================================================================================================\n",
            "features_totalAreas\n",
            "0        6948\n",
            "70       1981\n",
            "80       1329\n",
            "60       1302\n",
            "100      1135\n",
            "         ... \n",
            "2965        1\n",
            "5710        1\n",
            "10265       1\n",
            "3463        1\n",
            "1014        1\n",
            "Name: count, Length: 1305, dtype: int64\n",
            "================================================================================================================================================================================================================================================\n",
            "features_floors\n",
            "0     57971\n",
            "12     2100\n",
            "3      1994\n",
            "10     1496\n",
            "5      1102\n",
            "4      1016\n",
            "7       975\n",
            "8       966\n",
            "2       878\n",
            "6       744\n",
            "15      732\n",
            "11      431\n",
            "9       377\n",
            "17      344\n",
            "20      335\n",
            "13      324\n",
            "18      321\n",
            "14      296\n",
            "16      286\n",
            "1       276\n",
            "22      194\n",
            "21      113\n",
            "19       91\n",
            "23       78\n",
            "25       48\n",
            "24       30\n",
            "30       25\n",
            "28       16\n",
            "27       13\n",
            "26        8\n",
            "40        8\n",
            "29        6\n",
            "32        4\n",
            "33        4\n",
            "34        3\n",
            "35        3\n",
            "42        2\n",
            "38        1\n",
            "37        1\n",
            "31        1\n",
            "50        1\n",
            "41        1\n",
            "Name: count, dtype: int64\n",
            "================================================================================================================================================================================================================================================\n",
            "features_unitsOnTheFloor\n",
            "0     60027\n",
            "4      3570\n",
            "8      1967\n",
            "6      1680\n",
            "2      1437\n",
            "10     1187\n",
            "12     1015\n",
            "1       966\n",
            "3       329\n",
            "5       324\n",
            "7       151\n",
            "9       147\n",
            "19      147\n",
            "16       98\n",
            "11       72\n",
            "20       69\n",
            "14       61\n",
            "15       58\n",
            "18       41\n",
            "13       36\n",
            "50       34\n",
            "30       28\n",
            "25       22\n",
            "17       18\n",
            "22       17\n",
            "24       16\n",
            "40       12\n",
            "21       11\n",
            "23       11\n",
            "36        9\n",
            "26        9\n",
            "49        5\n",
            "29        5\n",
            "37        5\n",
            "34        5\n",
            "44        4\n",
            "35        3\n",
            "45        3\n",
            "27        3\n",
            "33        3\n",
            "38        3\n",
            "32        2\n",
            "31        1\n",
            "76        1\n",
            "39        1\n",
            "43        1\n",
            "28        1\n",
            "Name: count, dtype: int64\n",
            "================================================================================================================================================================================================================================================\n",
            "features_unitFloor\n",
            "0       54737\n",
            "2        3298\n",
            "3        3000\n",
            "1        2584\n",
            "4        1830\n",
            "5        1552\n",
            "6        1322\n",
            "7        1023\n",
            "8         895\n",
            "10        794\n",
            "9         558\n",
            "12        428\n",
            "11        361\n",
            "15        247\n",
            "13        178\n",
            "14        175\n",
            "16        150\n",
            "17        115\n",
            "18         77\n",
            "20         72\n",
            "19         48\n",
            "21         41\n",
            "22         32\n",
            "25         17\n",
            "50         12\n",
            "24         11\n",
            "23         10\n",
            "1234        7\n",
            "28          6\n",
            "26          6\n",
            "42          3\n",
            "99          3\n",
            "27          3\n",
            "36          2\n",
            "29          2\n",
            "31          1\n",
            "102         1\n",
            "701         1\n",
            "302         1\n",
            "370         1\n",
            "123         1\n",
            "480         1\n",
            "33          1\n",
            "65          1\n",
            "167         1\n",
            "78          1\n",
            "30          1\n",
            "60          1\n",
            "504         1\n",
            "32          1\n",
            "43          1\n",
            "Name: count, dtype: int64\n"
          ]
        }
      ],
      "source": [
        "for column in data_prop.columns:\n",
        "    print('========'*30)\n",
        "    print(data_prop[column].value_counts())"
      ]
    },
    {
      "cell_type": "markdown",
      "metadata": {
        "id": "hht873Vzjott"
      },
      "source": [
        "## 1.4 Cleaning"
      ]
    },
    {
      "cell_type": "markdown",
      "metadata": {
        "id": "f2QL-757jotr"
      },
      "source": [
        "### Filter"
      ]
    },
    {
      "cell_type": "code",
      "execution_count": 8,
      "metadata": {
        "id": "tYvDwNlXjots"
      },
      "outputs": [
        {
          "data": {
            "text/html": [
              "<div>\n",
              "<style scoped>\n",
              "    .dataframe tbody tr th:only-of-type {\n",
              "        vertical-align: middle;\n",
              "    }\n",
              "\n",
              "    .dataframe tbody tr th {\n",
              "        vertical-align: top;\n",
              "    }\n",
              "\n",
              "    .dataframe thead th {\n",
              "        text-align: right;\n",
              "    }\n",
              "</style>\n",
              "<table border=\"1\" class=\"dataframe\">\n",
              "  <thead>\n",
              "    <tr style=\"text-align: right;\">\n",
              "      <th></th>\n",
              "      <th>customerID</th>\n",
              "      <th>source</th>\n",
              "      <th>types_unit</th>\n",
              "      <th>types_usage</th>\n",
              "      <th>address_city</th>\n",
              "      <th>address_location_lon</th>\n",
              "      <th>address_location_lat</th>\n",
              "      <th>address_zone</th>\n",
              "      <th>address_neighborhood</th>\n",
              "      <th>prices_price</th>\n",
              "      <th>...</th>\n",
              "      <th>prices_tax_condo</th>\n",
              "      <th>features_bedrooms</th>\n",
              "      <th>features_bathrooms</th>\n",
              "      <th>features_suites</th>\n",
              "      <th>features_parkingSpaces</th>\n",
              "      <th>features_usableAreas</th>\n",
              "      <th>features_totalAreas</th>\n",
              "      <th>features_floors</th>\n",
              "      <th>features_unitsOnTheFloor</th>\n",
              "      <th>features_unitFloor</th>\n",
              "    </tr>\n",
              "  </thead>\n",
              "  <tbody>\n",
              "    <tr>\n",
              "      <th>0</th>\n",
              "      <td>775564-BOJSMVON</td>\n",
              "      <td>Website</td>\n",
              "      <td>Outros</td>\n",
              "      <td>Residencial</td>\n",
              "      <td>Rio de Janeiro</td>\n",
              "      <td>-43.413557</td>\n",
              "      <td>-22.909429</td>\n",
              "      <td>Zona Oeste</td>\n",
              "      <td>Taquara</td>\n",
              "      <td>45000</td>\n",
              "      <td>...</td>\n",
              "      <td>150</td>\n",
              "      <td>0</td>\n",
              "      <td>0</td>\n",
              "      <td>0</td>\n",
              "      <td>1</td>\n",
              "      <td>62</td>\n",
              "      <td>62</td>\n",
              "      <td>0</td>\n",
              "      <td>0</td>\n",
              "      <td>0</td>\n",
              "    </tr>\n",
              "    <tr>\n",
              "      <th>1</th>\n",
              "      <td>660895-AUENKNYY</td>\n",
              "      <td>Website</td>\n",
              "      <td>Apartamento</td>\n",
              "      <td>Residencial</td>\n",
              "      <td>Rio de Janeiro</td>\n",
              "      <td>-43.509141</td>\n",
              "      <td>-22.869698</td>\n",
              "      <td>Zona Oeste</td>\n",
              "      <td>Santíssimo</td>\n",
              "      <td>45000</td>\n",
              "      <td>...</td>\n",
              "      <td>120</td>\n",
              "      <td>2</td>\n",
              "      <td>1</td>\n",
              "      <td>0</td>\n",
              "      <td>1</td>\n",
              "      <td>44</td>\n",
              "      <td>0</td>\n",
              "      <td>0</td>\n",
              "      <td>0</td>\n",
              "      <td>0</td>\n",
              "    </tr>\n",
              "    <tr>\n",
              "      <th>2</th>\n",
              "      <td>751522-JESYFEQL</td>\n",
              "      <td>Website</td>\n",
              "      <td>Outros</td>\n",
              "      <td>Residencial</td>\n",
              "      <td>Rio de Janeiro</td>\n",
              "      <td>-43.646786</td>\n",
              "      <td>-22.986927</td>\n",
              "      <td>Zona Oeste</td>\n",
              "      <td>Pedra de Guaratiba</td>\n",
              "      <td>50000</td>\n",
              "      <td>...</td>\n",
              "      <td>100</td>\n",
              "      <td>0</td>\n",
              "      <td>0</td>\n",
              "      <td>0</td>\n",
              "      <td>0</td>\n",
              "      <td>132</td>\n",
              "      <td>132</td>\n",
              "      <td>0</td>\n",
              "      <td>0</td>\n",
              "      <td>0</td>\n",
              "    </tr>\n",
              "    <tr>\n",
              "      <th>4</th>\n",
              "      <td>568886-ZIBFOMCC</td>\n",
              "      <td>Website</td>\n",
              "      <td>Apartamento</td>\n",
              "      <td>Residencial</td>\n",
              "      <td>Rio de Janeiro</td>\n",
              "      <td>-43.480742</td>\n",
              "      <td>-23.027653</td>\n",
              "      <td>Zona Oeste</td>\n",
              "      <td>Recreio dos Bandeirantes</td>\n",
              "      <td>50000</td>\n",
              "      <td>...</td>\n",
              "      <td>400</td>\n",
              "      <td>3</td>\n",
              "      <td>2</td>\n",
              "      <td>1</td>\n",
              "      <td>1</td>\n",
              "      <td>60</td>\n",
              "      <td>0</td>\n",
              "      <td>3</td>\n",
              "      <td>4</td>\n",
              "      <td>2</td>\n",
              "    </tr>\n",
              "    <tr>\n",
              "      <th>5</th>\n",
              "      <td>526755-OBLTYTEN</td>\n",
              "      <td>Website</td>\n",
              "      <td>Outros</td>\n",
              "      <td>Residencial</td>\n",
              "      <td>Rio de Janeiro</td>\n",
              "      <td>-43.571183</td>\n",
              "      <td>-22.966059</td>\n",
              "      <td>Zona Oeste</td>\n",
              "      <td>Guaratiba</td>\n",
              "      <td>50000</td>\n",
              "      <td>...</td>\n",
              "      <td>0</td>\n",
              "      <td>0</td>\n",
              "      <td>0</td>\n",
              "      <td>0</td>\n",
              "      <td>0</td>\n",
              "      <td>200</td>\n",
              "      <td>200</td>\n",
              "      <td>0</td>\n",
              "      <td>0</td>\n",
              "      <td>0</td>\n",
              "    </tr>\n",
              "  </tbody>\n",
              "</table>\n",
              "<p>5 rows × 21 columns</p>\n",
              "</div>"
            ],
            "text/plain": [
              "        customerID   source   types_unit  types_usage    address_city  \\\n",
              "0  775564-BOJSMVON  Website       Outros  Residencial  Rio de Janeiro   \n",
              "1  660895-AUENKNYY  Website  Apartamento  Residencial  Rio de Janeiro   \n",
              "2  751522-JESYFEQL  Website       Outros  Residencial  Rio de Janeiro   \n",
              "4  568886-ZIBFOMCC  Website  Apartamento  Residencial  Rio de Janeiro   \n",
              "5  526755-OBLTYTEN  Website       Outros  Residencial  Rio de Janeiro   \n",
              "\n",
              "   address_location_lon  address_location_lat address_zone  \\\n",
              "0            -43.413557            -22.909429   Zona Oeste   \n",
              "1            -43.509141            -22.869698   Zona Oeste   \n",
              "2            -43.646786            -22.986927   Zona Oeste   \n",
              "4            -43.480742            -23.027653   Zona Oeste   \n",
              "5            -43.571183            -22.966059   Zona Oeste   \n",
              "\n",
              "       address_neighborhood prices_price  ... prices_tax_condo  \\\n",
              "0                   Taquara        45000  ...              150   \n",
              "1                Santíssimo        45000  ...              120   \n",
              "2        Pedra de Guaratiba        50000  ...              100   \n",
              "4  Recreio dos Bandeirantes        50000  ...              400   \n",
              "5                 Guaratiba        50000  ...                0   \n",
              "\n",
              "  features_bedrooms  features_bathrooms  features_suites  \\\n",
              "0                 0                   0                0   \n",
              "1                 2                   1                0   \n",
              "2                 0                   0                0   \n",
              "4                 3                   2                1   \n",
              "5                 0                   0                0   \n",
              "\n",
              "   features_parkingSpaces  features_usableAreas features_totalAreas  \\\n",
              "0                       1                    62                  62   \n",
              "1                       1                    44                   0   \n",
              "2                       0                   132                 132   \n",
              "4                       1                    60                   0   \n",
              "5                       0                   200                 200   \n",
              "\n",
              "  features_floors  features_unitsOnTheFloor  features_unitFloor  \n",
              "0               0                         0                   0  \n",
              "1               0                         0                   0  \n",
              "2               0                         0                   0  \n",
              "4               3                         4                   2  \n",
              "5               0                         0                   0  \n",
              "\n",
              "[5 rows x 21 columns]"
            ]
          },
          "execution_count": 8,
          "metadata": {},
          "output_type": "execute_result"
        }
      ],
      "source": [
        "filter = (data_prop['types_usage'] == 'Residencial') & (data_prop['address_city'] ==  'Rio de Janeiro')\n",
        "\n",
        "#aplicando o filtro \n",
        "data_prop = data_prop[filter]\n",
        "data_prop.head()"
      ]
    },
    {
      "cell_type": "markdown",
      "metadata": {
        "id": "MiQRemC5jott"
      },
      "source": [
        "### Variable types"
      ]
    },
    {
      "cell_type": "code",
      "execution_count": 9,
      "metadata": {
        "id": "I-BZG6ezjotu"
      },
      "outputs": [
        {
          "name": "stdout",
          "output_type": "stream",
          "text": [
            "<class 'pandas.core.frame.DataFrame'>\n",
            "Index: 69588 entries, 0 to 73614\n",
            "Data columns (total 21 columns):\n",
            " #   Column                    Non-Null Count  Dtype  \n",
            "---  ------                    --------------  -----  \n",
            " 0   customerID                69588 non-null  object \n",
            " 1   source                    69588 non-null  object \n",
            " 2   types_unit                69588 non-null  object \n",
            " 3   types_usage               69588 non-null  object \n",
            " 4   address_city              69588 non-null  object \n",
            " 5   address_location_lon      69449 non-null  float64\n",
            " 6   address_location_lat      69449 non-null  float64\n",
            " 7   address_zone              69588 non-null  object \n",
            " 8   address_neighborhood      69588 non-null  object \n",
            " 9   prices_price              69588 non-null  object \n",
            " 10  prices_tax_iptu           60863 non-null  object \n",
            " 11  prices_tax_condo          63527 non-null  object \n",
            " 12  features_bedrooms         69588 non-null  int64  \n",
            " 13  features_bathrooms        69588 non-null  int64  \n",
            " 14  features_suites           69588 non-null  int64  \n",
            " 15  features_parkingSpaces    69588 non-null  int64  \n",
            " 16  features_usableAreas      69588 non-null  object \n",
            " 17  features_totalAreas       69588 non-null  object \n",
            " 18  features_floors           69588 non-null  int64  \n",
            " 19  features_unitsOnTheFloor  69588 non-null  int64  \n",
            " 20  features_unitFloor        69588 non-null  int64  \n",
            "dtypes: float64(2), int64(7), object(12)\n",
            "memory usage: 11.7+ MB\n"
          ]
        }
      ],
      "source": [
        "data_prop.info()"
      ]
    },
    {
      "cell_type": "markdown",
      "metadata": {
        "id": "hvIqV8S1jotu"
      },
      "source": [
        "exit `.info`\n",
        "\n",
        "> 69588 entries, 0 to 73614\n",
        "\n",
        "We realize that we have to resent the index, so that the information is ordered correctly.\n",
        " "
      ]
    },
    {
      "cell_type": "code",
      "execution_count": 10,
      "metadata": {
        "id": "mjrFeD24jotu"
      },
      "outputs": [],
      "source": [
        "data_prop.reset_index(drop=True, inplace=True)"
      ]
    },
    {
      "cell_type": "code",
      "execution_count": 11,
      "metadata": {
        "id": "nHtAN-MSjotv"
      },
      "outputs": [
        {
          "name": "stdout",
          "output_type": "stream",
          "text": [
            "<class 'pandas.core.frame.DataFrame'>\n",
            "RangeIndex: 69588 entries, 0 to 69587\n",
            "Columns: 21 entries, customerID to features_unitFloor\n",
            "dtypes: float64(2), int64(7), object(12)\n",
            "memory usage: 11.1+ MB\n"
          ]
        }
      ],
      "source": [
        "data_prop.info(verbose=False)"
      ]
    },
    {
      "cell_type": "markdown",
      "metadata": {
        "id": "FK5pkHOFjotv"
      },
      "source": [
        "Now it is correct."
      ]
    },
    {
      "cell_type": "code",
      "execution_count": 12,
      "metadata": {
        "id": "kdfx3P_yjotv"
      },
      "outputs": [
        {
          "name": "stdout",
          "output_type": "stream",
          "text": [
            "<class 'pandas.core.frame.DataFrame'>\n",
            "RangeIndex: 69588 entries, 0 to 69587\n",
            "Data columns (total 21 columns):\n",
            " #   Column                    Non-Null Count  Dtype  \n",
            "---  ------                    --------------  -----  \n",
            " 0   customerID                69588 non-null  object \n",
            " 1   source                    69588 non-null  object \n",
            " 2   types_unit                69588 non-null  object \n",
            " 3   types_usage               69588 non-null  object \n",
            " 4   address_city              69588 non-null  object \n",
            " 5   address_location_lon      69449 non-null  float64\n",
            " 6   address_location_lat      69449 non-null  float64\n",
            " 7   address_zone              69588 non-null  object \n",
            " 8   address_neighborhood      69588 non-null  object \n",
            " 9   prices_price              69588 non-null  float64\n",
            " 10  prices_tax_iptu           60863 non-null  float64\n",
            " 11  prices_tax_condo          63527 non-null  float64\n",
            " 12  features_bedrooms         69588 non-null  int64  \n",
            " 13  features_bathrooms        69588 non-null  int64  \n",
            " 14  features_suites           69588 non-null  int64  \n",
            " 15  features_parkingSpaces    69588 non-null  int64  \n",
            " 16  features_usableAreas      69588 non-null  int64  \n",
            " 17  features_totalAreas       69588 non-null  int64  \n",
            " 18  features_floors           69588 non-null  int64  \n",
            " 19  features_unitsOnTheFloor  69588 non-null  int64  \n",
            " 20  features_unitFloor        69588 non-null  int64  \n",
            "dtypes: float64(5), int64(9), object(7)\n",
            "memory usage: 11.1+ MB\n"
          ]
        }
      ],
      "source": [
        "data_prop = data_prop.astype({\n",
        "    'prices_price': 'float64',\n",
        "    'prices_tax_iptu': 'float64',\n",
        "    'prices_tax_condo':'float64',\n",
        "    'features_usableAreas':'int64',\n",
        "    'features_totalAreas':'int64',\n",
        "    \n",
        "})\n",
        "data_prop.info()"
      ]
    },
    {
      "cell_type": "markdown",
      "metadata": {
        "id": "ZQZNqAgJjot2"
      },
      "source": [
        "## 1.5 - Final data processing"
      ]
    },
    {
      "cell_type": "markdown",
      "metadata": {
        "id": "kvIsnpG0jotw"
      },
      "source": [
        "### Dealing with null data"
      ]
    },
    {
      "cell_type": "markdown",
      "metadata": {
        "id": "yaysvPw2jotw"
      },
      "source": [
        "#### Data null zone"
      ]
    },
    {
      "cell_type": "code",
      "execution_count": 13,
      "metadata": {
        "id": "MN9Pci0_jotw"
      },
      "outputs": [
        {
          "data": {
            "text/plain": [
              "address_zone\n",
              "Zona Oeste      35523\n",
              "Zona Sul        18535\n",
              "Zona Norte      14379\n",
              "Zona Central     1002\n",
              "                  149\n",
              "Name: count, dtype: int64"
            ]
          },
          "execution_count": 13,
          "metadata": {},
          "output_type": "execute_result"
        }
      ],
      "source": [
        "data_prop.address_zone.value_counts()"
      ]
    },
    {
      "cell_type": "code",
      "execution_count": 14,
      "metadata": {
        "id": "s2PoMPrNjotw"
      },
      "outputs": [],
      "source": [
        "data_prop['address_zone'] = data_prop['address_zone'].replace('', np.nan)"
      ]
    },
    {
      "cell_type": "code",
      "execution_count": 15,
      "metadata": {
        "id": "lRRIa3M5jotx"
      },
      "outputs": [
        {
          "data": {
            "text/plain": [
              "149"
            ]
          },
          "execution_count": 15,
          "metadata": {},
          "output_type": "execute_result"
        }
      ],
      "source": [
        "data_prop.address_zone.isnull().sum()"
      ]
    },
    {
      "cell_type": "code",
      "execution_count": 16,
      "metadata": {
        "id": "eiNv690Fjotx"
      },
      "outputs": [
        {
          "name": "stdout",
          "output_type": "stream",
          "text": [
            "[{'customerID': '775564-BOJSMVON', 'source': 'Website', 'types_unit': 'Outros', 'types_usage': 'Residencial', 'address_city': 'Rio de Janeiro', 'address_location_lon': -43.413557, 'address_location_lat': -22.909429, 'address_zone': 'Zona Oeste', 'address_neighborhood': 'Taquara', 'prices_price': 45000.0, 'prices_tax_iptu': 0.0, 'prices_tax_condo': 150.0, 'features_bedrooms': 0, 'features_bathrooms': 0, 'features_suites': 0, 'features_parkingSpaces': 1, 'features_usableAreas': 62, 'features_totalAreas': 62, 'features_floors': 0, 'features_unitsOnTheFloor': 0, 'features_unitFloor': 0}, {'customerID': '660895-AUENKNYY', 'source': 'Website', 'types_unit': 'Apartamento', 'types_usage': 'Residencial', 'address_city': 'Rio de Janeiro', 'address_location_lon': -43.509141, 'address_location_lat': -22.869698, 'address_zone': 'Zona Oeste', 'address_neighborhood': 'Santíssimo', 'prices_price': 45000.0, 'prices_tax_iptu': 0.0, 'prices_tax_condo': 120.0, 'features_bedrooms': 2, 'features_bathrooms': 1, 'features_suites': 0, 'features_parkingSpaces': 1, 'features_usableAreas': 44, 'features_totalAreas': 0, 'features_floors': 0, 'features_unitsOnTheFloor': 0, 'features_unitFloor': 0}, {'customerID': '751522-JESYFEQL', 'source': 'Website', 'types_unit': 'Outros', 'types_usage': 'Residencial', 'address_city': 'Rio de Janeiro', 'address_location_lon': -43.646786, 'address_location_lat': -22.986927, 'address_zone': 'Zona Oeste', 'address_neighborhood': 'Pedra de Guaratiba', 'prices_price': 50000.0, 'prices_tax_iptu': 0.0, 'prices_tax_condo': 100.0, 'features_bedrooms': 0, 'features_bathrooms': 0, 'features_suites': 0, 'features_parkingSpaces': 0, 'features_usableAreas': 132, 'features_totalAreas': 132, 'features_floors': 0, 'features_unitsOnTheFloor': 0, 'features_unitFloor': 0}, {'customerID': '568886-ZIBFOMCC', 'source': 'Website', 'types_unit': 'Apartamento', 'types_usage': 'Residencial', 'address_city': 'Rio de Janeiro', 'address_location_lon': -43.480742, 'address_location_lat': -23.027653, 'address_zone': 'Zona Oeste', 'address_neighborhood': 'Recreio dos Bandeirantes', 'prices_price': 50000.0, 'prices_tax_iptu': 120.0, 'prices_tax_condo': 400.0, 'features_bedrooms': 3, 'features_bathrooms': 2, 'features_suites': 1, 'features_parkingSpaces': 1, 'features_usableAreas': 60, 'features_totalAreas': 0, 'features_floors': 3, 'features_unitsOnTheFloor': 4, 'features_unitFloor': 2}, {'customerID': '526755-OBLTYTEN', 'source': 'Website', 'types_unit': 'Outros', 'types_usage': 'Residencial', 'address_city': 'Rio de Janeiro', 'address_location_lon': -43.571183, 'address_location_lat': -22.966059, 'address_zone': 'Zona Oeste', 'address_neighborhood': 'Guaratiba', 'prices_price': 50000.0, 'prices_tax_iptu': nan, 'prices_tax_condo': 0.0, 'features_bedrooms': 0, 'features_bathrooms': 0, 'features_suites': 0, 'features_parkingSpaces': 0, 'features_usableAreas': 200, 'features_totalAreas': 200, 'features_floors': 0, 'features_unitsOnTheFloor': 0, 'features_unitFloor': 0}, {'customerID': '792086-NWNQTDYL', 'source': 'Website', 'types_unit': 'Apartamento', 'types_usage': 'Residencial', 'address_city': 'Rio de Janeiro', 'address_location_lon': -43.253044, 'address_location_lat': -22.885306, 'address_zone': 'Zona Norte', 'address_neighborhood': 'Jacarezinho', 'prices_price': 45336.0, 'prices_tax_iptu': 0.0, 'prices_tax_condo': 0.0, 'features_bedrooms': 1, 'features_bathrooms': 1, 'features_suites': 0, 'features_parkingSpaces': 1, 'features_usableAreas': 33, 'features_totalAreas': 35, 'features_floors': 0, 'features_unitsOnTheFloor': 0, 'features_unitFloor': 0}, {'customerID': '952338-SVULQMXR', 'source': 'Website', 'types_unit': 'Outros', 'types_usage': 'Residencial', 'address_city': 'Rio de Janeiro', 'address_location_lon': -43.651456, 'address_location_lat': -22.877982, 'address_zone': 'Zona Oeste', 'address_neighborhood': 'Santa Cruz', 'prices_price': 45000.0, 'prices_tax_iptu': 0.0, 'prices_tax_condo': 0.0, 'features_bedrooms': 0, 'features_bathrooms': 0, 'features_suites': 0, 'features_parkingSpaces': 0, 'features_usableAreas': 468, 'features_totalAreas': 468, 'features_floors': 0, 'features_unitsOnTheFloor': 0, 'features_unitFloor': 0}, {'customerID': '570439-LDICQOXZ', 'source': 'Website', 'types_unit': 'Outros', 'types_usage': 'Residencial', 'address_city': 'Rio de Janeiro', 'address_location_lon': -43.504337, 'address_location_lat': -22.998183, 'address_zone': 'Zona Oeste', 'address_neighborhood': 'Vargem Grande', 'prices_price': 50000.0, 'prices_tax_iptu': 0.0, 'prices_tax_condo': 0.0, 'features_bedrooms': 0, 'features_bathrooms': 0, 'features_suites': 0, 'features_parkingSpaces': 0, 'features_usableAreas': 180, 'features_totalAreas': 180, 'features_floors': 0, 'features_unitsOnTheFloor': 0, 'features_unitFloor': 1}, {'customerID': '684023-YTBNKLLO', 'source': 'Website', 'types_unit': 'Outros', 'types_usage': 'Residencial', 'address_city': 'Rio de Janeiro', 'address_location_lon': -43.512464, 'address_location_lat': -22.843794, 'address_zone': 'Zona Oeste', 'address_neighborhood': 'Bangu', 'prices_price': 50000.0, 'prices_tax_iptu': 0.0, 'prices_tax_condo': 0.0, 'features_bedrooms': 0, 'features_bathrooms': 0, 'features_suites': 0, 'features_parkingSpaces': 0, 'features_usableAreas': 128, 'features_totalAreas': 128, 'features_floors': 0, 'features_unitsOnTheFloor': 0, 'features_unitFloor': 0}, {'customerID': '629412-VKUMMAVR', 'source': 'Website', 'types_unit': 'Outros', 'types_usage': 'Residencial', 'address_city': 'Rio de Janeiro', 'address_location_lon': -43.37182, 'address_location_lat': -22.91077, 'address_zone': 'Zona Oeste', 'address_neighborhood': 'Tanque', 'prices_price': 45000.0, 'prices_tax_iptu': 0.0, 'prices_tax_condo': 300.0, 'features_bedrooms': 0, 'features_bathrooms': 0, 'features_suites': 0, 'features_parkingSpaces': 0, 'features_usableAreas': 82, 'features_totalAreas': 82, 'features_floors': 0, 'features_unitsOnTheFloor': 0, 'features_unitFloor': 1}, {'customerID': '951104-MACIAPIS', 'source': 'Website', 'types_unit': 'Apartamento', 'types_usage': 'Residencial', 'address_city': 'Rio de Janeiro', 'address_location_lon': -43.201575, 'address_location_lat': -22.897014, 'address_zone': 'Zona Central', 'address_neighborhood': 'Santo Cristo', 'prices_price': 45000.0, 'prices_tax_iptu': 120.0, 'prices_tax_condo': 350.0, 'features_bedrooms': 3, 'features_bathrooms': 2, 'features_suites': 1, 'features_parkingSpaces': 1, 'features_usableAreas': 70, 'features_totalAreas': 0, 'features_floors': 20, 'features_unitsOnTheFloor': 19, 'features_unitFloor': 20}, {'customerID': '037953-VZOABKON', 'source': 'Website', 'types_unit': 'Apartamento', 'types_usage': 'Residencial', 'address_city': 'Rio de Janeiro', 'address_location_lon': -43.349937, 'address_location_lat': -22.826422, 'address_zone': 'Zona Norte', 'address_neighborhood': 'Coelho Neto', 'prices_price': 45000.0, 'prices_tax_iptu': 0.0, 'prices_tax_condo': nan, 'features_bedrooms': 2, 'features_bathrooms': 1, 'features_suites': 0, 'features_parkingSpaces': 1, 'features_usableAreas': 30, 'features_totalAreas': 38, 'features_floors': 0, 'features_unitsOnTheFloor': 0, 'features_unitFloor': 0}, {'customerID': '076685-DTBPTHTT', 'source': 'Website', 'types_unit': 'Outros', 'types_usage': 'Residencial', 'address_city': 'Rio de Janeiro', 'address_location_lon': -43.360071, 'address_location_lat': -22.870156, 'address_zone': 'Zona Norte', 'address_neighborhood': 'Bento Ribeiro', 'prices_price': 50000.0, 'prices_tax_iptu': 0.0, 'prices_tax_condo': 0.0, 'features_bedrooms': 1, 'features_bathrooms': 1, 'features_suites': 1, 'features_parkingSpaces': 0, 'features_usableAreas': 45, 'features_totalAreas': 45, 'features_floors': 0, 'features_unitsOnTheFloor': 0, 'features_unitFloor': 3}, {'customerID': '524997-BJRFHJFA', 'source': 'Website', 'types_unit': 'Outros', 'types_usage': 'Residencial', 'address_city': 'Rio de Janeiro', 'address_location_lon': -43.573923, 'address_location_lat': -22.928984, 'address_zone': 'Zona Oeste', 'address_neighborhood': 'Campo Grande', 'prices_price': 45000.0, 'prices_tax_iptu': 150.0, 'prices_tax_condo': 0.0, 'features_bedrooms': 0, 'features_bathrooms': 0, 'features_suites': 0, 'features_parkingSpaces': 0, 'features_usableAreas': 0, 'features_totalAreas': 0, 'features_floors': 0, 'features_unitsOnTheFloor': 0, 'features_unitFloor': 0}, {'customerID': '808989-TTALJSQZ', 'source': 'Website', 'types_unit': 'Outros', 'types_usage': 'Residencial', 'address_city': 'Rio de Janeiro', 'address_location_lon': -43.35335, 'address_location_lat': -22.873057, 'address_zone': 'Zona Norte', 'address_neighborhood': 'Oswaldo Cruz', 'prices_price': 50000.0, 'prices_tax_iptu': 1.0, 'prices_tax_condo': 1.0, 'features_bedrooms': 1, 'features_bathrooms': 1, 'features_suites': 0, 'features_parkingSpaces': 0, 'features_usableAreas': 40, 'features_totalAreas': 40, 'features_floors': 0, 'features_unitsOnTheFloor': 0, 'features_unitFloor': 0}, {'customerID': '315170-FHAZXKXI', 'source': 'Website', 'types_unit': 'Apartamento', 'types_usage': 'Residencial', 'address_city': 'Rio de Janeiro', 'address_location_lon': -43.428833, 'address_location_lat': -22.984799, 'address_zone': 'Zona Oeste', 'address_neighborhood': 'Camorim', 'prices_price': 50000.0, 'prices_tax_iptu': 0.0, 'prices_tax_condo': 0.0, 'features_bedrooms': 2, 'features_bathrooms': 1, 'features_suites': 0, 'features_parkingSpaces': 0, 'features_usableAreas': 60, 'features_totalAreas': 60, 'features_floors': 0, 'features_unitsOnTheFloor': 0, 'features_unitFloor': 0}, {'customerID': '597728-IAGBYKUE', 'source': 'Website', 'types_unit': 'Outros', 'types_usage': 'Residencial', 'address_city': 'Rio de Janeiro', 'address_location_lon': -43.695709, 'address_location_lat': -22.969253, 'address_zone': 'Zona Oeste', 'address_neighborhood': 'Sepetiba', 'prices_price': 45000.0, 'prices_tax_iptu': 0.0, 'prices_tax_condo': 0.0, 'features_bedrooms': 0, 'features_bathrooms': 0, 'features_suites': 0, 'features_parkingSpaces': 0, 'features_usableAreas': 0, 'features_totalAreas': 0, 'features_floors': 0, 'features_unitsOnTheFloor': 0, 'features_unitFloor': 0}, {'customerID': '837728-ZTMXBNLS', 'source': 'Website', 'types_unit': 'Apartamento', 'types_usage': 'Residencial', 'address_city': 'Rio de Janeiro', 'address_location_lon': -43.302529, 'address_location_lat': -22.815365, 'address_zone': 'Zona Norte', 'address_neighborhood': 'Vigário Geral', 'prices_price': 60000.0, 'prices_tax_iptu': 0.0, 'prices_tax_condo': 0.0, 'features_bedrooms': 2, 'features_bathrooms': 1, 'features_suites': 0, 'features_parkingSpaces': 0, 'features_usableAreas': 72, 'features_totalAreas': 0, 'features_floors': 0, 'features_unitsOnTheFloor': 0, 'features_unitFloor': 0}, {'customerID': '078122-LOOOLWOV', 'source': 'Website', 'types_unit': 'Casa', 'types_usage': 'Residencial', 'address_city': 'Rio de Janeiro', 'address_location_lon': -43.344722, 'address_location_lat': -22.888556, 'address_zone': 'Zona Norte', 'address_neighborhood': 'Campinho', 'prices_price': 50250.0, 'prices_tax_iptu': 0.0, 'prices_tax_condo': 0.0, 'features_bedrooms': 3, 'features_bathrooms': 1, 'features_suites': 2, 'features_parkingSpaces': 2, 'features_usableAreas': 105, 'features_totalAreas': 120, 'features_floors': 0, 'features_unitsOnTheFloor': 0, 'features_unitFloor': 1}, {'customerID': '366507-AJJVGRXY', 'source': 'Website', 'types_unit': 'Casa', 'types_usage': 'Residencial', 'address_city': 'Rio de Janeiro', 'address_location_lon': -43.415601, 'address_location_lat': -22.882122, 'address_zone': 'Zona Oeste', 'address_neighborhood': 'Realengo', 'prices_price': 60000.0, 'prices_tax_iptu': 0.0, 'prices_tax_condo': 0.0, 'features_bedrooms': 2, 'features_bathrooms': 1, 'features_suites': 0, 'features_parkingSpaces': 0, 'features_usableAreas': 110, 'features_totalAreas': 0, 'features_floors': 0, 'features_unitsOnTheFloor': 0, 'features_unitFloor': 0}, {'customerID': '597650-DPPRERLT', 'source': 'Website', 'types_unit': 'Casa', 'types_usage': 'Residencial', 'address_city': 'Rio de Janeiro', 'address_location_lon': -43.384838, 'address_location_lat': -22.936227, 'address_zone': 'Zona Oeste', 'address_neighborhood': 'Jacarepaguá', 'prices_price': 60000.0, 'prices_tax_iptu': 0.0, 'prices_tax_condo': 0.0, 'features_bedrooms': 2, 'features_bathrooms': 2, 'features_suites': 0, 'features_parkingSpaces': 0, 'features_usableAreas': 70, 'features_totalAreas': 0, 'features_floors': 3, 'features_unitsOnTheFloor': 1, 'features_unitFloor': 3}, {'customerID': '700359-CRHVVJAG', 'source': 'Website', 'types_unit': 'Apartamento', 'types_usage': 'Residencial', 'address_city': 'Rio de Janeiro', 'address_location_lon': -43.362406, 'address_location_lat': -22.943739, 'address_zone': 'Zona Oeste', 'address_neighborhood': 'Cidade de Deus', 'prices_price': 59900.0, 'prices_tax_iptu': nan, 'prices_tax_condo': 70.0, 'features_bedrooms': 1, 'features_bathrooms': 1, 'features_suites': 0, 'features_parkingSpaces': 1, 'features_usableAreas': 35, 'features_totalAreas': 35, 'features_floors': 2, 'features_unitsOnTheFloor': 0, 'features_unitFloor': 2}, {'customerID': '027496-AAXNHOTM', 'source': 'Website', 'types_unit': 'Casa', 'types_usage': 'Residencial', 'address_city': 'Rio de Janeiro', 'address_location_lon': -43.35646, 'address_location_lat': -22.843824, 'address_zone': 'Zona Norte', 'address_neighborhood': 'Honório Gurgel', 'prices_price': 60000.0, 'prices_tax_iptu': 0.0, 'prices_tax_condo': nan, 'features_bedrooms': 1, 'features_bathrooms': 1, 'features_suites': 0, 'features_parkingSpaces': 0, 'features_usableAreas': 50, 'features_totalAreas': 50, 'features_floors': 0, 'features_unitsOnTheFloor': 0, 'features_unitFloor': 0}, {'customerID': '746672-ORGYUCGY', 'source': 'Website', 'types_unit': 'Apartamento', 'types_usage': 'Residencial', 'address_city': 'Rio de Janeiro', 'address_location_lon': -43.187231, 'address_location_lat': -22.906049, 'address_zone': 'Zona Central', 'address_neighborhood': 'Centro', 'prices_price': 60000.0, 'prices_tax_iptu': 0.0, 'prices_tax_condo': 600.0, 'features_bedrooms': 0, 'features_bathrooms': 1, 'features_suites': 0, 'features_parkingSpaces': 0, 'features_usableAreas': 19, 'features_totalAreas': 0, 'features_floors': 12, 'features_unitsOnTheFloor': 0, 'features_unitFloor': 3}, {'customerID': '033467-BKAXBNVM', 'source': 'Website', 'types_unit': 'Apartamento', 'types_usage': 'Residencial', 'address_city': 'Rio de Janeiro', 'address_location_lon': -43.62963, 'address_location_lat': -22.88773, 'address_zone': 'Zona Oeste', 'address_neighborhood': 'Cosmos', 'prices_price': 64968.0, 'prices_tax_iptu': 0.0, 'prices_tax_condo': 0.0, 'features_bedrooms': 2, 'features_bathrooms': 1, 'features_suites': 0, 'features_parkingSpaces': 0, 'features_usableAreas': 42, 'features_totalAreas': 0, 'features_floors': 0, 'features_unitsOnTheFloor': 0, 'features_unitFloor': 0}, {'customerID': '322557-ASMFHPLM', 'source': 'Website', 'types_unit': 'Apartamento', 'types_usage': 'Residencial', 'address_city': 'Rio de Janeiro', 'address_location_lon': -43.303957, 'address_location_lat': -22.869196, 'address_zone': 'Zona Norte', 'address_neighborhood': 'Tomás Coelho', 'prices_price': 70000.0, 'prices_tax_iptu': 32.0, 'prices_tax_condo': 300.0, 'features_bedrooms': 2, 'features_bathrooms': 1, 'features_suites': 0, 'features_parkingSpaces': 1, 'features_usableAreas': 60, 'features_totalAreas': 60, 'features_floors': 4, 'features_unitsOnTheFloor': 4, 'features_unitFloor': 1}, {'customerID': '262188-OVYTDJCH', 'source': 'Website', 'types_unit': 'Apartamento', 'types_usage': 'Residencial', 'address_city': 'Rio de Janeiro', 'address_location_lon': -43.324988, 'address_location_lat': -22.885805, 'address_zone': 'Zona Norte', 'address_neighborhood': 'Cascadura', 'prices_price': 70000.0, 'prices_tax_iptu': 0.0, 'prices_tax_condo': nan, 'features_bedrooms': 2, 'features_bathrooms': 2, 'features_suites': 0, 'features_parkingSpaces': 0, 'features_usableAreas': 34, 'features_totalAreas': 34, 'features_floors': 0, 'features_unitsOnTheFloor': 0, 'features_unitFloor': 0}, {'customerID': '864441-VOKAUJKK', 'source': 'Website', 'types_unit': 'Apartamento', 'types_usage': 'Residencial', 'address_city': 'Rio de Janeiro', 'address_location_lon': -43.376953, 'address_location_lat': -22.81583, 'address_zone': 'Zona Norte', 'address_neighborhood': 'Pavuna', 'prices_price': 65000.0, 'prices_tax_iptu': 0.0, 'prices_tax_condo': 250.0, 'features_bedrooms': 2, 'features_bathrooms': 1, 'features_suites': 0, 'features_parkingSpaces': 1, 'features_usableAreas': 55, 'features_totalAreas': 0, 'features_floors': 4, 'features_unitsOnTheFloor': 0, 'features_unitFloor': 0}, {'customerID': '530165-ZGXJPOYI', 'source': 'Website', 'types_unit': 'Apartamento', 'types_usage': 'Residencial', 'address_city': 'Rio de Janeiro', 'address_location_lon': -43.630792, 'address_location_lat': -22.882398, 'address_zone': 'Zona Oeste', 'address_neighborhood': 'Paciência', 'prices_price': 70000.0, 'prices_tax_iptu': 0.0, 'prices_tax_condo': 95.0, 'features_bedrooms': 2, 'features_bathrooms': 1, 'features_suites': 0, 'features_parkingSpaces': 1, 'features_usableAreas': 40, 'features_totalAreas': 40, 'features_floors': 5, 'features_unitsOnTheFloor': 4, 'features_unitFloor': 0}, {'customerID': '200345-XTAQVQMM', 'source': 'Website', 'types_unit': 'Apartamento', 'types_usage': 'Residencial', 'address_city': 'Rio de Janeiro', 'address_location_lon': -43.345745, 'address_location_lat': -22.903359, 'address_zone': 'Zona Oeste', 'address_neighborhood': 'Praça Seca', 'prices_price': 65000.0, 'prices_tax_iptu': nan, 'prices_tax_condo': 275.0, 'features_bedrooms': 1, 'features_bathrooms': 1, 'features_suites': 0, 'features_parkingSpaces': 1, 'features_usableAreas': 30, 'features_totalAreas': 30, 'features_floors': 0, 'features_unitsOnTheFloor': 0, 'features_unitFloor': 0}, {'customerID': '767954-LNRQNJHN', 'source': 'Website', 'types_unit': 'Apartamento', 'types_usage': 'Residencial', 'address_city': 'Rio de Janeiro', 'address_location_lon': -43.364735, 'address_location_lat': -22.89446, 'address_zone': 'Zona Oeste', 'address_neighborhood': 'Vila Valqueire', 'prices_price': 65000.0, 'prices_tax_iptu': nan, 'prices_tax_condo': nan, 'features_bedrooms': 1, 'features_bathrooms': 1, 'features_suites': 0, 'features_parkingSpaces': 0, 'features_usableAreas': 48, 'features_totalAreas': 48, 'features_floors': 0, 'features_unitsOnTheFloor': 0, 'features_unitFloor': 0}, {'customerID': '163202-SKWHNBJO', 'source': 'Website', 'types_unit': 'Apartamento', 'types_usage': 'Residencial', 'address_city': 'Rio de Janeiro', 'address_location_lon': -43.583425, 'address_location_lat': -22.912013, 'address_zone': 'Zona Oeste', 'address_neighborhood': 'Inhoaíba', 'prices_price': 65000.0, 'prices_tax_iptu': 0.0, 'prices_tax_condo': 0.0, 'features_bedrooms': 2, 'features_bathrooms': 1, 'features_suites': 0, 'features_parkingSpaces': 1, 'features_usableAreas': 43, 'features_totalAreas': 0, 'features_floors': 0, 'features_unitsOnTheFloor': 0, 'features_unitFloor': 0}, {'customerID': '483218-QIPTUQMZ', 'source': 'Website', 'types_unit': 'Apartamento', 'types_usage': 'Residencial', 'address_city': 'Rio de Janeiro', 'address_location_lon': -43.31462, 'address_location_lat': -22.85625, 'address_zone': 'Zona Norte', 'address_neighborhood': 'Vicente de Carvalho', 'prices_price': 70000.0, 'prices_tax_iptu': 0.0, 'prices_tax_condo': 0.0, 'features_bedrooms': 1, 'features_bathrooms': 1, 'features_suites': 0, 'features_parkingSpaces': 0, 'features_usableAreas': 42, 'features_totalAreas': 42, 'features_floors': 0, 'features_unitsOnTheFloor': 0, 'features_unitFloor': 0}, {'customerID': '949715-ODFLQCYM', 'source': 'Website', 'types_unit': 'Casa', 'types_usage': 'Residencial', 'address_city': 'Rio de Janeiro', 'address_location_lon': -43.53603, 'address_location_lat': -22.894516, 'address_zone': 'Zona Oeste', 'address_neighborhood': 'Senador Vasconcelos', 'prices_price': 70000.0, 'prices_tax_iptu': 0.0, 'prices_tax_condo': 0.0, 'features_bedrooms': 1, 'features_bathrooms': 1, 'features_suites': 0, 'features_parkingSpaces': 0, 'features_usableAreas': 45, 'features_totalAreas': 65, 'features_floors': 0, 'features_unitsOnTheFloor': 0, 'features_unitFloor': 0}, {'customerID': '180611-HKKHHKXG', 'source': 'Website', 'types_unit': 'Apartamento', 'types_usage': 'Residencial', 'address_city': 'Rio de Janeiro', 'address_location_lon': -43.340632, 'address_location_lat': -22.858242, 'address_zone': 'Zona Norte', 'address_neighborhood': 'Turiaçu', 'prices_price': 73952.0, 'prices_tax_iptu': 0.0, 'prices_tax_condo': 0.0, 'features_bedrooms': 2, 'features_bathrooms': 1, 'features_suites': 0, 'features_parkingSpaces': 0, 'features_usableAreas': 49, 'features_totalAreas': 0, 'features_floors': 0, 'features_unitsOnTheFloor': 0, 'features_unitFloor': 3}, {'customerID': '581194-RTJNKZGX', 'source': 'Website', 'types_unit': 'Apartamento', 'types_usage': 'Residencial', 'address_city': 'Rio de Janeiro', 'address_location_lon': -43.287576, 'address_location_lat': -22.837859, 'address_zone': 'Zona Norte', 'address_neighborhood': 'Penha Circular', 'prices_price': 75000.0, 'prices_tax_iptu': 0.0, 'prices_tax_condo': 350.0, 'features_bedrooms': 2, 'features_bathrooms': 1, 'features_suites': 0, 'features_parkingSpaces': 0, 'features_usableAreas': 75, 'features_totalAreas': 75, 'features_floors': 0, 'features_unitsOnTheFloor': 0, 'features_unitFloor': 4}, {'customerID': '603828-PMOQKWHE', 'source': 'Website', 'types_unit': 'Apartamento', 'types_usage': 'Residencial', 'address_city': 'Rio de Janeiro', 'address_location_lon': -43.319648, 'address_location_lat': -22.895935, 'address_zone': 'Zona Norte', 'address_neighborhood': 'Quintino Bocaiúva', 'prices_price': 75000.0, 'prices_tax_iptu': 0.0, 'prices_tax_condo': 0.0, 'features_bedrooms': 1, 'features_bathrooms': 1, 'features_suites': 0, 'features_parkingSpaces': 1, 'features_usableAreas': 55, 'features_totalAreas': 55, 'features_floors': 2, 'features_unitsOnTheFloor': 1, 'features_unitFloor': 0}, {'customerID': '781886-BKWQWOUK', 'source': 'Website', 'types_unit': 'Apartamento', 'types_usage': 'Residencial', 'address_city': 'Rio de Janeiro', 'address_location_lon': -43.261999, 'address_location_lat': -22.901417, 'address_zone': 'Zona Norte', 'address_neighborhood': 'Sampaio', 'prices_price': 75000.0, 'prices_tax_iptu': 0.0, 'prices_tax_condo': 0.0, 'features_bedrooms': 2, 'features_bathrooms': 1, 'features_suites': 0, 'features_parkingSpaces': 0, 'features_usableAreas': 65, 'features_totalAreas': 65, 'features_floors': 0, 'features_unitsOnTheFloor': 0, 'features_unitFloor': 0}, {'customerID': '589782-TPCRCISK', 'source': 'Website', 'types_unit': 'Apartamento', 'types_usage': 'Residencial', 'address_city': 'Rio de Janeiro', 'address_location_lon': -43.310236, 'address_location_lat': -22.885478, 'address_zone': 'Zona Norte', 'address_neighborhood': 'Piedade', 'prices_price': 79580.0, 'prices_tax_iptu': 64.0, 'prices_tax_condo': 180.0, 'features_bedrooms': 1, 'features_bathrooms': 1, 'features_suites': 0, 'features_parkingSpaces': 0, 'features_usableAreas': 26, 'features_totalAreas': 26, 'features_floors': 3, 'features_unitsOnTheFloor': 27, 'features_unitFloor': 3}, {'customerID': '869146-NQCRYADE', 'source': 'Website', 'types_unit': 'Apartamento', 'types_usage': 'Residencial', 'address_city': 'Rio de Janeiro', 'address_location_lon': -43.300698, 'address_location_lat': -22.835584, 'address_zone': 'Zona Norte', 'address_neighborhood': 'Braz de Pina', 'prices_price': 75000.0, 'prices_tax_iptu': 0.0, 'prices_tax_condo': 60.0, 'features_bedrooms': 2, 'features_bathrooms': 1, 'features_suites': 0, 'features_parkingSpaces': 1, 'features_usableAreas': 40, 'features_totalAreas': 40, 'features_floors': 0, 'features_unitsOnTheFloor': 0, 'features_unitFloor': 5}, {'customerID': '493557-TPVGRKVH', 'source': 'Website', 'types_unit': 'Outros', 'types_usage': 'Residencial', 'address_city': 'Rio de Janeiro', 'address_location_lon': -43.219029, 'address_location_lat': -22.892591, 'address_zone': 'Zona Norte', 'address_neighborhood': 'São Cristóvão', 'prices_price': 78000.0, 'prices_tax_iptu': 0.0, 'prices_tax_condo': 0.0, 'features_bedrooms': 0, 'features_bathrooms': 0, 'features_suites': 0, 'features_parkingSpaces': 0, 'features_usableAreas': 4, 'features_totalAreas': 4, 'features_floors': 0, 'features_unitsOnTheFloor': 0, 'features_unitFloor': 0}, {'customerID': '328969-JBLENNEA', 'source': 'Website', 'types_unit': 'Outros', 'types_usage': 'Residencial', 'address_city': 'Rio de Janeiro', 'address_location_lon': -43.362711, 'address_location_lat': -22.85344, 'address_zone': 'Zona Norte', 'address_neighborhood': 'Marechal Hermes', 'prices_price': 79990.0, 'prices_tax_iptu': 0.0, 'prices_tax_condo': 0.0, 'features_bedrooms': 0, 'features_bathrooms': 0, 'features_suites': 0, 'features_parkingSpaces': 0, 'features_usableAreas': 800, 'features_totalAreas': 800, 'features_floors': 0, 'features_unitsOnTheFloor': 0, 'features_unitFloor': 0}, {'customerID': '518254-URWPXPFG', 'source': 'Website', 'types_unit': 'Apartamento', 'types_usage': 'Residencial', 'address_city': 'Rio de Janeiro', 'address_location_lon': -43.189661, 'address_location_lat': -22.914738, 'address_zone': 'Zona Sul', 'address_neighborhood': 'Santa Teresa', 'prices_price': 75000.0, 'prices_tax_iptu': 0.0, 'prices_tax_condo': 0.0, 'features_bedrooms': 1, 'features_bathrooms': 1, 'features_suites': 0, 'features_parkingSpaces': 0, 'features_usableAreas': 23, 'features_totalAreas': 0, 'features_floors': 0, 'features_unitsOnTheFloor': 0, 'features_unitFloor': 0}, {'customerID': '515657-YDYQWQPX', 'source': 'Website', 'types_unit': 'Apartamento', 'types_usage': 'Residencial', 'address_city': 'Rio de Janeiro', 'address_location_lon': -43.254609, 'address_location_lat': -22.913919, 'address_zone': 'Zona Norte', 'address_neighborhood': 'Vila Isabel', 'prices_price': 74999.0, 'prices_tax_iptu': 0.0, 'prices_tax_condo': 0.0, 'features_bedrooms': 2, 'features_bathrooms': 1, 'features_suites': 0, 'features_parkingSpaces': 0, 'features_usableAreas': 50, 'features_totalAreas': 50, 'features_floors': 0, 'features_unitsOnTheFloor': 0, 'features_unitFloor': 0}, {'customerID': '451415-RIRHVATI', 'source': 'Website', 'types_unit': 'Apartamento', 'types_usage': 'Residencial', 'address_city': 'Rio de Janeiro', 'address_location_lon': -43.384365, 'address_location_lat': -22.949155, 'address_zone': 'Zona Oeste', 'address_neighborhood': 'Curicica', 'prices_price': 80000.0, 'prices_tax_iptu': 0.0, 'prices_tax_condo': nan, 'features_bedrooms': 1, 'features_bathrooms': 1, 'features_suites': 0, 'features_parkingSpaces': 0, 'features_usableAreas': 40, 'features_totalAreas': 40, 'features_floors': 0, 'features_unitsOnTheFloor': 0, 'features_unitFloor': 0}, {'customerID': '209729-DGDQEWIY', 'source': 'Website', 'types_unit': 'Apartamento', 'types_usage': 'Residencial', 'address_city': 'Rio de Janeiro', 'address_location_lon': -43.297569, 'address_location_lat': -22.892418, 'address_zone': 'Zona Norte', 'address_neighborhood': 'Engenho de Dentro', 'prices_price': 81230.0, 'prices_tax_iptu': 100.0, 'prices_tax_condo': 100.0, 'features_bedrooms': 2, 'features_bathrooms': 1, 'features_suites': 0, 'features_parkingSpaces': 1, 'features_usableAreas': 46, 'features_totalAreas': 46, 'features_floors': 11, 'features_unitsOnTheFloor': 8, 'features_unitFloor': 2}, {'customerID': '199199-ZUCTRMGC', 'source': 'Website', 'types_unit': 'Apartamento', 'types_usage': 'Residencial', 'address_city': 'Rio de Janeiro', 'address_location_lon': -43.296072, 'address_location_lat': -22.866831, 'address_zone': 'Zona Norte', 'address_neighborhood': 'Engenho da Rainha', 'prices_price': 90000.0, 'prices_tax_iptu': 100.0, 'prices_tax_condo': 236.0, 'features_bedrooms': 1, 'features_bathrooms': 1, 'features_suites': 0, 'features_parkingSpaces': 1, 'features_usableAreas': 35, 'features_totalAreas': 35, 'features_floors': 4, 'features_unitsOnTheFloor': 4, 'features_unitFloor': 3}, {'customerID': '574134-CMBLYFPE', 'source': 'Website', 'types_unit': 'Apartamento', 'types_usage': 'Residencial', 'address_city': 'Rio de Janeiro', 'address_location_lon': -43.330107, 'address_location_lat': -22.860275, 'address_zone': 'Zona Norte', 'address_neighborhood': 'Madureira', 'prices_price': 90000.0, 'prices_tax_iptu': 0.0, 'prices_tax_condo': 0.0, 'features_bedrooms': 2, 'features_bathrooms': 1, 'features_suites': 0, 'features_parkingSpaces': 0, 'features_usableAreas': 59, 'features_totalAreas': 0, 'features_floors': 0, 'features_unitsOnTheFloor': 0, 'features_unitFloor': 0}, {'customerID': '376135-CMOSQLMU', 'source': 'Website', 'types_unit': 'Apartamento', 'types_usage': 'Residencial', 'address_city': 'Rio de Janeiro', 'address_location_lon': -43.272368, 'address_location_lat': -22.906776999999998, 'address_zone': 'Zona Norte', 'address_neighborhood': 'Engenho Novo', 'prices_price': 90000.0, 'prices_tax_iptu': 0.0, 'prices_tax_condo': 320.0, 'features_bedrooms': 1, 'features_bathrooms': 1, 'features_suites': 0, 'features_parkingSpaces': 0, 'features_usableAreas': 40, 'features_totalAreas': 0, 'features_floors': 4, 'features_unitsOnTheFloor': 4, 'features_unitFloor': 2}, {'customerID': '434386-MBKCACKJ', 'source': 'Website', 'types_unit': 'Casa', 'types_usage': 'Residencial', 'address_city': 'Rio de Janeiro', 'address_location_lon': -43.327545, 'address_location_lat': -22.874881, 'address_zone': 'Zona Norte', 'address_neighborhood': 'Engenheiro Leal', 'prices_price': 90000.0, 'prices_tax_iptu': 0.0, 'prices_tax_condo': 190.0, 'features_bedrooms': 2, 'features_bathrooms': 2, 'features_suites': 0, 'features_parkingSpaces': 0, 'features_usableAreas': 70, 'features_totalAreas': 0, 'features_floors': 0, 'features_unitsOnTheFloor': 0, 'features_unitFloor': 0}, {'customerID': '807518-GYVCEHCI', 'source': 'Website', 'types_unit': 'Apartamento', 'types_usage': 'Residencial', 'address_city': 'Rio de Janeiro', 'address_location_lon': -43.26285, 'address_location_lat': -22.87316, 'address_zone': 'Zona Norte', 'address_neighborhood': 'Higienópolis', 'prices_price': 84150.0, 'prices_tax_iptu': 0.0, 'prices_tax_condo': 0.0, 'features_bedrooms': 2, 'features_bathrooms': 1, 'features_suites': 0, 'features_parkingSpaces': 1, 'features_usableAreas': 57, 'features_totalAreas': 60, 'features_floors': 2, 'features_unitsOnTheFloor': 0, 'features_unitFloor': 2}, {'customerID': '938162-DGGKUQGT', 'source': 'Website', 'types_unit': 'Apartamento', 'types_usage': 'Residencial', 'address_city': 'Rio de Janeiro', 'address_location_lon': -43.451467, 'address_location_lat': -22.882215, 'address_zone': 'Zona Oeste', 'address_neighborhood': 'Padre Miguel', 'prices_price': 90000.0, 'prices_tax_iptu': nan, 'prices_tax_condo': nan, 'features_bedrooms': 1, 'features_bathrooms': 1, 'features_suites': 0, 'features_parkingSpaces': 0, 'features_usableAreas': 65, 'features_totalAreas': 70, 'features_floors': 0, 'features_unitsOnTheFloor': 0, 'features_unitFloor': 0}, {'customerID': '172572-ZMBEMAON', 'source': 'Website', 'types_unit': 'Outros', 'types_usage': 'Residencial', 'address_city': 'Rio de Janeiro', 'address_location_lon': -43.354001, 'address_location_lat': -22.849668, 'address_zone': 'Zona Norte', 'address_neighborhood': 'Rocha Miranda', 'prices_price': 85000.0, 'prices_tax_iptu': nan, 'prices_tax_condo': nan, 'features_bedrooms': 1, 'features_bathrooms': 1, 'features_suites': 0, 'features_parkingSpaces': 0, 'features_usableAreas': 30, 'features_totalAreas': 30, 'features_floors': 0, 'features_unitsOnTheFloor': 0, 'features_unitFloor': 0}, {'customerID': '346809-NTGJEFXM', 'source': 'Website', 'types_unit': 'Casa', 'types_usage': 'Residencial', 'address_city': 'Rio de Janeiro', 'address_location_lon': -43.299467, 'address_location_lat': -22.873899, 'address_zone': 'Zona Norte', 'address_neighborhood': 'Pilares', 'prices_price': 90000.0, 'prices_tax_iptu': 0.0, 'prices_tax_condo': 40.0, 'features_bedrooms': 1, 'features_bathrooms': 1, 'features_suites': 0, 'features_parkingSpaces': 1, 'features_usableAreas': 74, 'features_totalAreas': 74, 'features_floors': 0, 'features_unitsOnTheFloor': 0, 'features_unitFloor': 0}, {'customerID': '419355-FRHUMFOT', 'source': 'Website', 'types_unit': 'Apartamento', 'types_usage': 'Residencial', 'address_city': 'Rio de Janeiro', 'address_location_lon': -43.402048, 'address_location_lat': -22.820913, 'address_zone': 'Zona Norte', 'address_neighborhood': 'Anchieta', 'prices_price': 90000.0, 'prices_tax_iptu': nan, 'prices_tax_condo': 170.0, 'features_bedrooms': 1, 'features_bathrooms': 1, 'features_suites': 0, 'features_parkingSpaces': 1, 'features_usableAreas': 40, 'features_totalAreas': 52, 'features_floors': 0, 'features_unitsOnTheFloor': 0, 'features_unitFloor': 1}, {'customerID': '583156-RFQQMRCD', 'source': 'Website', 'types_unit': 'Outros', 'types_usage': 'Residencial', 'address_city': 'Rio de Janeiro', 'address_location_lon': -43.402387, 'address_location_lat': -22.888769, 'address_zone': 'Zona Oeste', 'address_neighborhood': 'Jardim Sulacap', 'prices_price': 90000.0, 'prices_tax_iptu': nan, 'prices_tax_condo': 200.0, 'features_bedrooms': 1, 'features_bathrooms': 0, 'features_suites': 0, 'features_parkingSpaces': 0, 'features_usableAreas': 0, 'features_totalAreas': 0, 'features_floors': 0, 'features_unitsOnTheFloor': 0, 'features_unitFloor': 0}, {'customerID': '246399-NJTDQLIS', 'source': 'Website', 'types_unit': 'Apartamento', 'types_usage': 'Residencial', 'address_city': 'Rio de Janeiro', 'address_location_lon': -43.306129, 'address_location_lat': -22.899714, 'address_zone': 'Zona Norte', 'address_neighborhood': 'Encantado', 'prices_price': 89000.0, 'prices_tax_iptu': 0.0, 'prices_tax_condo': 0.0, 'features_bedrooms': 1, 'features_bathrooms': 1, 'features_suites': 0, 'features_parkingSpaces': 0, 'features_usableAreas': 35, 'features_totalAreas': 35, 'features_floors': 3, 'features_unitsOnTheFloor': 2, 'features_unitFloor': 0}, {'customerID': '393953-SHTUHZCK', 'source': 'Website', 'types_unit': 'Apartamento', 'types_usage': 'Residencial', 'address_city': 'Rio de Janeiro', 'address_location_lon': -43.225037, 'address_location_lat': -22.811507, 'address_zone': 'Zona Norte', 'address_neighborhood': 'Galeão', 'prices_price': 85000.0, 'prices_tax_iptu': 0.0, 'prices_tax_condo': 0.0, 'features_bedrooms': 1, 'features_bathrooms': 1, 'features_suites': 0, 'features_parkingSpaces': 0, 'features_usableAreas': 35, 'features_totalAreas': 35, 'features_floors': 0, 'features_unitsOnTheFloor': 0, 'features_unitFloor': 0}, {'customerID': '481389-YHHQCNUQ', 'source': 'Website', 'types_unit': 'Apartamento', 'types_usage': 'Residencial', 'address_city': 'Rio de Janeiro', 'address_location_lon': -43.292312, 'address_location_lat': -22.816668, 'address_zone': 'Zona Norte', 'address_neighborhood': 'Parada de Lucas', 'prices_price': 100000.0, 'prices_tax_iptu': nan, 'prices_tax_condo': 230.0, 'features_bedrooms': 2, 'features_bathrooms': 1, 'features_suites': 0, 'features_parkingSpaces': 0, 'features_usableAreas': 79, 'features_totalAreas': 79, 'features_floors': 0, 'features_unitsOnTheFloor': 0, 'features_unitFloor': 0}, {'customerID': '115536-YXTNIDTV', 'source': 'Website', 'types_unit': 'Apartamento', 'types_usage': 'Residencial', 'address_city': 'Rio de Janeiro', 'address_location_lon': -43.266515, 'address_location_lat': -22.843141, 'address_zone': 'Zona Norte', 'address_neighborhood': 'Olaria', 'prices_price': 100000.0, 'prices_tax_iptu': 10.0, 'prices_tax_condo': 10.0, 'features_bedrooms': 1, 'features_bathrooms': 1, 'features_suites': 1, 'features_parkingSpaces': 1, 'features_usableAreas': 100, 'features_totalAreas': 100, 'features_floors': 0, 'features_unitsOnTheFloor': 0, 'features_unitFloor': 0}, {'customerID': '121990-DODJLLBO', 'source': 'Website', 'types_unit': 'Apartamento', 'types_usage': 'Residencial', 'address_city': 'Rio de Janeiro', 'address_location_lon': -43.272485, 'address_location_lat': -22.865951, 'address_zone': 'Zona Norte', 'address_neighborhood': 'Bonsucesso', 'prices_price': 95488.0, 'prices_tax_iptu': 0.0, 'prices_tax_condo': 0.0, 'features_bedrooms': 2, 'features_bathrooms': 1, 'features_suites': 0, 'features_parkingSpaces': 0, 'features_usableAreas': 71, 'features_totalAreas': 71, 'features_floors': 0, 'features_unitsOnTheFloor': 0, 'features_unitFloor': 0}, {'customerID': '998101-AAVNWERD', 'source': 'Website', 'types_unit': 'Apartamento', 'types_usage': 'Residencial', 'address_city': 'Rio de Janeiro', 'address_location_lon': -43.284819, 'address_location_lat': -22.912577, 'address_zone': 'Zona Norte', 'address_neighborhood': 'Méier', 'prices_price': 99000.0, 'prices_tax_iptu': nan, 'prices_tax_condo': nan, 'features_bedrooms': 1, 'features_bathrooms': 1, 'features_suites': 0, 'features_parkingSpaces': 0, 'features_usableAreas': 40, 'features_totalAreas': 40, 'features_floors': 0, 'features_unitsOnTheFloor': 0, 'features_unitFloor': 0}, {'customerID': '610476-RPCOCDOX', 'source': 'Website', 'types_unit': 'Casa', 'types_usage': 'Residencial', 'address_city': 'Rio de Janeiro', 'address_location_lon': -43.180832, 'address_location_lat': -22.939026, 'address_zone': 'Zona Sul', 'address_neighborhood': 'Laranjeiras', 'prices_price': 96000.0, 'prices_tax_iptu': 0.0, 'prices_tax_condo': 0.0, 'features_bedrooms': 1, 'features_bathrooms': 1, 'features_suites': 0, 'features_parkingSpaces': 0, 'features_usableAreas': 40, 'features_totalAreas': 40, 'features_floors': 0, 'features_unitsOnTheFloor': 0, 'features_unitFloor': 0}, {'customerID': '108615-RYAUXXVK', 'source': 'Website', 'types_unit': 'Casa', 'types_usage': 'Residencial', 'address_city': 'Rio de Janeiro', 'address_location_lon': -43.304667, 'address_location_lat': -22.826117, 'address_zone': 'Zona Norte', 'address_neighborhood': 'Cordovil', 'prices_price': 100000.0, 'prices_tax_iptu': nan, 'prices_tax_condo': nan, 'features_bedrooms': 1, 'features_bathrooms': 1, 'features_suites': 0, 'features_parkingSpaces': 0, 'features_usableAreas': 30, 'features_totalAreas': 30, 'features_floors': 0, 'features_unitsOnTheFloor': 0, 'features_unitFloor': 0}, {'customerID': '544958-CMSFGKNY', 'source': 'Website', 'types_unit': 'Apartamento', 'types_usage': 'Residencial', 'address_city': 'Rio de Janeiro', 'address_location_lon': -43.299109, 'address_location_lat': -22.890235, 'address_zone': 'Zona Norte', 'address_neighborhood': 'Abolição', 'prices_price': 100000.0, 'prices_tax_iptu': 16.0, 'prices_tax_condo': 255.0, 'features_bedrooms': 1, 'features_bathrooms': 1, 'features_suites': 0, 'features_parkingSpaces': 0, 'features_usableAreas': 37, 'features_totalAreas': 37, 'features_floors': 0, 'features_unitsOnTheFloor': 0, 'features_unitFloor': 0}, {'customerID': '111317-JOGRSFJO', 'source': 'Website', 'types_unit': 'Apartamento', 'types_usage': 'Residencial', 'address_city': 'Rio de Janeiro', 'address_location_lon': -43.271849, 'address_location_lat': -22.87376, 'address_zone': 'Zona Norte', 'address_neighborhood': 'Inhaúma', 'prices_price': 105000.0, 'prices_tax_iptu': 0.0, 'prices_tax_condo': 50.0, 'features_bedrooms': 2, 'features_bathrooms': 1, 'features_suites': 0, 'features_parkingSpaces': 1, 'features_usableAreas': 40, 'features_totalAreas': 0, 'features_floors': 4, 'features_unitsOnTheFloor': 2, 'features_unitFloor': 3}, {'customerID': '781500-HYZVEHQJ', 'source': 'Website', 'types_unit': 'Apartamento', 'types_usage': 'Residencial', 'address_city': 'Rio de Janeiro', 'address_location_lon': -43.17916, 'address_location_lat': -22.789602, 'address_zone': 'Zona Norte', 'address_neighborhood': 'Bancários', 'prices_price': 104500.0, 'prices_tax_iptu': 0.0, 'prices_tax_condo': 0.0, 'features_bedrooms': 2, 'features_bathrooms': 2, 'features_suites': 1, 'features_parkingSpaces': 1, 'features_usableAreas': 60, 'features_totalAreas': 69, 'features_floors': 3, 'features_unitsOnTheFloor': 4, 'features_unitFloor': 0}, {'customerID': '272009-NPDQFRYX', 'source': 'Website', 'types_unit': 'Apartamento', 'types_usage': 'Residencial', 'address_city': 'Rio de Janeiro', 'address_location_lon': -43.279725, 'address_location_lat': -22.912939, 'address_zone': 'Zona Norte', 'address_neighborhood': 'Lins de Vasconcelos', 'prices_price': 110000.0, 'prices_tax_iptu': 0.0, 'prices_tax_condo': 300.0, 'features_bedrooms': 2, 'features_bathrooms': 1, 'features_suites': 0, 'features_parkingSpaces': 1, 'features_usableAreas': 70, 'features_totalAreas': 75, 'features_floors': 0, 'features_unitsOnTheFloor': 0, 'features_unitFloor': 1}, {'customerID': '620934-NKEAAFOR', 'source': 'Website', 'types_unit': 'Apartamento', 'types_usage': 'Residencial', 'address_city': 'Rio de Janeiro', 'address_location_lon': -43.261657, 'address_location_lat': -22.850588, 'address_zone': 'Zona Norte', 'address_neighborhood': 'Ramos', 'prices_price': 110000.0, 'prices_tax_iptu': nan, 'prices_tax_condo': nan, 'features_bedrooms': 1, 'features_bathrooms': 1, 'features_suites': 0, 'features_parkingSpaces': 0, 'features_usableAreas': 62, 'features_totalAreas': 65, 'features_floors': 0, 'features_unitsOnTheFloor': 0, 'features_unitFloor': 0}, {'customerID': '217398-NIERJFLM', 'source': 'Website', 'types_unit': 'Apartamento', 'types_usage': 'Residencial', 'address_city': 'Rio de Janeiro', 'address_location_lon': -43.330051, 'address_location_lat': -22.824793, 'address_zone': 'Zona Norte', 'address_neighborhood': 'Irajá', 'prices_price': 110000.0, 'prices_tax_iptu': 0.0, 'prices_tax_condo': 122.0, 'features_bedrooms': 1, 'features_bathrooms': 1, 'features_suites': 0, 'features_parkingSpaces': 1, 'features_usableAreas': 32, 'features_totalAreas': 32, 'features_floors': 0, 'features_unitsOnTheFloor': 0, 'features_unitFloor': 0}, {'customerID': '222741-BUGERGWT', 'source': 'Website', 'types_unit': 'Apartamento', 'types_usage': 'Residencial', 'address_city': 'Rio de Janeiro', 'address_location_lon': -43.207985, 'address_location_lat': -22.926568, 'address_zone': 'Zona Sul', 'address_neighborhood': 'Rio Comprido', 'prices_price': 110000.0, 'prices_tax_iptu': 0.0, 'prices_tax_condo': 0.0, 'features_bedrooms': 1, 'features_bathrooms': 1, 'features_suites': 0, 'features_parkingSpaces': 0, 'features_usableAreas': 50, 'features_totalAreas': 0, 'features_floors': 0, 'features_unitsOnTheFloor': 0, 'features_unitFloor': 2}, {'customerID': '261884-ENUZUCTO', 'source': 'Website', 'types_unit': 'Apartamento', 'types_usage': 'Residencial', 'address_city': 'Rio de Janeiro', 'address_location_lon': -43.37277, 'address_location_lat': -22.845609, 'address_zone': 'Zona Norte', 'address_neighborhood': 'Guadalupe', 'prices_price': 105000.0, 'prices_tax_iptu': nan, 'prices_tax_condo': 160.0, 'features_bedrooms': 1, 'features_bathrooms': 1, 'features_suites': 0, 'features_parkingSpaces': 0, 'features_usableAreas': 40, 'features_totalAreas': 40, 'features_floors': 0, 'features_unitsOnTheFloor': 0, 'features_unitFloor': 0}, {'customerID': '705530-NJEMPPJZ', 'source': 'Website', 'types_unit': 'Apartamento', 'types_usage': 'Residencial', 'address_city': 'Rio de Janeiro', 'address_location_lon': -43.283049, 'address_location_lat': -22.820739, 'address_zone': 'Zona Norte', 'address_neighborhood': 'Penha', 'prices_price': 110000.0, 'prices_tax_iptu': nan, 'prices_tax_condo': 90.0, 'features_bedrooms': 2, 'features_bathrooms': 1, 'features_suites': 0, 'features_parkingSpaces': 0, 'features_usableAreas': 51, 'features_totalAreas': 55, 'features_floors': 0, 'features_unitsOnTheFloor': 0, 'features_unitFloor': 0}, {'customerID': '517018-BLFYLAZS', 'source': 'Website', 'types_unit': 'Apartamento', 'types_usage': 'Residencial', 'address_city': 'Rio de Janeiro', 'address_location_lon': -43.253704, 'address_location_lat': -22.899514, 'address_zone': 'Zona Norte', 'address_neighborhood': 'Riachuelo', 'prices_price': 110000.0, 'prices_tax_iptu': 252.0, 'prices_tax_condo': 378.0, 'features_bedrooms': 1, 'features_bathrooms': 1, 'features_suites': 0, 'features_parkingSpaces': 0, 'features_usableAreas': 30, 'features_totalAreas': 35, 'features_floors': 4, 'features_unitsOnTheFloor': 16, 'features_unitFloor': 2}, {'customerID': '780968-VRFWNQBF', 'source': 'Website', 'types_unit': 'Apartamento', 'types_usage': 'Residencial', 'address_city': 'Rio de Janeiro', 'address_location_lon': -43.252746, 'address_location_lat': -22.940876, 'address_zone': 'Zona Norte', 'address_neighborhood': 'Tijuca', 'prices_price': 110000.0, 'prices_tax_iptu': 0.0, 'prices_tax_condo': 0.0, 'features_bedrooms': 2, 'features_bathrooms': 1, 'features_suites': 0, 'features_parkingSpaces': 0, 'features_usableAreas': 63, 'features_totalAreas': 0, 'features_floors': 0, 'features_unitsOnTheFloor': 0, 'features_unitFloor': 0}, {'customerID': '683722-RJACOIWR', 'source': 'Website', 'types_unit': 'Casa', 'types_usage': 'Residencial', 'address_city': 'Rio de Janeiro', 'address_location_lon': -43.364554, 'address_location_lat': -22.928494, 'address_zone': 'Zona Oeste', 'address_neighborhood': 'Pechincha', 'prices_price': 120000.0, 'prices_tax_iptu': 30.0, 'prices_tax_condo': 100.0, 'features_bedrooms': 2, 'features_bathrooms': 1, 'features_suites': 0, 'features_parkingSpaces': 1, 'features_usableAreas': 153, 'features_totalAreas': 153, 'features_floors': 0, 'features_unitsOnTheFloor': 0, 'features_unitFloor': 1}, {'customerID': '564534-FXJFNRVA', 'source': 'Website', 'types_unit': 'Apartamento', 'types_usage': 'Residencial', 'address_city': 'Rio de Janeiro', 'address_location_lon': -43.328976, 'address_location_lat': -22.860583, 'address_zone': 'Zona Norte', 'address_neighborhood': 'Vaz Lobo', 'prices_price': 120000.0, 'prices_tax_iptu': 0.0, 'prices_tax_condo': 0.0, 'features_bedrooms': 2, 'features_bathrooms': 1, 'features_suites': 0, 'features_parkingSpaces': 1, 'features_usableAreas': 50, 'features_totalAreas': 0, 'features_floors': 0, 'features_unitsOnTheFloor': 0, 'features_unitFloor': 0}, {'customerID': '563245-YZSZRFSV', 'source': 'Website', 'types_unit': 'Apartamento', 'types_usage': 'Residencial', 'address_city': 'Rio de Janeiro', 'address_location_lon': -43.174454, 'address_location_lat': -22.788745, 'address_zone': 'Zona Norte', 'address_neighborhood': 'Freguesia (Ilha do Governador)', 'prices_price': 114000.0, 'prices_tax_iptu': 0.0, 'prices_tax_condo': 0.0, 'features_bedrooms': 2, 'features_bathrooms': 1, 'features_suites': 0, 'features_parkingSpaces': 1, 'features_usableAreas': 67, 'features_totalAreas': 0, 'features_floors': 0, 'features_unitsOnTheFloor': 0, 'features_unitFloor': 0}, {'customerID': '870058-BCQOQVJR', 'source': 'Website', 'types_unit': 'Apartamento', 'types_usage': 'Residencial', 'address_city': 'Rio de Janeiro', 'address_location_lon': -43.314399, 'address_location_lat': -22.871833, 'address_zone': 'Zona Norte', 'address_neighborhood': 'Cavalcanti', 'prices_price': 120000.0, 'prices_tax_iptu': 0.0, 'prices_tax_condo': nan, 'features_bedrooms': 2, 'features_bathrooms': 1, 'features_suites': 0, 'features_parkingSpaces': 0, 'features_usableAreas': 70, 'features_totalAreas': 70, 'features_floors': 0, 'features_unitsOnTheFloor': 0, 'features_unitFloor': 0}, {'customerID': '107960-MQUBOWKS', 'source': 'Website', 'types_unit': 'Casa', 'types_usage': 'Residencial', 'address_city': 'Rio de Janeiro', 'address_location_lon': -43.486621, 'address_location_lat': -22.877011, 'address_zone': 'Zona Oeste', 'address_neighborhood': 'Senador Camará', 'prices_price': 120000.0, 'prices_tax_iptu': 35.0, 'prices_tax_condo': 0.0, 'features_bedrooms': 2, 'features_bathrooms': 1, 'features_suites': 0, 'features_parkingSpaces': 0, 'features_usableAreas': 75, 'features_totalAreas': 75, 'features_floors': 0, 'features_unitsOnTheFloor': 0, 'features_unitFloor': 0}, {'customerID': '650388-QQJERYEF', 'source': 'Website', 'types_unit': 'Apartamento', 'types_usage': 'Residencial', 'address_city': 'Rio de Janeiro', 'address_location_lon': -43.464179, 'address_location_lat': -22.983609, 'address_zone': 'Zona Oeste', 'address_neighborhood': 'Vargem Pequena', 'prices_price': 120000.0, 'prices_tax_iptu': 0.0, 'prices_tax_condo': 0.0, 'features_bedrooms': 2, 'features_bathrooms': 1, 'features_suites': 0, 'features_parkingSpaces': 1, 'features_usableAreas': 44, 'features_totalAreas': 0, 'features_floors': 0, 'features_unitsOnTheFloor': 0, 'features_unitFloor': 0}, {'customerID': '641416-WSAFVHTJ', 'source': 'Website', 'types_unit': 'Apartamento', 'types_usage': 'Residencial', 'address_city': 'Rio de Janeiro', 'address_location_lon': -43.214559, 'address_location_lat': -22.911834, 'address_zone': 'Zona Norte', 'address_neighborhood': 'Praça da Bandeira', 'prices_price': 120000.0, 'prices_tax_iptu': 0.0, 'prices_tax_condo': 587.0, 'features_bedrooms': 0, 'features_bathrooms': 1, 'features_suites': 0, 'features_parkingSpaces': 0, 'features_usableAreas': 24, 'features_totalAreas': 24, 'features_floors': 12, 'features_unitsOnTheFloor': 8, 'features_unitFloor': 2}, {'customerID': '703778-IRKEQUIF', 'source': 'Website', 'types_unit': 'Casa', 'types_usage': 'Residencial', 'address_city': 'Rio de Janeiro', 'address_location_lon': -43.298273, 'address_location_lat': -22.853453, 'address_zone': 'Zona Norte', 'address_neighborhood': 'Vila Kosmos', 'prices_price': 115000.0, 'prices_tax_iptu': nan, 'prices_tax_condo': nan, 'features_bedrooms': 2, 'features_bathrooms': 1, 'features_suites': 0, 'features_parkingSpaces': 0, 'features_usableAreas': 70, 'features_totalAreas': 120, 'features_floors': 0, 'features_unitsOnTheFloor': 0, 'features_unitFloor': 0}, {'customerID': '543311-ZPLRRJSB', 'source': 'Website', 'types_unit': 'Apartamento', 'types_usage': 'Residencial', 'address_city': 'Rio de Janeiro', 'address_location_lon': -43.177445, 'address_location_lat': -22.9233, 'address_zone': 'Zona Sul', 'address_neighborhood': 'Catete', 'prices_price': 120000.0, 'prices_tax_iptu': 0.0, 'prices_tax_condo': 0.0, 'features_bedrooms': 1, 'features_bathrooms': 1, 'features_suites': 0, 'features_parkingSpaces': 0, 'features_usableAreas': 30, 'features_totalAreas': 30, 'features_floors': 0, 'features_unitsOnTheFloor': 0, 'features_unitFloor': 9}, {'customerID': '135952-LEVGTBAP', 'source': 'Website', 'types_unit': 'Outros', 'types_usage': 'Residencial', 'address_city': 'Rio de Janeiro', 'address_location_lon': -43.245946, 'address_location_lat': -22.900157, 'address_zone': 'Zona Norte', 'address_neighborhood': 'Rocha', 'prices_price': 120000.0, 'prices_tax_iptu': 0.0, 'prices_tax_condo': 0.0, 'features_bedrooms': 0, 'features_bathrooms': 0, 'features_suites': 0, 'features_parkingSpaces': 0, 'features_usableAreas': 63, 'features_totalAreas': 63, 'features_floors': 0, 'features_unitsOnTheFloor': 0, 'features_unitFloor': 0}, {'customerID': '261671-HUVNGSCV', 'source': 'Website', 'types_unit': 'Apartamento', 'types_usage': 'Residencial', 'address_city': 'Rio de Janeiro', 'address_location_lon': -43.342717, 'address_location_lat': -22.844614, 'address_zone': 'Zona Norte', 'address_neighborhood': 'Colégio', 'prices_price': 125000.0, 'prices_tax_iptu': 0.0, 'prices_tax_condo': 250.0, 'features_bedrooms': 1, 'features_bathrooms': 1, 'features_suites': 0, 'features_parkingSpaces': 1, 'features_usableAreas': 45, 'features_totalAreas': 0, 'features_floors': 0, 'features_unitsOnTheFloor': 0, 'features_unitFloor': 0}, {'customerID': '672516-ZQVZKCIX', 'source': 'Website', 'types_unit': 'Apartamento', 'types_usage': 'Residencial', 'address_city': 'Rio de Janeiro', 'address_location_lon': -43.269659, 'address_location_lat': -22.883263, 'address_zone': 'Zona Norte', 'address_neighborhood': 'Del Castilho', 'prices_price': 125000.0, 'prices_tax_iptu': 0.0, 'prices_tax_condo': 200.0, 'features_bedrooms': 1, 'features_bathrooms': 1, 'features_suites': 0, 'features_parkingSpaces': 0, 'features_usableAreas': 35, 'features_totalAreas': 35, 'features_floors': 4, 'features_unitsOnTheFloor': 6, 'features_unitFloor': 3}, {'customerID': '381294-LADEUKDS', 'source': 'Website', 'types_unit': 'Apartamento', 'types_usage': 'Residencial', 'address_city': 'Rio de Janeiro', 'address_location_lon': -43.254637, 'address_location_lat': -22.924259, 'address_zone': 'Zona Norte', 'address_neighborhood': 'Grajaú', 'prices_price': 130000.0, 'prices_tax_iptu': 0.0, 'prices_tax_condo': 0.0, 'features_bedrooms': 2, 'features_bathrooms': 1, 'features_suites': 0, 'features_parkingSpaces': 0, 'features_usableAreas': 55, 'features_totalAreas': 0, 'features_floors': 0, 'features_unitsOnTheFloor': 0, 'features_unitFloor': 0}, {'customerID': '035493-FWLPMHDF', 'source': 'Website', 'types_unit': 'Casa', 'types_usage': 'Residencial', 'address_city': 'Rio de Janeiro', 'address_location_lon': -43.541543, 'address_location_lat': -23.012009, 'address_zone': 'Zona Oeste', 'address_neighborhood': 'Barra de Guaratiba', 'prices_price': 125000.0, 'prices_tax_iptu': 0.0, 'prices_tax_condo': 0.0, 'features_bedrooms': 2, 'features_bathrooms': 1, 'features_suites': 0, 'features_parkingSpaces': 0, 'features_usableAreas': 48, 'features_totalAreas': 48, 'features_floors': 0, 'features_unitsOnTheFloor': 0, 'features_unitFloor': 0}, {'customerID': '050476-ANEYPSDF', 'source': 'Website', 'types_unit': 'Apartamento', 'types_usage': 'Residencial', 'address_city': 'Rio de Janeiro', 'address_location_lon': -43.330818, 'address_location_lat': -22.957454, 'address_zone': 'Zona Oeste', 'address_neighborhood': 'Anil', 'prices_price': 125000.0, 'prices_tax_iptu': nan, 'prices_tax_condo': 60.0, 'features_bedrooms': 2, 'features_bathrooms': 1, 'features_suites': 1, 'features_parkingSpaces': 0, 'features_usableAreas': 50, 'features_totalAreas': 50, 'features_floors': 0, 'features_unitsOnTheFloor': 0, 'features_unitFloor': 0}, {'customerID': '447327-RETKEQCX', 'source': 'Website', 'types_unit': 'Apartamento', 'types_usage': 'Residencial', 'address_city': 'Rio de Janeiro', 'address_location_lon': -43.247751, 'address_location_lat': -22.926462, 'address_zone': 'Zona Norte', 'address_neighborhood': 'Andaraí', 'prices_price': 125000.0, 'prices_tax_iptu': 0.0, 'prices_tax_condo': 0.0, 'features_bedrooms': 2, 'features_bathrooms': 1, 'features_suites': 0, 'features_parkingSpaces': 0, 'features_usableAreas': 43, 'features_totalAreas': 43, 'features_floors': 0, 'features_unitsOnTheFloor': 0, 'features_unitFloor': 7}, {'customerID': '075339-YPBRNBVM', 'source': 'Website', 'types_unit': 'Apartamento', 'types_usage': 'Residencial', 'address_city': 'Rio de Janeiro', 'address_location_lon': -43.311507, 'address_location_lat': -22.850057, 'address_zone': 'Zona Norte', 'address_neighborhood': 'Vila da Penha', 'prices_price': 128000.0, 'prices_tax_iptu': 0.0, 'prices_tax_condo': 0.0, 'features_bedrooms': 1, 'features_bathrooms': 1, 'features_suites': 1, 'features_parkingSpaces': 1, 'features_usableAreas': 25, 'features_totalAreas': 25, 'features_floors': 0, 'features_unitsOnTheFloor': 0, 'features_unitFloor': 0}, {'customerID': '826708-KLRPLKJE', 'source': 'Website', 'types_unit': 'Casa', 'types_usage': 'Residencial', 'address_city': 'Rio de Janeiro', 'address_location_lon': -43.41883, 'address_location_lat': -22.866131, 'address_zone': 'Zona Oeste', 'address_neighborhood': 'Magalhães Bastos', 'prices_price': 125000.0, 'prices_tax_iptu': nan, 'prices_tax_condo': nan, 'features_bedrooms': 2, 'features_bathrooms': 1, 'features_suites': 0, 'features_parkingSpaces': 0, 'features_usableAreas': 66, 'features_totalAreas': 66, 'features_floors': 0, 'features_unitsOnTheFloor': 0, 'features_unitFloor': 0}, {'customerID': '722997-BLDOUDTP', 'source': 'Website', 'types_unit': 'Apartamento', 'types_usage': 'Residencial', 'address_city': 'Rio de Janeiro', 'address_location_lon': -43.35286, 'address_location_lat': -23.009805, 'address_zone': 'Zona Oeste', 'address_neighborhood': 'Barra da Tijuca', 'prices_price': 125000.0, 'prices_tax_iptu': 0.0, 'prices_tax_condo': 0.0, 'features_bedrooms': 1, 'features_bathrooms': 1, 'features_suites': 1, 'features_parkingSpaces': 1, 'features_usableAreas': 25, 'features_totalAreas': 25, 'features_floors': 0, 'features_unitsOnTheFloor': 0, 'features_unitFloor': 0}, {'customerID': '067397-ZXGTEWHY', 'source': 'Website', 'types_unit': 'Apartamento', 'types_usage': 'Residencial', 'address_city': 'Rio de Janeiro', 'address_location_lon': -43.33925, 'address_location_lat': -22.942167, 'address_zone': 'Zona Oeste', 'address_neighborhood': 'Freguesia (Jacarepaguá)', 'prices_price': 130000.0, 'prices_tax_iptu': 0.0, 'prices_tax_condo': 300.0, 'features_bedrooms': 1, 'features_bathrooms': 1, 'features_suites': 0, 'features_parkingSpaces': 0, 'features_usableAreas': 25, 'features_totalAreas': 25, 'features_floors': 0, 'features_unitsOnTheFloor': 0, 'features_unitFloor': 0}, {'customerID': '427383-DJSGHKZZ', 'source': 'Website', 'types_unit': 'Apartamento', 'types_usage': 'Residencial', 'address_city': 'Rio de Janeiro', 'address_location_lon': -43.193791, 'address_location_lat': -22.984691, 'address_zone': 'Zona Sul', 'address_neighborhood': 'Copacabana', 'prices_price': 140000.0, 'prices_tax_iptu': 0.0, 'prices_tax_condo': 0.0, 'features_bedrooms': 1, 'features_bathrooms': 1, 'features_suites': 0, 'features_parkingSpaces': 0, 'features_usableAreas': 18, 'features_totalAreas': 0, 'features_floors': 15, 'features_unitsOnTheFloor': 10, 'features_unitFloor': 10}, {'customerID': '517949-CXJMUJMU', 'source': 'Website', 'types_unit': 'Apartamento', 'types_usage': 'Residencial', 'address_city': 'Rio de Janeiro', 'address_location_lon': -43.243081, 'address_location_lat': -22.901094, 'address_zone': 'Zona Norte', 'address_neighborhood': 'São Francisco Xavier', 'prices_price': 135000.0, 'prices_tax_iptu': 380.0, 'prices_tax_condo': 70.0, 'features_bedrooms': 1, 'features_bathrooms': 1, 'features_suites': 0, 'features_parkingSpaces': 0, 'features_usableAreas': 44, 'features_totalAreas': 0, 'features_floors': 0, 'features_unitsOnTheFloor': 0, 'features_unitFloor': 0}, {'customerID': '919257-SMTPEMMG', 'source': 'Website', 'types_unit': 'Apartamento', 'types_usage': 'Residencial', 'address_city': 'Rio de Janeiro', 'address_location_lon': -43.308298, 'address_location_lat': -22.907969, 'address_zone': 'Zona Norte', 'address_neighborhood': 'Água Santa', 'prices_price': 135000.0, 'prices_tax_iptu': 0.0, 'prices_tax_condo': 190.0, 'features_bedrooms': 2, 'features_bathrooms': 1, 'features_suites': 0, 'features_parkingSpaces': 1, 'features_usableAreas': 44, 'features_totalAreas': 44, 'features_floors': 5, 'features_unitsOnTheFloor': 8, 'features_unitFloor': 5}, {'customerID': '549051-SLKRLZGK', 'source': 'Website', 'types_unit': 'Apartamento', 'types_usage': 'Residencial', 'address_city': 'Rio de Janeiro', 'address_location_lon': -43.329798, 'address_location_lat': -22.977668, 'address_zone': 'Zona Oeste', 'address_neighborhood': 'Itanhangá', 'prices_price': 135000.0, 'prices_tax_iptu': 0.0, 'prices_tax_condo': 648.0, 'features_bedrooms': 2, 'features_bathrooms': 1, 'features_suites': 0, 'features_parkingSpaces': 1, 'features_usableAreas': 56, 'features_totalAreas': 56, 'features_floors': 0, 'features_unitsOnTheFloor': 0, 'features_unitFloor': 11}, {'customerID': '465984-WZWARZUR', 'source': 'Website', 'types_unit': 'Apartamento', 'types_usage': 'Residencial', 'address_city': 'Rio de Janeiro', 'address_location_lon': -43.322883, 'address_location_lat': -22.814996999999998, 'address_zone': 'Zona Norte', 'address_neighborhood': 'Jardim América', 'prices_price': 140000.0, 'prices_tax_iptu': 0.0, 'prices_tax_condo': 0.0, 'features_bedrooms': 2, 'features_bathrooms': 2, 'features_suites': 0, 'features_parkingSpaces': 0, 'features_usableAreas': 75, 'features_totalAreas': 75, 'features_floors': 2, 'features_unitsOnTheFloor': 1, 'features_unitFloor': 1}, {'customerID': '292117-TACRKJRY', 'source': 'Website', 'types_unit': 'Apartamento', 'types_usage': 'Residencial', 'address_city': 'Rio de Janeiro', 'address_location_lon': -43.208692, 'address_location_lat': -22.797209, 'address_zone': 'Zona Norte', 'address_neighborhood': 'Portuguesa', 'prices_price': 133722.0, 'prices_tax_iptu': 0.0, 'prices_tax_condo': 0.0, 'features_bedrooms': 2, 'features_bathrooms': 1, 'features_suites': 0, 'features_parkingSpaces': 0, 'features_usableAreas': 43, 'features_totalAreas': 50, 'features_floors': 7, 'features_unitsOnTheFloor': 0, 'features_unitFloor': 3}, {'customerID': '555454-TZMQKABM', 'source': 'Website', 'types_unit': 'Apartamento', 'types_usage': 'Residencial', 'address_city': 'Rio de Janeiro', 'address_location_lon': -43.234856, 'address_location_lat': -22.994325, 'address_zone': 'Zona Sul', 'address_neighborhood': 'Vidigal', 'prices_price': 142800.0, 'prices_tax_iptu': 100.0, 'prices_tax_condo': 100.0, 'features_bedrooms': 2, 'features_bathrooms': 1, 'features_suites': 0, 'features_parkingSpaces': 1, 'features_usableAreas': 55, 'features_totalAreas': 55, 'features_floors': 4, 'features_unitsOnTheFloor': 10, 'features_unitFloor': 3}, {'customerID': '481154-CSNLMENY', 'source': 'Website', 'types_unit': 'Apartamento', 'types_usage': 'Residencial', 'address_city': 'Rio de Janeiro', 'address_location_lon': -43.26454, 'address_location_lat': -22.890837, 'address_zone': 'Zona Norte', 'address_neighborhood': 'Cachambi', 'prices_price': 150000.0, 'prices_tax_iptu': 0.0, 'prices_tax_condo': 70.0, 'features_bedrooms': 3, 'features_bathrooms': 1, 'features_suites': 0, 'features_parkingSpaces': 0, 'features_usableAreas': 60, 'features_totalAreas': 60, 'features_floors': 0, 'features_unitsOnTheFloor': 0, 'features_unitFloor': 0}, {'customerID': '772413-RGALJJRM', 'source': 'Website', 'types_unit': 'Apartamento', 'types_usage': 'Residencial', 'address_city': 'Rio de Janeiro', 'address_location_lon': -43.183532, 'address_location_lat': -22.798399, 'address_zone': 'Zona Norte', 'address_neighborhood': 'Tauá', 'prices_price': 150000.0, 'prices_tax_iptu': 78.0, 'prices_tax_condo': 320.0, 'features_bedrooms': 1, 'features_bathrooms': 1, 'features_suites': 0, 'features_parkingSpaces': 0, 'features_usableAreas': 30, 'features_totalAreas': 30, 'features_floors': 0, 'features_unitsOnTheFloor': 0, 'features_unitFloor': 0}, {'customerID': '378110-AIHHQLJR', 'source': 'Website', 'types_unit': 'Apartamento', 'types_usage': 'Residencial', 'address_city': 'Rio de Janeiro', 'address_location_lon': -43.264746, 'address_location_lat': -22.886269, 'address_zone': 'Zona Norte', 'address_neighborhood': 'Maria da Graça', 'prices_price': 150000.0, 'prices_tax_iptu': nan, 'prices_tax_condo': 150.0, 'features_bedrooms': 1, 'features_bathrooms': 1, 'features_suites': 0, 'features_parkingSpaces': 0, 'features_usableAreas': 51, 'features_totalAreas': 51, 'features_floors': 0, 'features_unitsOnTheFloor': 0, 'features_unitFloor': 0}, {'customerID': '499114-RYCABFGR', 'source': 'Website', 'types_unit': 'Apartamento', 'types_usage': 'Residencial', 'address_city': 'Rio de Janeiro', 'address_location_lon': -43.347397, 'address_location_lat': -22.963707, 'address_zone': 'Zona Oeste', 'address_neighborhood': 'Gardênia Azul', 'prices_price': 148000.0, 'prices_tax_iptu': nan, 'prices_tax_condo': nan, 'features_bedrooms': 8, 'features_bathrooms': 8, 'features_suites': 0, 'features_parkingSpaces': 0, 'features_usableAreas': 75, 'features_totalAreas': 75, 'features_floors': 0, 'features_unitsOnTheFloor': 0, 'features_unitFloor': 0}, {'customerID': '520049-COVYUZFS', 'source': 'Website', 'types_unit': 'Apartamento', 'types_usage': 'Residencial', 'address_city': 'Rio de Janeiro', 'address_location_lon': -43.20486, 'address_location_lat': -22.925061, 'address_zone': 'Zona Sul', 'address_neighborhood': 'Catumbi', 'prices_price': 145000.0, 'prices_tax_iptu': nan, 'prices_tax_condo': nan, 'features_bedrooms': 1, 'features_bathrooms': 1, 'features_suites': 0, 'features_parkingSpaces': 0, 'features_usableAreas': 24, 'features_totalAreas': 24, 'features_floors': 4, 'features_unitsOnTheFloor': 0, 'features_unitFloor': 0}, {'customerID': '851252-HQGAMAYL', 'source': 'Website', 'types_unit': 'Casa', 'types_usage': 'Residencial', 'address_city': 'Rio de Janeiro', 'address_location_lon': -43.259303, 'address_location_lat': -22.892865, 'address_zone': 'Zona Norte', 'address_neighborhood': 'Jacaré', 'prices_price': 158000.0, 'prices_tax_iptu': 0.0, 'prices_tax_condo': 0.0, 'features_bedrooms': 3, 'features_bathrooms': 2, 'features_suites': 1, 'features_parkingSpaces': 0, 'features_usableAreas': 70, 'features_totalAreas': 70, 'features_floors': 2, 'features_unitsOnTheFloor': 0, 'features_unitFloor': 0}, {'customerID': '353901-IDLHGVNO', 'source': 'Website', 'types_unit': 'Apartamento', 'types_usage': 'Residencial', 'address_city': 'Rio de Janeiro', 'address_location_lon': -43.279327, 'address_location_lat': -22.893526, 'address_zone': 'Zona Norte', 'address_neighborhood': 'Todos os Santos', 'prices_price': 160000.0, 'prices_tax_iptu': 245.0, 'prices_tax_condo': 470.0, 'features_bedrooms': 1, 'features_bathrooms': 1, 'features_suites': 0, 'features_parkingSpaces': 1, 'features_usableAreas': 46, 'features_totalAreas': 46, 'features_floors': 12, 'features_unitsOnTheFloor': 10, 'features_unitFloor': 5}, {'customerID': '356849-SCVTLXYA', 'source': 'Website', 'types_unit': 'Apartamento', 'types_usage': 'Residencial', 'address_city': 'Rio de Janeiro', 'address_location_lon': -43.180373, 'address_location_lat': -22.811001, 'address_zone': 'Zona Norte', 'address_neighborhood': 'Praia da Bandeira', 'prices_price': 160000.0, 'prices_tax_iptu': 0.0, 'prices_tax_condo': 272.0, 'features_bedrooms': 1, 'features_bathrooms': 1, 'features_suites': 0, 'features_parkingSpaces': 1, 'features_usableAreas': 37, 'features_totalAreas': 37, 'features_floors': 0, 'features_unitsOnTheFloor': 0, 'features_unitFloor': 0}, {'customerID': '733502-FXQUTAID', 'source': 'Website', 'types_unit': 'Apartamento', 'types_usage': 'Residencial', 'address_city': 'Rio de Janeiro', 'address_location_lon': -43.180144, 'address_location_lat': -22.812818, 'address_zone': 'Zona Norte', 'address_neighborhood': 'Cocotá', 'prices_price': 170000.0, 'prices_tax_iptu': 0.0, 'prices_tax_condo': 0.0, 'features_bedrooms': 1, 'features_bathrooms': 1, 'features_suites': 0, 'features_parkingSpaces': 1, 'features_usableAreas': 40, 'features_totalAreas': 40, 'features_floors': 0, 'features_unitsOnTheFloor': 0, 'features_unitFloor': 3}, {'customerID': '276294-ZXXBYKKE', 'source': 'Website', 'types_unit': 'Apartamento', 'types_usage': 'Residencial', 'address_city': 'Rio de Janeiro', 'address_location_lon': -43.192857, 'address_location_lat': -22.949977, 'address_zone': 'Zona Sul', 'address_neighborhood': 'Botafogo', 'prices_price': 165000.0, 'prices_tax_iptu': 200.0, 'prices_tax_condo': 230.0, 'features_bedrooms': 1, 'features_bathrooms': 1, 'features_suites': 0, 'features_parkingSpaces': 0, 'features_usableAreas': 23, 'features_totalAreas': 23, 'features_floors': 0, 'features_unitsOnTheFloor': 0, 'features_unitFloor': 0}, {'customerID': '552230-HBKDURJU', 'source': 'Website', 'types_unit': 'Apartamento', 'types_usage': 'Residencial', 'address_city': 'Rio de Janeiro', 'address_location_lon': -43.106513, 'address_location_lat': -22.751375, 'address_zone': 'Zona Norte', 'address_neighborhood': 'Paquetá', 'prices_price': 180000.0, 'prices_tax_iptu': 0.0, 'prices_tax_condo': 242.0, 'features_bedrooms': 2, 'features_bathrooms': 1, 'features_suites': 0, 'features_parkingSpaces': 0, 'features_usableAreas': 50, 'features_totalAreas': 0, 'features_floors': 0, 'features_unitsOnTheFloor': 0, 'features_unitFloor': 2}, {'customerID': '238462-ARQGOCDK', 'source': 'Website', 'types_unit': 'Apartamento', 'types_usage': 'Residencial', 'address_city': 'Rio de Janeiro', 'address_location_lon': -43.216092, 'address_location_lat': -22.877925, 'address_zone': 'Zona Norte', 'address_neighborhood': 'Caju', 'prices_price': 175066.0, 'prices_tax_iptu': 0.0, 'prices_tax_condo': 0.0, 'features_bedrooms': 2, 'features_bathrooms': 1, 'features_suites': 0, 'features_parkingSpaces': 0, 'features_usableAreas': 49, 'features_totalAreas': 0, 'features_floors': 0, 'features_unitsOnTheFloor': 0, 'features_unitFloor': 0}, {'customerID': '245399-GPZDKLOW', 'source': 'Website', 'types_unit': 'Apartamento', 'types_usage': 'Residencial', 'address_city': 'Rio de Janeiro', 'address_location_lon': -43.234353, 'address_location_lat': -22.897122, 'address_zone': 'Zona Norte', 'address_neighborhood': 'Benfica', 'prices_price': 180000.0, 'prices_tax_iptu': 90.0, 'prices_tax_condo': 270.0, 'features_bedrooms': 1, 'features_bathrooms': 1, 'features_suites': 0, 'features_parkingSpaces': 0, 'features_usableAreas': 60, 'features_totalAreas': 60, 'features_floors': 6, 'features_unitsOnTheFloor': 6, 'features_unitFloor': 1}, {'customerID': '521228-BCNRPHVM', 'source': 'Website', 'types_unit': 'Apartamento', 'types_usage': 'Residencial', 'address_city': 'Rio de Janeiro', 'address_location_lon': -43.199316, 'address_location_lat': -22.913413, 'address_zone': 'Zona Central', 'address_neighborhood': 'Cidade Nova', 'prices_price': 180000.0, 'prices_tax_iptu': 0.0, 'prices_tax_condo': 200.0, 'features_bedrooms': 2, 'features_bathrooms': 1, 'features_suites': 0, 'features_parkingSpaces': 0, 'features_usableAreas': 53, 'features_totalAreas': 54, 'features_floors': 3, 'features_unitsOnTheFloor': 4, 'features_unitFloor': 1}, {'customerID': '109193-JIFRYKQX', 'source': 'Website', 'types_unit': 'Apartamento', 'types_usage': 'Residencial', 'address_city': 'Rio de Janeiro', 'address_location_lon': -43.177248, 'address_location_lat': -22.918874, 'address_zone': 'Zona Sul', 'address_neighborhood': 'Glória', 'prices_price': 180000.0, 'prices_tax_iptu': nan, 'prices_tax_condo': 430.0, 'features_bedrooms': 1, 'features_bathrooms': 1, 'features_suites': 0, 'features_parkingSpaces': 0, 'features_usableAreas': 30, 'features_totalAreas': 30, 'features_floors': 0, 'features_unitsOnTheFloor': 0, 'features_unitFloor': 0}, {'customerID': '500772-FRVQCCNM', 'source': 'Website', 'types_unit': 'Apartamento', 'types_usage': 'Residencial', 'address_city': 'Rio de Janeiro', 'address_location_lon': -43.175223, 'address_location_lat': -22.929451, 'address_zone': 'Zona Sul', 'address_neighborhood': 'Flamengo', 'prices_price': 189538.0, 'prices_tax_iptu': 0.0, 'prices_tax_condo': 420.0, 'features_bedrooms': 1, 'features_bathrooms': 1, 'features_suites': 0, 'features_parkingSpaces': 0, 'features_usableAreas': 38, 'features_totalAreas': 38, 'features_floors': 0, 'features_unitsOnTheFloor': 0, 'features_unitFloor': 8}, {'customerID': '295139-FJBOQNZG', 'source': 'Website', 'types_unit': 'Casa', 'types_usage': 'Residencial', 'address_city': 'Rio de Janeiro', 'address_location_lon': -43.183479, 'address_location_lat': -22.815214, 'address_zone': 'Zona Norte', 'address_neighborhood': 'Cacuia', 'prices_price': 190000.0, 'prices_tax_iptu': 0.0, 'prices_tax_condo': 0.0, 'features_bedrooms': 2, 'features_bathrooms': 2, 'features_suites': 0, 'features_parkingSpaces': 0, 'features_usableAreas': 90, 'features_totalAreas': 90, 'features_floors': 1, 'features_unitsOnTheFloor': 1, 'features_unitFloor': 2}, {'customerID': '361603-NRPYKJHN', 'source': 'Website', 'types_unit': 'Apartamento', 'types_usage': 'Residencial', 'address_city': 'Rio de Janeiro', 'address_location_lon': -43.191148, 'address_location_lat': -22.810404, 'address_zone': 'Zona Norte', 'address_neighborhood': 'Jardim Carioca', 'prices_price': 190000.0, 'prices_tax_iptu': 64.0, 'prices_tax_condo': 200.0, 'features_bedrooms': 2, 'features_bathrooms': 1, 'features_suites': 0, 'features_parkingSpaces': 0, 'features_usableAreas': 54, 'features_totalAreas': 54, 'features_floors': 0, 'features_unitsOnTheFloor': 0, 'features_unitFloor': 0}, {'customerID': '818918-MNSCWKIQ', 'source': 'Website', 'types_unit': 'Apartamento', 'types_usage': 'Residencial', 'address_city': 'Rio de Janeiro', 'address_location_lon': -43.252744, 'address_location_lat': -22.940915, 'address_zone': 'Zona Norte', 'address_neighborhood': 'Maracanã', 'prices_price': 185000.0, 'prices_tax_iptu': 0.0, 'prices_tax_condo': 498.0, 'features_bedrooms': 1, 'features_bathrooms': 1, 'features_suites': 0, 'features_parkingSpaces': 0, 'features_usableAreas': 33, 'features_totalAreas': 33, 'features_floors': 0, 'features_unitsOnTheFloor': 0, 'features_unitFloor': 0}, {'customerID': '654106-BGKRZUMW', 'source': 'Website', 'types_unit': 'Apartamento', 'types_usage': 'Residencial', 'address_city': 'Rio de Janeiro', 'address_location_lon': -43.309886, 'address_location_lat': -22.829333, 'address_zone': 'Zona Norte', 'address_neighborhood': 'Vista Alegre', 'prices_price': 200000.0, 'prices_tax_iptu': 0.0, 'prices_tax_condo': 255.0, 'features_bedrooms': 2, 'features_bathrooms': 1, 'features_suites': 0, 'features_parkingSpaces': 1, 'features_usableAreas': 54, 'features_totalAreas': 25000000, 'features_floors': 5, 'features_unitsOnTheFloor': 4, 'features_unitFloor': 3}, {'customerID': '431920-CBWWQVCO', 'source': 'Website', 'types_unit': 'Apartamento', 'types_usage': 'Residencial', 'address_city': 'Rio de Janeiro', 'address_location_lon': -43.209251, 'address_location_lat': -22.913408, 'address_zone': 'Zona Central', 'address_neighborhood': 'Estácio', 'prices_price': 199000.0, 'prices_tax_iptu': 0.0, 'prices_tax_condo': 600.0, 'features_bedrooms': 1, 'features_bathrooms': 1, 'features_suites': 0, 'features_parkingSpaces': 1, 'features_usableAreas': 40, 'features_totalAreas': 40, 'features_floors': 10, 'features_unitsOnTheFloor': 10, 'features_unitFloor': 6}, {'customerID': '638290-JLNDPSDR', 'source': 'Website', 'types_unit': 'Apartamento', 'types_usage': 'Residencial', 'address_city': 'Rio de Janeiro', 'address_location_lon': -43.206327, 'address_location_lat': -22.814286, 'address_zone': 'Zona Norte', 'address_neighborhood': 'Jardim Guanabara', 'prices_price': 200000.0, 'prices_tax_iptu': 0.0, 'prices_tax_condo': 330.0, 'features_bedrooms': 1, 'features_bathrooms': 1, 'features_suites': 0, 'features_parkingSpaces': 1, 'features_usableAreas': 20, 'features_totalAreas': 0, 'features_floors': 0, 'features_unitsOnTheFloor': 0, 'features_unitFloor': 2}, {'customerID': '446038-EBKREGWK', 'source': 'Website', 'types_unit': 'Apartamento', 'types_usage': 'Residencial', 'address_city': 'Rio de Janeiro', 'address_location_lon': -43.185584, 'address_location_lat': -22.969685, 'address_zone': 'Zona Sul', 'address_neighborhood': 'Leme', 'prices_price': 199000.0, 'prices_tax_iptu': 0.0, 'prices_tax_condo': 600.0, 'features_bedrooms': 1, 'features_bathrooms': 1, 'features_suites': 0, 'features_parkingSpaces': 0, 'features_usableAreas': 22, 'features_totalAreas': 22, 'features_floors': 0, 'features_unitsOnTheFloor': 0, 'features_unitFloor': 0}, {'customerID': '646768-PSDSNZKQ', 'source': 'Website', 'types_unit': 'Apartamento', 'types_usage': 'Residencial', 'address_city': 'Rio de Janeiro', 'address_location_lon': -43.40602, 'address_location_lat': -22.884002, 'address_zone': 'Zona Oeste', 'address_neighborhood': 'Vila Militar', 'prices_price': 210000.0, 'prices_tax_iptu': nan, 'prices_tax_condo': 250.0, 'features_bedrooms': 2, 'features_bathrooms': 1, 'features_suites': 0, 'features_parkingSpaces': 0, 'features_usableAreas': 64, 'features_totalAreas': 64, 'features_floors': 0, 'features_unitsOnTheFloor': 0, 'features_unitFloor': 0}, {'customerID': '072749-ZTQUOJAF', 'source': 'Website', 'types_unit': 'Casa', 'types_usage': 'Residencial', 'address_city': 'Rio de Janeiro', 'address_location_lon': -43.69673, 'address_location_lat': -22.936594, 'address_zone': 'Zona Oeste', 'address_neighborhood': 'Dumas', 'prices_price': 220000.0, 'prices_tax_iptu': 0.0, 'prices_tax_condo': 0.0, 'features_bedrooms': 3, 'features_bathrooms': 1, 'features_suites': 0, 'features_parkingSpaces': 2, 'features_usableAreas': 99, 'features_totalAreas': 99, 'features_floors': 0, 'features_unitsOnTheFloor': 0, 'features_unitFloor': 0}, {'customerID': '489585-WYJKRNEX', 'source': 'Website', 'types_unit': 'Apartamento', 'types_usage': 'Residencial', 'address_city': 'Rio de Janeiro', 'address_location_lon': -43.24014, 'address_location_lat': -22.906623, 'address_zone': 'Zona Norte', 'address_neighborhood': 'Mangueira', 'prices_price': 229000.0, 'prices_tax_iptu': 0.0, 'prices_tax_condo': 650.0, 'features_bedrooms': 2, 'features_bathrooms': 2, 'features_suites': 1, 'features_parkingSpaces': 1, 'features_usableAreas': 54, 'features_totalAreas': 0, 'features_floors': 0, 'features_unitsOnTheFloor': 0, 'features_unitFloor': 0}, {'customerID': '463525-YUBKLGUR', 'source': 'Website', 'types_unit': 'Apartamento', 'types_usage': 'Residencial', 'address_city': 'Rio de Janeiro', 'address_location_lon': -43.206783, 'address_location_lat': -22.79634, 'address_zone': 'Zona Norte', 'address_neighborhood': 'Moneró', 'prices_price': 230000.0, 'prices_tax_iptu': 0.0, 'prices_tax_condo': 363.0, 'features_bedrooms': 2, 'features_bathrooms': 1, 'features_suites': 0, 'features_parkingSpaces': 1, 'features_usableAreas': 54, 'features_totalAreas': 54, 'features_floors': 4, 'features_unitsOnTheFloor': 4, 'features_unitFloor': 1}, {'customerID': '186308-VDYSACDQ', 'source': 'Website', 'types_unit': 'Apartamento', 'types_usage': 'Residencial', 'address_city': 'Rio de Janeiro', 'address_location_lon': -43.178557, 'address_location_lat': -22.81493, 'address_zone': 'Zona Norte', 'address_neighborhood': 'Pitangueiras', 'prices_price': 230000.0, 'prices_tax_iptu': 0.0, 'prices_tax_condo': 391.0, 'features_bedrooms': 2, 'features_bathrooms': 1, 'features_suites': 0, 'features_parkingSpaces': 1, 'features_usableAreas': 55, 'features_totalAreas': 55, 'features_floors': 0, 'features_unitsOnTheFloor': 0, 'features_unitFloor': 0}, {'customerID': '033450-VTQJPVQK', 'source': 'Website', 'types_unit': 'Apartamento', 'types_usage': 'Residencial', 'address_city': 'Rio de Janeiro', 'address_location_lon': -43.170253, 'address_location_lat': -22.823244, 'address_zone': 'Zona Norte', 'address_neighborhood': 'Ribeira', 'prices_price': 235000.0, 'prices_tax_iptu': 0.0, 'prices_tax_condo': 400.0, 'features_bedrooms': 1, 'features_bathrooms': 1, 'features_suites': 0, 'features_parkingSpaces': 0, 'features_usableAreas': 55, 'features_totalAreas': 55, 'features_floors': 0, 'features_unitsOnTheFloor': 0, 'features_unitFloor': 0}, {'customerID': '107010-HDTCWREK', 'source': 'Website', 'types_unit': 'Apartamento', 'types_usage': 'Residencial', 'address_city': 'Rio de Janeiro', 'address_location_lon': -43.185944, 'address_location_lat': -22.897633, 'address_zone': 'Zona Central', 'address_neighborhood': 'Saúde', 'prices_price': 245000.0, 'prices_tax_iptu': 36.0, 'prices_tax_condo': 250.0, 'features_bedrooms': 2, 'features_bathrooms': 1, 'features_suites': 0, 'features_parkingSpaces': 1, 'features_usableAreas': 55, 'features_totalAreas': 0, 'features_floors': 18, 'features_unitsOnTheFloor': 10, 'features_unitFloor': 7}, {'customerID': '560328-VUYZNVBQ', 'source': 'Website', 'types_unit': 'Apartamento', 'types_usage': 'Residencial', 'address_city': 'Rio de Janeiro', 'address_location_lon': -43.223121, 'address_location_lat': -22.982519, 'address_zone': 'Zona Sul', 'address_neighborhood': 'Leblon', 'prices_price': 250000.0, 'prices_tax_iptu': nan, 'prices_tax_condo': 145.0, 'features_bedrooms': 1, 'features_bathrooms': 1, 'features_suites': 0, 'features_parkingSpaces': 0, 'features_usableAreas': 10, 'features_totalAreas': 0, 'features_floors': 0, 'features_unitsOnTheFloor': 0, 'features_unitFloor': 0}, {'customerID': '588136-YMBOMPUM', 'source': 'Website', 'types_unit': 'Casa', 'types_usage': 'Residencial', 'address_city': 'Rio de Janeiro', 'address_location_lon': -43.192531, 'address_location_lat': -22.900816, 'address_zone': 'Zona Central', 'address_neighborhood': 'Gamboa', 'prices_price': 250000.0, 'prices_tax_iptu': 0.0, 'prices_tax_condo': 0.0, 'features_bedrooms': 2, 'features_bathrooms': 2, 'features_suites': 0, 'features_parkingSpaces': 0, 'features_usableAreas': 94, 'features_totalAreas': 94, 'features_floors': 0, 'features_unitsOnTheFloor': 0, 'features_unitFloor': 0}, {'customerID': '978676-GYFVSKWD', 'source': 'Website', 'types_unit': 'Casa', 'types_usage': 'Residencial', 'address_city': 'Rio de Janeiro', 'address_location_lon': -43.41334, 'address_location_lat': -22.880919, 'address_zone': 'Zona Oeste', 'address_neighborhood': 'Campo dos Afonsos', 'prices_price': 259900.0, 'prices_tax_iptu': 0.0, 'prices_tax_condo': 0.0, 'features_bedrooms': 3, 'features_bathrooms': 3, 'features_suites': 1, 'features_parkingSpaces': 0, 'features_usableAreas': 90, 'features_totalAreas': 130, 'features_floors': 0, 'features_unitsOnTheFloor': 0, 'features_unitFloor': 2}, {'customerID': '905302-LVUKOIEI', 'source': 'Website', 'types_unit': 'Casa', 'types_usage': 'Residencial', 'address_city': 'Rio de Janeiro', 'address_location_lon': -43.175704, 'address_location_lat': -22.819177, 'address_zone': 'Zona Norte', 'address_neighborhood': 'Zumbi', 'prices_price': 260000.0, 'prices_tax_iptu': 25.0, 'prices_tax_condo': 0.0, 'features_bedrooms': 2, 'features_bathrooms': 1, 'features_suites': 0, 'features_parkingSpaces': 1, 'features_usableAreas': 46, 'features_totalAreas': 181, 'features_floors': 0, 'features_unitsOnTheFloor': 0, 'features_unitFloor': 0}, {'customerID': '412014-PIGUUNWR', 'source': 'Website', 'types_unit': 'Apartamento', 'types_usage': 'Residencial', 'address_city': 'Rio de Janeiro', 'address_location_lon': -43.256676, 'address_location_lat': -22.946932, 'address_zone': 'Zona Norte', 'address_neighborhood': 'Alto da Boa Vista', 'prices_price': 255000.0, 'prices_tax_iptu': 70.0, 'prices_tax_condo': 357.0, 'features_bedrooms': 2, 'features_bathrooms': 2, 'features_suites': 0, 'features_parkingSpaces': 0, 'features_usableAreas': 72, 'features_totalAreas': 72, 'features_floors': 0, 'features_unitsOnTheFloor': 0, 'features_unitFloor': 0}, {'customerID': '607461-SUCEIWXX', 'source': 'Website', 'types_unit': 'Casa', 'types_usage': 'Residencial', 'address_city': 'Rio de Janeiro', 'address_location_lon': -43.401671, 'address_location_lat': -22.839046, 'address_zone': 'Zona Norte', 'address_neighborhood': 'Ricardo de Albuquerque', 'prices_price': 270000.0, 'prices_tax_iptu': 0.0, 'prices_tax_condo': 0.0, 'features_bedrooms': 1, 'features_bathrooms': 1, 'features_suites': 0, 'features_parkingSpaces': 0, 'features_usableAreas': 125, 'features_totalAreas': 125, 'features_floors': 0, 'features_unitsOnTheFloor': 0, 'features_unitFloor': 0}, {'customerID': '307373-HUKNEUAX', 'source': 'Website', 'types_unit': 'Casa', 'types_usage': 'Residencial', 'address_city': 'Rio de Janeiro', 'address_location_lon': -43.398893, 'address_location_lat': -22.835903, 'address_zone': 'Zona Norte', 'address_neighborhood': 'Parque Anchieta', 'prices_price': 280000.0, 'prices_tax_iptu': 0.0, 'prices_tax_condo': 30.0, 'features_bedrooms': 2, 'features_bathrooms': 2, 'features_suites': 0, 'features_parkingSpaces': 1, 'features_usableAreas': 149, 'features_totalAreas': 149, 'features_floors': 0, 'features_unitsOnTheFloor': 0, 'features_unitFloor': 0}, {'customerID': '204639-BEDHJFAK', 'source': 'Website', 'types_unit': 'Apartamento', 'types_usage': 'Residencial', 'address_city': 'Rio de Janeiro', 'address_location_lon': -43.231548, 'address_location_lat': -22.977155, 'address_zone': 'Zona Sul', 'address_neighborhood': 'Gávea', 'prices_price': 370000.0, 'prices_tax_iptu': 847.0, 'prices_tax_condo': 250.0, 'features_bedrooms': 1, 'features_bathrooms': 1, 'features_suites': 0, 'features_parkingSpaces': 0, 'features_usableAreas': 29, 'features_totalAreas': 29, 'features_floors': 4, 'features_unitsOnTheFloor': 3, 'features_unitFloor': 4}, {'customerID': '639204-SJZPNPGY', 'source': 'Website', 'types_unit': 'Apartamento', 'types_usage': 'Residencial', 'address_city': 'Rio de Janeiro', 'address_location_lon': -43.223689, 'address_location_lat': -22.961651, 'address_zone': 'Zona Sul', 'address_neighborhood': 'Jardim Botânico', 'prices_price': 375000.0, 'prices_tax_iptu': 0.0, 'prices_tax_condo': 0.0, 'features_bedrooms': 2, 'features_bathrooms': 2, 'features_suites': 0, 'features_parkingSpaces': 0, 'features_usableAreas': 67, 'features_totalAreas': 67, 'features_floors': 3, 'features_unitsOnTheFloor': 2, 'features_unitFloor': 1}, {'customerID': '562973-DMTACDCY', 'source': 'Website', 'types_unit': 'Apartamento', 'types_usage': 'Residencial', 'address_city': 'Rio de Janeiro', 'address_location_lon': -43.364859, 'address_location_lat': -22.880085, 'address_zone': 'Zona Oeste', 'address_neighborhood': 'Cidade Universitária', 'prices_price': 395000.0, 'prices_tax_iptu': nan, 'prices_tax_condo': 590.0, 'features_bedrooms': 2, 'features_bathrooms': 2, 'features_suites': 1, 'features_parkingSpaces': 1, 'features_usableAreas': 65, 'features_totalAreas': 65, 'features_floors': 0, 'features_unitsOnTheFloor': 0, 'features_unitFloor': 0}, {'customerID': '029254-PKBPWQKR', 'source': 'Website', 'types_unit': 'Apartamento', 'types_usage': 'Residencial', 'address_city': 'Rio de Janeiro', 'address_location_lon': -43.162199, 'address_location_lat': -22.946213, 'address_zone': 'Zona Sul', 'address_neighborhood': 'Urca', 'prices_price': 400000.0, 'prices_tax_iptu': 100.0, 'prices_tax_condo': 400.0, 'features_bedrooms': 1, 'features_bathrooms': 1, 'features_suites': 0, 'features_parkingSpaces': 0, 'features_usableAreas': 25, 'features_totalAreas': 25, 'features_floors': 0, 'features_unitsOnTheFloor': 0, 'features_unitFloor': 0}, {'customerID': '615309-AUIPIJMW', 'source': 'Website', 'types_unit': 'Apartamento', 'types_usage': 'Residencial', 'address_city': 'Rio de Janeiro', 'address_location_lon': -43.198118, 'address_location_lat': -22.956278, 'address_zone': 'Zona Sul', 'address_neighborhood': 'Humaitá', 'prices_price': 400000.0, 'prices_tax_iptu': 117.0, 'prices_tax_condo': nan, 'features_bedrooms': 1, 'features_bathrooms': 1, 'features_suites': 0, 'features_parkingSpaces': 0, 'features_usableAreas': 30, 'features_totalAreas': 36, 'features_floors': 0, 'features_unitsOnTheFloor': 0, 'features_unitFloor': 0}, {'customerID': '034966-EXJWNMEN', 'source': 'Website', 'types_unit': 'Outros', 'types_usage': 'Residencial', 'address_city': 'Rio de Janeiro', 'address_location_lon': -43.199809, 'address_location_lat': -22.966372, 'address_zone': 'Zona Sul', 'address_neighborhood': 'Lagoa', 'prices_price': 439574.0, 'prices_tax_iptu': nan, 'prices_tax_condo': nan, 'features_bedrooms': 0, 'features_bathrooms': 0, 'features_suites': 0, 'features_parkingSpaces': 0, 'features_usableAreas': 387, 'features_totalAreas': 387, 'features_floors': 0, 'features_unitsOnTheFloor': 0, 'features_unitFloor': 0}, {'customerID': '543186-FNHBJUBZ', 'source': 'Website', 'types_unit': 'Outros', 'types_usage': 'Residencial', 'address_city': 'Rio de Janeiro', 'address_location_lon': -43.256071, 'address_location_lat': -22.993336, 'address_zone': 'Zona Sul', 'address_neighborhood': 'São Conrado', 'prices_price': 475000.0, 'prices_tax_iptu': 8475.0, 'prices_tax_condo': 120.0, 'features_bedrooms': 0, 'features_bathrooms': 0, 'features_suites': 0, 'features_parkingSpaces': 0, 'features_usableAreas': 450, 'features_totalAreas': 450, 'features_floors': 0, 'features_unitsOnTheFloor': 0, 'features_unitFloor': 0}, {'customerID': '995320-WJHYOFEX', 'source': 'Website', 'types_unit': 'Casa', 'types_usage': 'Residencial', 'address_city': 'Rio de Janeiro', 'address_location_lon': -43.337189, 'address_location_lat': -22.813252, 'address_zone': 'Zona Norte', 'address_neighborhood': 'Parque Colúmbia', 'prices_price': 480000.0, 'prices_tax_iptu': 0.0, 'prices_tax_condo': 0.0, 'features_bedrooms': 5, 'features_bathrooms': 8, 'features_suites': 0, 'features_parkingSpaces': 1, 'features_usableAreas': 121, 'features_totalAreas': 121, 'features_floors': 0, 'features_unitsOnTheFloor': 0, 'features_unitFloor': 0}, {'customerID': '907281-NDKXWBUD', 'source': 'Website', 'types_unit': 'Apartamento', 'types_usage': 'Residencial', 'address_city': 'Rio de Janeiro', 'address_location_lon': -43.197861, 'address_location_lat': -22.986763, 'address_zone': 'Zona Sul', 'address_neighborhood': 'Ipanema', 'prices_price': 485000.0, 'prices_tax_iptu': 750.0, 'prices_tax_condo': 650.0, 'features_bedrooms': 1, 'features_bathrooms': 1, 'features_suites': 0, 'features_parkingSpaces': 0, 'features_usableAreas': 30, 'features_totalAreas': 30, 'features_floors': 12, 'features_unitsOnTheFloor': 10, 'features_unitFloor': 8}, {'customerID': '680244-ONBPWTUC', 'source': 'Website', 'types_unit': 'Apartamento', 'types_usage': 'Residencial', 'address_city': 'Rio de Janeiro', 'address_location_lon': -43.19845, 'address_location_lat': -22.942318, 'address_zone': 'Zona Sul', 'address_neighborhood': 'Cosme Velho', 'prices_price': 590000.0, 'prices_tax_iptu': 90.0, 'prices_tax_condo': 500.0, 'features_bedrooms': 2, 'features_bathrooms': 1, 'features_suites': 0, 'features_parkingSpaces': 0, 'features_usableAreas': 77, 'features_totalAreas': 77, 'features_floors': 0, 'features_unitsOnTheFloor': 0, 'features_unitFloor': 0}, {'customerID': '445496-DTNEZSHE', 'source': 'Website', 'types_unit': 'Outros', 'types_usage': 'Residencial', 'address_city': 'Rio de Janeiro', 'address_location_lon': -43.172897, 'address_location_lat': -22.906847, 'address_zone': 'Zona Central', 'address_neighborhood': 'Área Rural de Rio de Janeiro', 'prices_price': 600000.0, 'prices_tax_iptu': 0.0, 'prices_tax_condo': 0.0, 'features_bedrooms': 0, 'features_bathrooms': 0, 'features_suites': 0, 'features_parkingSpaces': 0, 'features_usableAreas': 0, 'features_totalAreas': 0, 'features_floors': 0, 'features_unitsOnTheFloor': 0, 'features_unitFloor': 0}, {'customerID': '505027-MHKZWGJJ', 'source': 'Website', 'types_unit': 'Apartamento', 'types_usage': 'Residencial', 'address_city': 'Rio de Janeiro', 'address_location_lon': -43.271541, 'address_location_lat': -22.999023, 'address_zone': 'Zona Sul', 'address_neighborhood': 'Joá', 'prices_price': 980000.0, 'prices_tax_iptu': 250.0, 'prices_tax_condo': 1200.0, 'features_bedrooms': 3, 'features_bathrooms': 2, 'features_suites': 1, 'features_parkingSpaces': 1, 'features_usableAreas': 110, 'features_totalAreas': 110, 'features_floors': 0, 'features_unitsOnTheFloor': 0, 'features_unitFloor': 0}, {'customerID': '503242-HDVZOJAQ', 'source': 'Website', 'types_unit': 'Outros', 'types_usage': 'Residencial', 'address_city': 'Rio de Janeiro', 'address_location_lon': -43.227361, 'address_location_lat': -22.786419, 'address_zone': 'Zona Norte', 'address_neighborhood': 'Tubiacanga', 'prices_price': 1000000.0, 'prices_tax_iptu': nan, 'prices_tax_condo': nan, 'features_bedrooms': 8, 'features_bathrooms': 4, 'features_suites': 5, 'features_parkingSpaces': 4, 'features_usableAreas': 720, 'features_totalAreas': 720, 'features_floors': 0, 'features_unitsOnTheFloor': 0, 'features_unitFloor': 1}]\n"
          ]
        }
      ],
      "source": [
        "dici = data_prop[~data_prop['address_zone'].isna()].drop_duplicates(subset=['address_neighborhood']).to_dict('records')\n",
        "print(dici)"
      ]
    },
    {
      "cell_type": "code",
      "execution_count": 17,
      "metadata": {
        "id": "WQodJOf3joty"
      },
      "outputs": [
        {
          "name": "stdout",
          "output_type": "stream",
          "text": [
            "{'Taquara': 'Zona Oeste', 'Santíssimo': 'Zona Oeste', 'Pedra de Guaratiba': 'Zona Oeste', 'Recreio dos Bandeirantes': 'Zona Oeste', 'Guaratiba': 'Zona Oeste', 'Jacarezinho': 'Zona Norte', 'Santa Cruz': 'Zona Oeste', 'Vargem Grande': 'Zona Oeste', 'Bangu': 'Zona Oeste', 'Tanque': 'Zona Oeste', 'Santo Cristo': 'Zona Central', 'Coelho Neto': 'Zona Norte', 'Bento Ribeiro': 'Zona Norte', 'Campo Grande': 'Zona Oeste', 'Oswaldo Cruz': 'Zona Norte', 'Camorim': 'Zona Oeste', 'Sepetiba': 'Zona Oeste', 'Vigário Geral': 'Zona Norte', 'Campinho': 'Zona Norte', 'Realengo': 'Zona Oeste', 'Jacarepaguá': 'Zona Oeste', 'Cidade de Deus': 'Zona Oeste', 'Honório Gurgel': 'Zona Norte', 'Centro': 'Zona Central', 'Cosmos': 'Zona Oeste', 'Tomás Coelho': 'Zona Norte', 'Cascadura': 'Zona Norte', 'Pavuna': 'Zona Norte', 'Paciência': 'Zona Oeste', 'Praça Seca': 'Zona Oeste', 'Vila Valqueire': 'Zona Oeste', 'Inhoaíba': 'Zona Oeste', 'Vicente de Carvalho': 'Zona Norte', 'Senador Vasconcelos': 'Zona Oeste', 'Turiaçu': 'Zona Norte', 'Penha Circular': 'Zona Norte', 'Quintino Bocaiúva': 'Zona Norte', 'Sampaio': 'Zona Norte', 'Piedade': 'Zona Norte', 'Braz de Pina': 'Zona Norte', 'São Cristóvão': 'Zona Norte', 'Marechal Hermes': 'Zona Norte', 'Santa Teresa': 'Zona Sul', 'Vila Isabel': 'Zona Norte', 'Curicica': 'Zona Oeste', 'Engenho de Dentro': 'Zona Norte', 'Engenho da Rainha': 'Zona Norte', 'Madureira': 'Zona Norte', 'Engenho Novo': 'Zona Norte', 'Engenheiro Leal': 'Zona Norte', 'Higienópolis': 'Zona Norte', 'Padre Miguel': 'Zona Oeste', 'Rocha Miranda': 'Zona Norte', 'Pilares': 'Zona Norte', 'Anchieta': 'Zona Norte', 'Jardim Sulacap': 'Zona Oeste', 'Encantado': 'Zona Norte', 'Galeão': 'Zona Norte', 'Parada de Lucas': 'Zona Norte', 'Olaria': 'Zona Norte', 'Bonsucesso': 'Zona Norte', 'Méier': 'Zona Norte', 'Laranjeiras': 'Zona Sul', 'Cordovil': 'Zona Norte', 'Abolição': 'Zona Norte', 'Inhaúma': 'Zona Norte', 'Bancários': 'Zona Norte', 'Lins de Vasconcelos': 'Zona Norte', 'Ramos': 'Zona Norte', 'Irajá': 'Zona Norte', 'Rio Comprido': 'Zona Sul', 'Guadalupe': 'Zona Norte', 'Penha': 'Zona Norte', 'Riachuelo': 'Zona Norte', 'Tijuca': 'Zona Norte', 'Pechincha': 'Zona Oeste', 'Vaz Lobo': 'Zona Norte', 'Freguesia (Ilha do Governador)': 'Zona Norte', 'Cavalcanti': 'Zona Norte', 'Senador Camará': 'Zona Oeste', 'Vargem Pequena': 'Zona Oeste', 'Praça da Bandeira': 'Zona Norte', 'Vila Kosmos': 'Zona Norte', 'Catete': 'Zona Sul', 'Rocha': 'Zona Norte', 'Colégio': 'Zona Norte', 'Del Castilho': 'Zona Norte', 'Grajaú': 'Zona Norte', 'Barra de Guaratiba': 'Zona Oeste', 'Anil': 'Zona Oeste', 'Andaraí': 'Zona Norte', 'Vila da Penha': 'Zona Norte', 'Magalhães Bastos': 'Zona Oeste', 'Barra da Tijuca': 'Zona Oeste', 'Freguesia (Jacarepaguá)': 'Zona Oeste', 'Copacabana': 'Zona Sul', 'São Francisco Xavier': 'Zona Norte', 'Água Santa': 'Zona Norte', 'Itanhangá': 'Zona Oeste', 'Jardim América': 'Zona Norte', 'Portuguesa': 'Zona Norte', 'Vidigal': 'Zona Sul', 'Cachambi': 'Zona Norte', 'Tauá': 'Zona Norte', 'Maria da Graça': 'Zona Norte', 'Gardênia Azul': 'Zona Oeste', 'Catumbi': 'Zona Sul', 'Jacaré': 'Zona Norte', 'Todos os Santos': 'Zona Norte', 'Praia da Bandeira': 'Zona Norte', 'Cocotá': 'Zona Norte', 'Botafogo': 'Zona Sul', 'Paquetá': 'Zona Norte', 'Caju': 'Zona Norte', 'Benfica': 'Zona Norte', 'Cidade Nova': 'Zona Central', 'Glória': 'Zona Sul', 'Flamengo': 'Zona Sul', 'Cacuia': 'Zona Norte', 'Jardim Carioca': 'Zona Norte', 'Maracanã': 'Zona Norte', 'Vista Alegre': 'Zona Norte', 'Estácio': 'Zona Central', 'Jardim Guanabara': 'Zona Norte', 'Leme': 'Zona Sul', 'Vila Militar': 'Zona Oeste', 'Dumas': 'Zona Oeste', 'Mangueira': 'Zona Norte', 'Moneró': 'Zona Norte', 'Pitangueiras': 'Zona Norte', 'Ribeira': 'Zona Norte', 'Saúde': 'Zona Central', 'Leblon': 'Zona Sul', 'Gamboa': 'Zona Central', 'Campo dos Afonsos': 'Zona Oeste', 'Zumbi': 'Zona Norte', 'Alto da Boa Vista': 'Zona Norte', 'Ricardo de Albuquerque': 'Zona Norte', 'Parque Anchieta': 'Zona Norte', 'Gávea': 'Zona Sul', 'Jardim Botânico': 'Zona Sul', 'Cidade Universitária': 'Zona Oeste', 'Urca': 'Zona Sul', 'Humaitá': 'Zona Sul', 'Lagoa': 'Zona Sul', 'São Conrado': 'Zona Sul', 'Parque Colúmbia': 'Zona Norte', 'Ipanema': 'Zona Sul', 'Cosme Velho': 'Zona Sul', 'Área Rural de Rio de Janeiro': 'Zona Central', 'Joá': 'Zona Sul', 'Tubiacanga': 'Zona Norte'}\n"
          ]
        }
      ],
      "source": [
        "dict_zones = {dic['address_neighborhood']: dic['address_zone'] for dic in dici}\n",
        "print(dict_zones)"
      ]
    },
    {
      "cell_type": "code",
      "execution_count": 18,
      "metadata": {
        "id": "o7ev6bRMGwPP"
      },
      "outputs": [],
      "source": [
        "for neighborhood,zone in dict_zones.items(): data_prop.loc[data_prop['address_neighborhood'] == neighborhood, 'address_zone' ] = zone "
      ]
    },
    {
      "cell_type": "code",
      "execution_count": 19,
      "metadata": {
        "id": "YdB2gnHoG1rN"
      },
      "outputs": [
        {
          "data": {
            "text/plain": [
              "0"
            ]
          },
          "execution_count": 19,
          "metadata": {},
          "output_type": "execute_result"
        }
      ],
      "source": [
        "data_prop['address_zone'].isnull().sum()"
      ]
    },
    {
      "cell_type": "markdown",
      "metadata": {
        "id": "1EU9EG9vjotz"
      },
      "source": [
        "#### Dados nulos prices"
      ]
    },
    {
      "cell_type": "code",
      "execution_count": 20,
      "metadata": {
        "id": "C4kdOgqujotz"
      },
      "outputs": [
        {
          "data": {
            "text/plain": [
              "6061"
            ]
          },
          "execution_count": 20,
          "metadata": {},
          "output_type": "execute_result"
        }
      ],
      "source": [
        "data_prop.prices_tax_iptu.isnull().sum()\n",
        "data_prop.prices_tax_condo.isnull().sum()"
      ]
    },
    {
      "cell_type": "code",
      "execution_count": 21,
      "metadata": {
        "id": "gJ5ih9vljotz"
      },
      "outputs": [],
      "source": [
        "data_prop.prices_tax_iptu.fillna(0, inplace=True)\n",
        "data_prop.prices_tax_condo.fillna(0, inplace=True)"
      ]
    },
    {
      "cell_type": "markdown",
      "metadata": {
        "id": "wRjLUDMKjot2"
      },
      "source": [
        "\n",
        "### Change column names and variable selection"
      ]
    },
    {
      "cell_type": "code",
      "execution_count": 22,
      "metadata": {
        "id": "ZO01Zqc7lLyV"
      },
      "outputs": [],
      "source": [
        "data_prop.drop(['customerID', 'source', 'types_usage', 'address_city', \n",
        "                    'address_location_lon', 'address_location_lat','address_neighborhood' ], axis = 1, inplace=True)"
      ]
    },
    {
      "cell_type": "code",
      "execution_count": 23,
      "metadata": {
        "id": "HLT13EDejot2"
      },
      "outputs": [
        {
          "data": {
            "text/html": [
              "<div>\n",
              "<style scoped>\n",
              "    .dataframe tbody tr th:only-of-type {\n",
              "        vertical-align: middle;\n",
              "    }\n",
              "\n",
              "    .dataframe tbody tr th {\n",
              "        vertical-align: top;\n",
              "    }\n",
              "\n",
              "    .dataframe thead th {\n",
              "        text-align: right;\n",
              "    }\n",
              "</style>\n",
              "<table border=\"1\" class=\"dataframe\">\n",
              "  <thead>\n",
              "    <tr style=\"text-align: right;\">\n",
              "      <th></th>\n",
              "      <th>unit</th>\n",
              "      <th>zone</th>\n",
              "      <th>price</th>\n",
              "      <th>tax_iptu</th>\n",
              "      <th>tax_condo</th>\n",
              "      <th>bedrooms</th>\n",
              "      <th>bathrooms</th>\n",
              "      <th>suites</th>\n",
              "      <th>parkingSpaces</th>\n",
              "      <th>usableAreas</th>\n",
              "      <th>totalAreas</th>\n",
              "      <th>floors</th>\n",
              "      <th>unitsOnTheFloor</th>\n",
              "      <th>unitFloor</th>\n",
              "    </tr>\n",
              "  </thead>\n",
              "  <tbody>\n",
              "    <tr>\n",
              "      <th>0</th>\n",
              "      <td>Outros</td>\n",
              "      <td>Zona Oeste</td>\n",
              "      <td>45000.0</td>\n",
              "      <td>0.0</td>\n",
              "      <td>150.0</td>\n",
              "      <td>0</td>\n",
              "      <td>0</td>\n",
              "      <td>0</td>\n",
              "      <td>1</td>\n",
              "      <td>62</td>\n",
              "      <td>62</td>\n",
              "      <td>0</td>\n",
              "      <td>0</td>\n",
              "      <td>0</td>\n",
              "    </tr>\n",
              "    <tr>\n",
              "      <th>1</th>\n",
              "      <td>Apartamento</td>\n",
              "      <td>Zona Oeste</td>\n",
              "      <td>45000.0</td>\n",
              "      <td>0.0</td>\n",
              "      <td>120.0</td>\n",
              "      <td>2</td>\n",
              "      <td>1</td>\n",
              "      <td>0</td>\n",
              "      <td>1</td>\n",
              "      <td>44</td>\n",
              "      <td>0</td>\n",
              "      <td>0</td>\n",
              "      <td>0</td>\n",
              "      <td>0</td>\n",
              "    </tr>\n",
              "    <tr>\n",
              "      <th>2</th>\n",
              "      <td>Outros</td>\n",
              "      <td>Zona Oeste</td>\n",
              "      <td>50000.0</td>\n",
              "      <td>0.0</td>\n",
              "      <td>100.0</td>\n",
              "      <td>0</td>\n",
              "      <td>0</td>\n",
              "      <td>0</td>\n",
              "      <td>0</td>\n",
              "      <td>132</td>\n",
              "      <td>132</td>\n",
              "      <td>0</td>\n",
              "      <td>0</td>\n",
              "      <td>0</td>\n",
              "    </tr>\n",
              "    <tr>\n",
              "      <th>3</th>\n",
              "      <td>Apartamento</td>\n",
              "      <td>Zona Oeste</td>\n",
              "      <td>50000.0</td>\n",
              "      <td>120.0</td>\n",
              "      <td>400.0</td>\n",
              "      <td>3</td>\n",
              "      <td>2</td>\n",
              "      <td>1</td>\n",
              "      <td>1</td>\n",
              "      <td>60</td>\n",
              "      <td>0</td>\n",
              "      <td>3</td>\n",
              "      <td>4</td>\n",
              "      <td>2</td>\n",
              "    </tr>\n",
              "    <tr>\n",
              "      <th>4</th>\n",
              "      <td>Outros</td>\n",
              "      <td>Zona Oeste</td>\n",
              "      <td>50000.0</td>\n",
              "      <td>0.0</td>\n",
              "      <td>0.0</td>\n",
              "      <td>0</td>\n",
              "      <td>0</td>\n",
              "      <td>0</td>\n",
              "      <td>0</td>\n",
              "      <td>200</td>\n",
              "      <td>200</td>\n",
              "      <td>0</td>\n",
              "      <td>0</td>\n",
              "      <td>0</td>\n",
              "    </tr>\n",
              "  </tbody>\n",
              "</table>\n",
              "</div>"
            ],
            "text/plain": [
              "          unit        zone    price  tax_iptu  tax_condo  bedrooms  bathrooms  \\\n",
              "0       Outros  Zona Oeste  45000.0       0.0      150.0         0          0   \n",
              "1  Apartamento  Zona Oeste  45000.0       0.0      120.0         2          1   \n",
              "2       Outros  Zona Oeste  50000.0       0.0      100.0         0          0   \n",
              "3  Apartamento  Zona Oeste  50000.0     120.0      400.0         3          2   \n",
              "4       Outros  Zona Oeste  50000.0       0.0        0.0         0          0   \n",
              "\n",
              "   suites  parkingSpaces  usableAreas  totalAreas  floors  unitsOnTheFloor  \\\n",
              "0       0              1           62          62       0                0   \n",
              "1       0              1           44           0       0                0   \n",
              "2       0              0          132         132       0                0   \n",
              "3       1              1           60           0       3                4   \n",
              "4       0              0          200         200       0                0   \n",
              "\n",
              "   unitFloor  \n",
              "0          0  \n",
              "1          0  \n",
              "2          0  \n",
              "3          2  \n",
              "4          0  "
            ]
          },
          "execution_count": 23,
          "metadata": {},
          "output_type": "execute_result"
        }
      ],
      "source": [
        "dict_columns = {'types_unit':'unit','address_zone': 'zone', 'prices_price': 'price',\n",
        "                     'prices_tax_condo': 'tax_condo', 'prices_tax_iptu': 'tax_iptu', 'features_bedrooms': 'bedrooms',\n",
        "                      'features_bathrooms': 'bathrooms', 'features_suites': 'suites', 'features_parkingSpaces': 'parkingSpaces',\n",
        "                      'features_usableAreas': 'usableAreas', 'features_totalAreas':'totalAreas', 'features_floors':'floors',\n",
        "                      'features_unitsOnTheFloor':'unitsOnTheFloor', 'features_unitFloor':'unitFloor'}\n",
        "\n",
        "data_prop = data_prop.rename(dict_columns, axis = 1)\n",
        "data_prop.head()"
      ]
    },
    {
      "cell_type": "markdown",
      "metadata": {
        "id": "2W6DLSKVjot1"
      },
      "source": [
        "# 2 - Linear Regression"
      ]
    },
    {
      "cell_type": "markdown",
      "metadata": {
        "id": "aQShHdqZjot2"
      },
      "source": [
        "## 2.1 - Correlation"
      ]
    },
    {
      "cell_type": "markdown",
      "metadata": {
        "id": "gRLWHhMvDyXm"
      },
      "source": [
        "\n",
        "* Correlation: degree of relationship between variables. This relationship can be positive or negative.\n",
        "\n",
        "* Multicollinearity: perfect or exact relationship between variables.\n"
      ]
    },
    {
      "cell_type": "code",
      "execution_count": 25,
      "metadata": {
        "id": "jmKvh9xgjot3"
      },
      "outputs": [],
      "source": [
        "correlation = data_prop.corr(numeric_only=True)"
      ]
    },
    {
      "cell_type": "markdown",
      "metadata": {
        "id": "dic6lmcpjot4"
      },
      "source": [
        " [Docs Seaborn](https://seaborn.pydata.org/generated/seaborn.heatmap.html)"
      ]
    },
    {
      "cell_type": "code",
      "execution_count": 26,
      "metadata": {
        "id": "j4Z5ecHkjot4"
      },
      "outputs": [
        {
          "data": {
            "image/png": "[encoded data removed]",
            "text/plain": [
              "<Figure size 1300x800 with 2 Axes>"
            ]
          },
          "metadata": {},
          "output_type": "display_data"
        }
      ],
      "source": [
        "import seaborn as sns\n",
        "import matplotlib.pyplot as plt\n",
        "cores = sns.color_palette('light:salmon', as_cmap=True)\n",
        "mask = np.zeros_like(correlation)\n",
        "mask[np.triu_indices_from(mask)] = True\n",
        "with sns.axes_style(\"white\"):\n",
        "    f, ax = plt.subplots(figsize=(13, 8))\n",
        "    ax = sns.heatmap(correlation, cmap=cores, mask=mask, square=True, fmt='.2f', annot=True)"
      ]
    },
    {
      "cell_type": "markdown",
      "metadata": {
        "id": "6LjngPTujot4"
      },
      "source": [
        "Análise da distribuição da variável resposta."
      ]
    },
    {
      "cell_type": "code",
      "execution_count": 27,
      "metadata": {
        "id": "WqRkQ5e-jot5"
      },
      "outputs": [
        {
          "data": {
            "image/png": "[encoded data removed]",
            "text/plain": [
              "<Figure size 2000x1000 with 1 Axes>"
            ]
          },
          "metadata": {},
          "output_type": "display_data"
        }
      ],
      "source": [
        "ax = sns.histplot(data=data_prop, x='price', kde=True)\n",
        "ax.figure.set_size_inches(20,10)\n",
        "ax.set_title('Price Histogram')\n",
        "ax.set_label('Price')"
      ]
    },
    {
      "cell_type": "markdown",
      "metadata": {
        "id": "WAhjZkomjot4"
      },
      "source": [
        "### Variable transformation"
      ]
    },
    {
      "cell_type": "markdown",
      "metadata": {
        "id": "CkVVqamcjot5"
      },
      "source": [
        "\n",
        "We are performing a logarithmic transformation of the variables to obtain a symmetric distribution (closer to normal), so that we can use the linear regression model. The transformation performed is:\n",
        "\n",
        "$$log1p = log(1+x)$$\n",
        "\n",
        "\n",
        "Remember to perform the inverse transformation to obtain the original value:\n",
        "\n",
        "$$expm1 = exp(x) - 1$$ \n",
        "\n",
        "\n",
        " [`log1p`](https://numpy.org/doc/stable/reference/generated/numpy.log1p.html), [`expm1`](https://numpy.org/doc/stable/reference/generated/numpy.expm1.html#numpy.expm1) and [`FunctionTransformer`](https://scikit-learn.org/stable/modules/generated/sklearn.preprocessing.FunctionTransformer.html#sklearn.preprocessing.FunctionTransformer)\n",
        "\n"
      ]
    },
    {
      "cell_type": "code",
      "execution_count": 35,
      "metadata": {
        "id": "wkrvIDpDjot5"
      },
      "outputs": [
        {
          "name": "stderr",
          "output_type": "stream",
          "text": [
            "C:\\Users\\camila-paula\\AppData\\Roaming\\Python\\Python311\\site-packages\\sklearn\\base.py:457: UserWarning: X has feature names, but FunctionTransformer was fitted without feature names\n",
            "  warnings.warn(\n"
          ]
        },
        {
          "data": {
            "text/html": [
              "<div>\n",
              "<style scoped>\n",
              "    .dataframe tbody tr th:only-of-type {\n",
              "        vertical-align: middle;\n",
              "    }\n",
              "\n",
              "    .dataframe tbody tr th {\n",
              "        vertical-align: top;\n",
              "    }\n",
              "\n",
              "    .dataframe thead th {\n",
              "        text-align: right;\n",
              "    }\n",
              "</style>\n",
              "<table border=\"1\" class=\"dataframe\">\n",
              "  <thead>\n",
              "    <tr style=\"text-align: right;\">\n",
              "      <th></th>\n",
              "      <th>unit</th>\n",
              "      <th>zone</th>\n",
              "      <th>price</th>\n",
              "      <th>tax_iptu</th>\n",
              "      <th>tax_condo</th>\n",
              "      <th>bedrooms</th>\n",
              "      <th>bathrooms</th>\n",
              "      <th>suites</th>\n",
              "      <th>parkingSpaces</th>\n",
              "      <th>usableAreas</th>\n",
              "      <th>totalAreas</th>\n",
              "      <th>floors</th>\n",
              "      <th>unitsOnTheFloor</th>\n",
              "      <th>unitFloor</th>\n",
              "    </tr>\n",
              "  </thead>\n",
              "  <tbody>\n",
              "    <tr>\n",
              "      <th>0</th>\n",
              "      <td>Outros</td>\n",
              "      <td>Zona Oeste</td>\n",
              "      <td>10.714440</td>\n",
              "      <td>0.000000</td>\n",
              "      <td>5.017280</td>\n",
              "      <td>0.000000</td>\n",
              "      <td>0.000000</td>\n",
              "      <td>0.000000</td>\n",
              "      <td>0.693147</td>\n",
              "      <td>4.143135</td>\n",
              "      <td>4.143135</td>\n",
              "      <td>0.000000</td>\n",
              "      <td>0.000000</td>\n",
              "      <td>0.000000</td>\n",
              "    </tr>\n",
              "    <tr>\n",
              "      <th>1</th>\n",
              "      <td>Apartamento</td>\n",
              "      <td>Zona Oeste</td>\n",
              "      <td>10.714440</td>\n",
              "      <td>0.000000</td>\n",
              "      <td>4.795791</td>\n",
              "      <td>1.098612</td>\n",
              "      <td>0.693147</td>\n",
              "      <td>0.000000</td>\n",
              "      <td>0.693147</td>\n",
              "      <td>3.806662</td>\n",
              "      <td>0.000000</td>\n",
              "      <td>0.000000</td>\n",
              "      <td>0.000000</td>\n",
              "      <td>0.000000</td>\n",
              "    </tr>\n",
              "    <tr>\n",
              "      <th>2</th>\n",
              "      <td>Outros</td>\n",
              "      <td>Zona Oeste</td>\n",
              "      <td>10.819798</td>\n",
              "      <td>0.000000</td>\n",
              "      <td>4.615121</td>\n",
              "      <td>0.000000</td>\n",
              "      <td>0.000000</td>\n",
              "      <td>0.000000</td>\n",
              "      <td>0.000000</td>\n",
              "      <td>4.890349</td>\n",
              "      <td>4.890349</td>\n",
              "      <td>0.000000</td>\n",
              "      <td>0.000000</td>\n",
              "      <td>0.000000</td>\n",
              "    </tr>\n",
              "    <tr>\n",
              "      <th>3</th>\n",
              "      <td>Apartamento</td>\n",
              "      <td>Zona Oeste</td>\n",
              "      <td>10.819798</td>\n",
              "      <td>4.795791</td>\n",
              "      <td>5.993961</td>\n",
              "      <td>1.386294</td>\n",
              "      <td>1.098612</td>\n",
              "      <td>0.693147</td>\n",
              "      <td>0.693147</td>\n",
              "      <td>4.110874</td>\n",
              "      <td>0.000000</td>\n",
              "      <td>1.386294</td>\n",
              "      <td>1.609438</td>\n",
              "      <td>1.098612</td>\n",
              "    </tr>\n",
              "    <tr>\n",
              "      <th>4</th>\n",
              "      <td>Outros</td>\n",
              "      <td>Zona Oeste</td>\n",
              "      <td>10.819798</td>\n",
              "      <td>0.000000</td>\n",
              "      <td>0.000000</td>\n",
              "      <td>0.000000</td>\n",
              "      <td>0.000000</td>\n",
              "      <td>0.000000</td>\n",
              "      <td>0.000000</td>\n",
              "      <td>5.303305</td>\n",
              "      <td>5.303305</td>\n",
              "      <td>0.000000</td>\n",
              "      <td>0.000000</td>\n",
              "      <td>0.000000</td>\n",
              "    </tr>\n",
              "    <tr>\n",
              "      <th>...</th>\n",
              "      <td>...</td>\n",
              "      <td>...</td>\n",
              "      <td>...</td>\n",
              "      <td>...</td>\n",
              "      <td>...</td>\n",
              "      <td>...</td>\n",
              "      <td>...</td>\n",
              "      <td>...</td>\n",
              "      <td>...</td>\n",
              "      <td>...</td>\n",
              "      <td>...</td>\n",
              "      <td>...</td>\n",
              "      <td>...</td>\n",
              "      <td>...</td>\n",
              "    </tr>\n",
              "    <tr>\n",
              "      <th>69583</th>\n",
              "      <td>Casa</td>\n",
              "      <td>Zona Oeste</td>\n",
              "      <td>16.118096</td>\n",
              "      <td>7.972811</td>\n",
              "      <td>7.762596</td>\n",
              "      <td>1.791759</td>\n",
              "      <td>2.397895</td>\n",
              "      <td>0.693147</td>\n",
              "      <td>1.609438</td>\n",
              "      <td>6.932448</td>\n",
              "      <td>6.932448</td>\n",
              "      <td>0.000000</td>\n",
              "      <td>0.000000</td>\n",
              "      <td>0.000000</td>\n",
              "    </tr>\n",
              "    <tr>\n",
              "      <th>69584</th>\n",
              "      <td>Casa</td>\n",
              "      <td>Zona Oeste</td>\n",
              "      <td>16.118096</td>\n",
              "      <td>9.615872</td>\n",
              "      <td>8.006701</td>\n",
              "      <td>1.791759</td>\n",
              "      <td>2.079442</td>\n",
              "      <td>1.791759</td>\n",
              "      <td>1.945910</td>\n",
              "      <td>6.621406</td>\n",
              "      <td>7.131699</td>\n",
              "      <td>0.000000</td>\n",
              "      <td>0.000000</td>\n",
              "      <td>0.000000</td>\n",
              "    </tr>\n",
              "    <tr>\n",
              "      <th>69585</th>\n",
              "      <td>Apartamento</td>\n",
              "      <td>Zona Sul</td>\n",
              "      <td>16.118096</td>\n",
              "      <td>0.000000</td>\n",
              "      <td>0.000000</td>\n",
              "      <td>1.609438</td>\n",
              "      <td>1.791759</td>\n",
              "      <td>1.609438</td>\n",
              "      <td>1.386294</td>\n",
              "      <td>5.796058</td>\n",
              "      <td>5.796058</td>\n",
              "      <td>0.000000</td>\n",
              "      <td>0.000000</td>\n",
              "      <td>0.000000</td>\n",
              "    </tr>\n",
              "    <tr>\n",
              "      <th>69586</th>\n",
              "      <td>Casa</td>\n",
              "      <td>Zona Oeste</td>\n",
              "      <td>16.118096</td>\n",
              "      <td>10.463132</td>\n",
              "      <td>7.783641</td>\n",
              "      <td>1.791759</td>\n",
              "      <td>2.397895</td>\n",
              "      <td>1.791759</td>\n",
              "      <td>1.609438</td>\n",
              "      <td>6.932448</td>\n",
              "      <td>6.932448</td>\n",
              "      <td>0.000000</td>\n",
              "      <td>0.000000</td>\n",
              "      <td>1.386294</td>\n",
              "    </tr>\n",
              "    <tr>\n",
              "      <th>69587</th>\n",
              "      <td>Apartamento</td>\n",
              "      <td>Zona Oeste</td>\n",
              "      <td>16.118096</td>\n",
              "      <td>10.165890</td>\n",
              "      <td>7.496097</td>\n",
              "      <td>1.791759</td>\n",
              "      <td>2.197225</td>\n",
              "      <td>1.791759</td>\n",
              "      <td>1.945910</td>\n",
              "      <td>6.594413</td>\n",
              "      <td>6.594413</td>\n",
              "      <td>1.386294</td>\n",
              "      <td>0.693147</td>\n",
              "      <td>0.000000</td>\n",
              "    </tr>\n",
              "  </tbody>\n",
              "</table>\n",
              "<p>69588 rows × 14 columns</p>\n",
              "</div>"
            ],
            "text/plain": [
              "              unit        zone      price   tax_iptu  tax_condo  bedrooms  \\\n",
              "0           Outros  Zona Oeste  10.714440   0.000000   5.017280  0.000000   \n",
              "1      Apartamento  Zona Oeste  10.714440   0.000000   4.795791  1.098612   \n",
              "2           Outros  Zona Oeste  10.819798   0.000000   4.615121  0.000000   \n",
              "3      Apartamento  Zona Oeste  10.819798   4.795791   5.993961  1.386294   \n",
              "4           Outros  Zona Oeste  10.819798   0.000000   0.000000  0.000000   \n",
              "...            ...         ...        ...        ...        ...       ...   \n",
              "69583         Casa  Zona Oeste  16.118096   7.972811   7.762596  1.791759   \n",
              "69584         Casa  Zona Oeste  16.118096   9.615872   8.006701  1.791759   \n",
              "69585  Apartamento    Zona Sul  16.118096   0.000000   0.000000  1.609438   \n",
              "69586         Casa  Zona Oeste  16.118096  10.463132   7.783641  1.791759   \n",
              "69587  Apartamento  Zona Oeste  16.118096  10.165890   7.496097  1.791759   \n",
              "\n",
              "       bathrooms    suites  parkingSpaces  usableAreas  totalAreas    floors  \\\n",
              "0       0.000000  0.000000       0.693147     4.143135    4.143135  0.000000   \n",
              "1       0.693147  0.000000       0.693147     3.806662    0.000000  0.000000   \n",
              "2       0.000000  0.000000       0.000000     4.890349    4.890349  0.000000   \n",
              "3       1.098612  0.693147       0.693147     4.110874    0.000000  1.386294   \n",
              "4       0.000000  0.000000       0.000000     5.303305    5.303305  0.000000   \n",
              "...          ...       ...            ...          ...         ...       ...   \n",
              "69583   2.397895  0.693147       1.609438     6.932448    6.932448  0.000000   \n",
              "69584   2.079442  1.791759       1.945910     6.621406    7.131699  0.000000   \n",
              "69585   1.791759  1.609438       1.386294     5.796058    5.796058  0.000000   \n",
              "69586   2.397895  1.791759       1.609438     6.932448    6.932448  0.000000   \n",
              "69587   2.197225  1.791759       1.945910     6.594413    6.594413  1.386294   \n",
              "\n",
              "       unitsOnTheFloor  unitFloor  \n",
              "0             0.000000   0.000000  \n",
              "1             0.000000   0.000000  \n",
              "2             0.000000   0.000000  \n",
              "3             1.609438   1.098612  \n",
              "4             0.000000   0.000000  \n",
              "...                ...        ...  \n",
              "69583         0.000000   0.000000  \n",
              "69584         0.000000   0.000000  \n",
              "69585         0.000000   0.000000  \n",
              "69586         0.000000   1.386294  \n",
              "69587         0.693147   0.000000  \n",
              "\n",
              "[69588 rows x 14 columns]"
            ]
          },
          "execution_count": 35,
          "metadata": {},
          "output_type": "execute_result"
        }
      ],
      "source": [
        "from sklearn.preprocessing import FunctionTransformer\n",
        "\n",
        "transformer = FunctionTransformer(np.log1p, validate=True)\n",
        "\n",
        "data_numeric = data_prop.select_dtypes(exclude=['object'])\n",
        "data_transformed = transformer.transform(data_numeric)\n",
        "\n",
        "columns_transformed_data = data_numeric.columns\n",
        "df_transformed_numeric = pd.DataFrame(data_transformed, columns=columns_transformed_data)\n",
        "\n",
        "data_non_numeric = data_prop.select_dtypes(include=['object'])\n",
        "\n",
        "df_transformed = pd.concat([data_non_numeric, df_transformed_numeric], axis=1)\n",
        "df_transformed"
      ]
    },
    {
      "cell_type": "code",
      "execution_count": 38,
      "metadata": {
        "id": "aNuAONIPjot5"
      },
      "outputs": [
        {
          "data": {
            "image/png": "[encoded data removed]",
            "text/plain": [
              "<Figure size 1300x800 with 2 Axes>"
            ]
          },
          "metadata": {},
          "output_type": "display_data"
        }
      ],
      "source": [
        "correlation_transformed = df_transformed.corr(numeric_only=True)\n",
        "mask = np.zeros_like(correlation_transformed)\n",
        "mask[np.triu_indices_from(mask)] = True\n",
        "with sns.axes_style(\"white\"):\n",
        "    f, ax = plt.subplots(figsize=(13, 8))\n",
        "    ax = sns.heatmap(correlation_transformed, cmap=cores, mask=mask, square=True, fmt='.2f', annot=True)\n",
        "    ax.set_title('Correlation between variables = Transformation Log', fontsize=20)"
      ]
    },
    {
      "cell_type": "code",
      "execution_count": 39,
      "metadata": {
        "id": "GxnI3Bc-jot6"
      },
      "outputs": [
        {
          "data": {
            "image/png": "[encoded data removed]",
            "text/plain": [
              "<Figure size 2000x1000 with 1 Axes>"
            ]
          },
          "metadata": {},
          "output_type": "display_data"
        }
      ],
      "source": [
        "ax = sns.histplot(data=df_transformed, x='price', kde=True)\n",
        "ax.figure.set_size_inches(20,10)\n",
        "ax.set_title('Price Histogram')\n",
        "ax.set_label('Price')"
      ]
    },
    {
      "cell_type": "markdown",
      "metadata": {
        "id": "Lnc270Yqjot6"
      },
      "source": [
        "### Dummies"
      ]
    },
    {
      "cell_type": "code",
      "execution_count": 40,
      "metadata": {
        "id": "CU3gB5Vkjot6"
      },
      "outputs": [],
      "source": [
        "categoric_variables = df_transformed.select_dtypes(include=['object']).columns"
      ]
    },
    {
      "cell_type": "code",
      "execution_count": 41,
      "metadata": {
        "id": "TwNvfYoTgndG"
      },
      "outputs": [
        {
          "data": {
            "text/plain": [
              "Index(['unit', 'zone'], dtype='object')"
            ]
          },
          "execution_count": 41,
          "metadata": {},
          "output_type": "execute_result"
        }
      ],
      "source": [
        "categoric_variables"
      ]
    },
    {
      "cell_type": "code",
      "execution_count": 42,
      "metadata": {
        "id": "nPTMe-Bujot6"
      },
      "outputs": [
        {
          "data": {
            "text/html": [
              "<div>\n",
              "<style scoped>\n",
              "    .dataframe tbody tr th:only-of-type {\n",
              "        vertical-align: middle;\n",
              "    }\n",
              "\n",
              "    .dataframe tbody tr th {\n",
              "        vertical-align: top;\n",
              "    }\n",
              "\n",
              "    .dataframe thead th {\n",
              "        text-align: right;\n",
              "    }\n",
              "</style>\n",
              "<table border=\"1\" class=\"dataframe\">\n",
              "  <thead>\n",
              "    <tr style=\"text-align: right;\">\n",
              "      <th></th>\n",
              "      <th>unit_Apartamento</th>\n",
              "      <th>unit_Casa</th>\n",
              "      <th>unit_Outros</th>\n",
              "      <th>zone_Zona Central</th>\n",
              "      <th>zone_Zona Norte</th>\n",
              "      <th>zone_Zona Oeste</th>\n",
              "      <th>zone_Zona Sul</th>\n",
              "    </tr>\n",
              "  </thead>\n",
              "  <tbody>\n",
              "    <tr>\n",
              "      <th>0</th>\n",
              "      <td>False</td>\n",
              "      <td>False</td>\n",
              "      <td>True</td>\n",
              "      <td>False</td>\n",
              "      <td>False</td>\n",
              "      <td>True</td>\n",
              "      <td>False</td>\n",
              "    </tr>\n",
              "    <tr>\n",
              "      <th>1</th>\n",
              "      <td>True</td>\n",
              "      <td>False</td>\n",
              "      <td>False</td>\n",
              "      <td>False</td>\n",
              "      <td>False</td>\n",
              "      <td>True</td>\n",
              "      <td>False</td>\n",
              "    </tr>\n",
              "    <tr>\n",
              "      <th>2</th>\n",
              "      <td>False</td>\n",
              "      <td>False</td>\n",
              "      <td>True</td>\n",
              "      <td>False</td>\n",
              "      <td>False</td>\n",
              "      <td>True</td>\n",
              "      <td>False</td>\n",
              "    </tr>\n",
              "    <tr>\n",
              "      <th>3</th>\n",
              "      <td>True</td>\n",
              "      <td>False</td>\n",
              "      <td>False</td>\n",
              "      <td>False</td>\n",
              "      <td>False</td>\n",
              "      <td>True</td>\n",
              "      <td>False</td>\n",
              "    </tr>\n",
              "    <tr>\n",
              "      <th>4</th>\n",
              "      <td>False</td>\n",
              "      <td>False</td>\n",
              "      <td>True</td>\n",
              "      <td>False</td>\n",
              "      <td>False</td>\n",
              "      <td>True</td>\n",
              "      <td>False</td>\n",
              "    </tr>\n",
              "  </tbody>\n",
              "</table>\n",
              "</div>"
            ],
            "text/plain": [
              "   unit_Apartamento  unit_Casa  unit_Outros  zone_Zona Central  \\\n",
              "0             False      False         True              False   \n",
              "1              True      False        False              False   \n",
              "2             False      False         True              False   \n",
              "3              True      False        False              False   \n",
              "4             False      False         True              False   \n",
              "\n",
              "   zone_Zona Norte  zone_Zona Oeste  zone_Zona Sul  \n",
              "0            False             True          False  \n",
              "1            False             True          False  \n",
              "2            False             True          False  \n",
              "3            False             True          False  \n",
              "4            False             True          False  "
            ]
          },
          "execution_count": 42,
          "metadata": {},
          "output_type": "execute_result"
        }
      ],
      "source": [
        "df_dummies = pd.get_dummies(df_transformed[categoric_variables])\n",
        "df_dummies.head()"
      ]
    },
    {
      "cell_type": "code",
      "execution_count": 43,
      "metadata": {
        "id": "Q5gp-zGujot7"
      },
      "outputs": [
        {
          "data": {
            "text/html": [
              "<div>\n",
              "<style scoped>\n",
              "    .dataframe tbody tr th:only-of-type {\n",
              "        vertical-align: middle;\n",
              "    }\n",
              "\n",
              "    .dataframe tbody tr th {\n",
              "        vertical-align: top;\n",
              "    }\n",
              "\n",
              "    .dataframe thead th {\n",
              "        text-align: right;\n",
              "    }\n",
              "</style>\n",
              "<table border=\"1\" class=\"dataframe\">\n",
              "  <thead>\n",
              "    <tr style=\"text-align: right;\">\n",
              "      <th></th>\n",
              "      <th>price</th>\n",
              "      <th>tax_iptu</th>\n",
              "      <th>tax_condo</th>\n",
              "      <th>bedrooms</th>\n",
              "      <th>bathrooms</th>\n",
              "      <th>suites</th>\n",
              "      <th>parkingSpaces</th>\n",
              "      <th>usableAreas</th>\n",
              "      <th>totalAreas</th>\n",
              "      <th>floors</th>\n",
              "      <th>unitsOnTheFloor</th>\n",
              "      <th>unitFloor</th>\n",
              "      <th>unit_Apartamento</th>\n",
              "      <th>unit_Casa</th>\n",
              "      <th>unit_Outros</th>\n",
              "      <th>zone_Zona Central</th>\n",
              "      <th>zone_Zona Norte</th>\n",
              "      <th>zone_Zona Oeste</th>\n",
              "      <th>zone_Zona Sul</th>\n",
              "    </tr>\n",
              "  </thead>\n",
              "  <tbody>\n",
              "    <tr>\n",
              "      <th>0</th>\n",
              "      <td>10.714440</td>\n",
              "      <td>0.000000</td>\n",
              "      <td>5.017280</td>\n",
              "      <td>0.000000</td>\n",
              "      <td>0.000000</td>\n",
              "      <td>0.000000</td>\n",
              "      <td>0.693147</td>\n",
              "      <td>4.143135</td>\n",
              "      <td>4.143135</td>\n",
              "      <td>0.000000</td>\n",
              "      <td>0.000000</td>\n",
              "      <td>0.000000</td>\n",
              "      <td>False</td>\n",
              "      <td>False</td>\n",
              "      <td>True</td>\n",
              "      <td>False</td>\n",
              "      <td>False</td>\n",
              "      <td>True</td>\n",
              "      <td>False</td>\n",
              "    </tr>\n",
              "    <tr>\n",
              "      <th>1</th>\n",
              "      <td>10.714440</td>\n",
              "      <td>0.000000</td>\n",
              "      <td>4.795791</td>\n",
              "      <td>1.098612</td>\n",
              "      <td>0.693147</td>\n",
              "      <td>0.000000</td>\n",
              "      <td>0.693147</td>\n",
              "      <td>3.806662</td>\n",
              "      <td>0.000000</td>\n",
              "      <td>0.000000</td>\n",
              "      <td>0.000000</td>\n",
              "      <td>0.000000</td>\n",
              "      <td>True</td>\n",
              "      <td>False</td>\n",
              "      <td>False</td>\n",
              "      <td>False</td>\n",
              "      <td>False</td>\n",
              "      <td>True</td>\n",
              "      <td>False</td>\n",
              "    </tr>\n",
              "    <tr>\n",
              "      <th>2</th>\n",
              "      <td>10.819798</td>\n",
              "      <td>0.000000</td>\n",
              "      <td>4.615121</td>\n",
              "      <td>0.000000</td>\n",
              "      <td>0.000000</td>\n",
              "      <td>0.000000</td>\n",
              "      <td>0.000000</td>\n",
              "      <td>4.890349</td>\n",
              "      <td>4.890349</td>\n",
              "      <td>0.000000</td>\n",
              "      <td>0.000000</td>\n",
              "      <td>0.000000</td>\n",
              "      <td>False</td>\n",
              "      <td>False</td>\n",
              "      <td>True</td>\n",
              "      <td>False</td>\n",
              "      <td>False</td>\n",
              "      <td>True</td>\n",
              "      <td>False</td>\n",
              "    </tr>\n",
              "    <tr>\n",
              "      <th>3</th>\n",
              "      <td>10.819798</td>\n",
              "      <td>4.795791</td>\n",
              "      <td>5.993961</td>\n",
              "      <td>1.386294</td>\n",
              "      <td>1.098612</td>\n",
              "      <td>0.693147</td>\n",
              "      <td>0.693147</td>\n",
              "      <td>4.110874</td>\n",
              "      <td>0.000000</td>\n",
              "      <td>1.386294</td>\n",
              "      <td>1.609438</td>\n",
              "      <td>1.098612</td>\n",
              "      <td>True</td>\n",
              "      <td>False</td>\n",
              "      <td>False</td>\n",
              "      <td>False</td>\n",
              "      <td>False</td>\n",
              "      <td>True</td>\n",
              "      <td>False</td>\n",
              "    </tr>\n",
              "    <tr>\n",
              "      <th>4</th>\n",
              "      <td>10.819798</td>\n",
              "      <td>0.000000</td>\n",
              "      <td>0.000000</td>\n",
              "      <td>0.000000</td>\n",
              "      <td>0.000000</td>\n",
              "      <td>0.000000</td>\n",
              "      <td>0.000000</td>\n",
              "      <td>5.303305</td>\n",
              "      <td>5.303305</td>\n",
              "      <td>0.000000</td>\n",
              "      <td>0.000000</td>\n",
              "      <td>0.000000</td>\n",
              "      <td>False</td>\n",
              "      <td>False</td>\n",
              "      <td>True</td>\n",
              "      <td>False</td>\n",
              "      <td>False</td>\n",
              "      <td>True</td>\n",
              "      <td>False</td>\n",
              "    </tr>\n",
              "  </tbody>\n",
              "</table>\n",
              "</div>"
            ],
            "text/plain": [
              "       price  tax_iptu  tax_condo  bedrooms  bathrooms    suites  \\\n",
              "0  10.714440  0.000000   5.017280  0.000000   0.000000  0.000000   \n",
              "1  10.714440  0.000000   4.795791  1.098612   0.693147  0.000000   \n",
              "2  10.819798  0.000000   4.615121  0.000000   0.000000  0.000000   \n",
              "3  10.819798  4.795791   5.993961  1.386294   1.098612  0.693147   \n",
              "4  10.819798  0.000000   0.000000  0.000000   0.000000  0.000000   \n",
              "\n",
              "   parkingSpaces  usableAreas  totalAreas    floors  unitsOnTheFloor  \\\n",
              "0       0.693147     4.143135    4.143135  0.000000         0.000000   \n",
              "1       0.693147     3.806662    0.000000  0.000000         0.000000   \n",
              "2       0.000000     4.890349    4.890349  0.000000         0.000000   \n",
              "3       0.693147     4.110874    0.000000  1.386294         1.609438   \n",
              "4       0.000000     5.303305    5.303305  0.000000         0.000000   \n",
              "\n",
              "   unitFloor  unit_Apartamento  unit_Casa  unit_Outros  zone_Zona Central  \\\n",
              "0   0.000000             False      False         True              False   \n",
              "1   0.000000              True      False        False              False   \n",
              "2   0.000000             False      False         True              False   \n",
              "3   1.098612              True      False        False              False   \n",
              "4   0.000000             False      False         True              False   \n",
              "\n",
              "   zone_Zona Norte  zone_Zona Oeste  zone_Zona Sul  \n",
              "0            False             True          False  \n",
              "1            False             True          False  \n",
              "2            False             True          False  \n",
              "3            False             True          False  \n",
              "4            False             True          False  "
            ]
          },
          "execution_count": 43,
          "metadata": {},
          "output_type": "execute_result"
        }
      ],
      "source": [
        "data_prop_dummies = pd.concat([df_transformed.drop(categoric_variables,axis=1), df_dummies],axis=1)\n",
        "data_prop_dummies.head()"
      ]
    },
    {
      "cell_type": "markdown",
      "metadata": {
        "id": "UF9KVec5dKvn"
      },
      "source": [
        "## 2.2 - Linear Regression\n",
        "\n",
        "* \"Regression analysis concerns the study of the dependence of a variable, the dependent variable, in relation to one or more variables, the explanatory variables, aiming to estimate and/or predict the average value (of the population) of the first in terms of the known or fixed values ​​(in repeated sampling) of the second.\"\n",
        "\n",
        "* [Docs Sklearn - LinearRegression](https://scikit-learn.org/stable/modules/generated/sklearn.linear_model.LinearRegression.html#sklearn.linear_model.LinearRegression) \n",
        "\n",
        "* Simple Regression: the dependent variable (regressor or `y`) is related to a single explanatory variable (regressor or `X`).\n",
        "\n",
        "* Multiple Regression: the dependent variable (regressor or `y`) relates to more than a single explanatory variable (regressor or `Xi`).\n",
        "\n",
        "\n",
        "[slides]"
      ]
    },
    {
      "cell_type": "markdown",
      "metadata": {
        "id": "NCJT4tyvjot7"
      },
      "source": [
        "## 2.3 - Adjustment and Prediction"
      ]
    },
    {
      "cell_type": "markdown",
      "metadata": {
        "id": "CUVKskTnjot7"
      },
      "source": [
        "### Splitting the data"
      ]
    },
    {
      "cell_type": "code",
      "execution_count": 45,
      "metadata": {
        "id": "_buEpLP0jot8"
      },
      "outputs": [],
      "source": [
        "X = data_prop_dummies.drop('price', axis=1)\n",
        "y = data_prop_dummies['price']"
      ]
    },
    {
      "cell_type": "code",
      "execution_count": 44,
      "metadata": {
        "id": "zXNY9CLzjot7"
      },
      "outputs": [],
      "source": [
        "from sklearn.model_selection import train_test_split"
      ]
    },
    {
      "cell_type": "code",
      "execution_count": 46,
      "metadata": {
        "id": "sN_McnjLjot8"
      },
      "outputs": [],
      "source": [
        "X_train, X_test, y_train, y_test = train_test_split(X,y, test_size=0.3, random_state=42)"
      ]
    },
    {
      "cell_type": "markdown",
      "metadata": {
        "id": "MlQgkLCfnjQA"
      },
      "source": [
        "### Model"
      ]
    },
    {
      "cell_type": "code",
      "execution_count": 47,
      "metadata": {
        "id": "Q-sDBVv6qgVl"
      },
      "outputs": [],
      "source": [
        "from sklearn.linear_model import LinearRegression"
      ]
    },
    {
      "cell_type": "code",
      "execution_count": 48,
      "metadata": {
        "id": "tdcPTGZAqhL9"
      },
      "outputs": [],
      "source": [
        "lr = LinearRegression()"
      ]
    },
    {
      "cell_type": "code",
      "execution_count": 49,
      "metadata": {
        "id": "FLGMxxBmqhk1"
      },
      "outputs": [
        {
          "data": {
            "text/html": [
              "<style>#sk-container-id-1 {color: black;}#sk-container-id-1 pre{padding: 0;}#sk-container-id-1 div.sk-toggleable {background-color: white;}#sk-container-id-1 label.sk-toggleable__label {cursor: pointer;display: block;width: 100%;margin-bottom: 0;padding: 0.3em;box-sizing: border-box;text-align: center;}#sk-container-id-1 label.sk-toggleable__label-arrow:before {content: \"▸\";float: left;margin-right: 0.25em;color: #696969;}#sk-container-id-1 label.sk-toggleable__label-arrow:hover:before {color: black;}#sk-container-id-1 div.sk-estimator:hover label.sk-toggleable__label-arrow:before {color: black;}#sk-container-id-1 div.sk-toggleable__content {max-height: 0;max-width: 0;overflow: hidden;text-align: left;background-color: #f0f8ff;}#sk-container-id-1 div.sk-toggleable__content pre {margin: 0.2em;color: black;border-radius: 0.25em;background-color: #f0f8ff;}#sk-container-id-1 input.sk-toggleable__control:checked~div.sk-toggleable__content {max-height: 200px;max-width: 100%;overflow: auto;}#sk-container-id-1 input.sk-toggleable__control:checked~label.sk-toggleable__label-arrow:before {content: \"▾\";}#sk-container-id-1 div.sk-estimator input.sk-toggleable__control:checked~label.sk-toggleable__label {background-color: #d4ebff;}#sk-container-id-1 div.sk-label input.sk-toggleable__control:checked~label.sk-toggleable__label {background-color: #d4ebff;}#sk-container-id-1 input.sk-hidden--visually {border: 0;clip: rect(1px 1px 1px 1px);clip: rect(1px, 1px, 1px, 1px);height: 1px;margin: -1px;overflow: hidden;padding: 0;position: absolute;width: 1px;}#sk-container-id-1 div.sk-estimator {font-family: monospace;background-color: #f0f8ff;border: 1px dotted black;border-radius: 0.25em;box-sizing: border-box;margin-bottom: 0.5em;}#sk-container-id-1 div.sk-estimator:hover {background-color: #d4ebff;}#sk-container-id-1 div.sk-parallel-item::after {content: \"\";width: 100%;border-bottom: 1px solid gray;flex-grow: 1;}#sk-container-id-1 div.sk-label:hover label.sk-toggleable__label {background-color: #d4ebff;}#sk-container-id-1 div.sk-serial::before {content: \"\";position: absolute;border-left: 1px solid gray;box-sizing: border-box;top: 0;bottom: 0;left: 50%;z-index: 0;}#sk-container-id-1 div.sk-serial {display: flex;flex-direction: column;align-items: center;background-color: white;padding-right: 0.2em;padding-left: 0.2em;position: relative;}#sk-container-id-1 div.sk-item {position: relative;z-index: 1;}#sk-container-id-1 div.sk-parallel {display: flex;align-items: stretch;justify-content: center;background-color: white;position: relative;}#sk-container-id-1 div.sk-item::before, #sk-container-id-1 div.sk-parallel-item::before {content: \"\";position: absolute;border-left: 1px solid gray;box-sizing: border-box;top: 0;bottom: 0;left: 50%;z-index: -1;}#sk-container-id-1 div.sk-parallel-item {display: flex;flex-direction: column;z-index: 1;position: relative;background-color: white;}#sk-container-id-1 div.sk-parallel-item:first-child::after {align-self: flex-end;width: 50%;}#sk-container-id-1 div.sk-parallel-item:last-child::after {align-self: flex-start;width: 50%;}#sk-container-id-1 div.sk-parallel-item:only-child::after {width: 0;}#sk-container-id-1 div.sk-dashed-wrapped {border: 1px dashed gray;margin: 0 0.4em 0.5em 0.4em;box-sizing: border-box;padding-bottom: 0.4em;background-color: white;}#sk-container-id-1 div.sk-label label {font-family: monospace;font-weight: bold;display: inline-block;line-height: 1.2em;}#sk-container-id-1 div.sk-label-container {text-align: center;}#sk-container-id-1 div.sk-container {/* jupyter's `normalize.less` sets `[hidden] { display: none; }` but bootstrap.min.css set `[hidden] { display: none !important; }` so we also need the `!important` here to be able to override the default hidden behavior on the sphinx rendered scikit-learn.org. See: https://github.com/scikit-learn/scikit-learn/issues/21755 */display: inline-block !important;position: relative;}#sk-container-id-1 div.sk-text-repr-fallback {display: none;}</style><div id=\"sk-container-id-1\" class=\"sk-top-container\"><div class=\"sk-text-repr-fallback\"><pre>LinearRegression()</pre><b>In a Jupyter environment, please rerun this cell to show the HTML representation or trust the notebook. <br />On GitHub, the HTML representation is unable to render, please try loading this page with nbviewer.org.</b></div><div class=\"sk-container\" hidden><div class=\"sk-item\"><div class=\"sk-estimator sk-toggleable\"><input class=\"sk-toggleable__control sk-hidden--visually\" id=\"sk-estimator-id-1\" type=\"checkbox\" checked><label for=\"sk-estimator-id-1\" class=\"sk-toggleable__label sk-toggleable__label-arrow\">LinearRegression</label><div class=\"sk-toggleable__content\"><pre>LinearRegression()</pre></div></div></div></div></div>"
            ],
            "text/plain": [
              "LinearRegression()"
            ]
          },
          "execution_count": 49,
          "metadata": {},
          "output_type": "execute_result"
        }
      ],
      "source": [
        "lr.fit(X_train, y_train)"
      ]
    },
    {
      "cell_type": "code",
      "execution_count": 50,
      "metadata": {
        "id": "_LqC15XYqhhE"
      },
      "outputs": [],
      "source": [
        "predict_lr = lr.predict(X_test)"
      ]
    },
    {
      "cell_type": "code",
      "execution_count": 51,
      "metadata": {
        "id": "ooC8ti2vqn80"
      },
      "outputs": [
        {
          "data": {
            "text/plain": [
              "array([13.25768024, 12.45705313, 12.91487963, ..., 13.13161073,\n",
              "       12.42379775, 14.49548233])"
            ]
          },
          "execution_count": 51,
          "metadata": {},
          "output_type": "execute_result"
        }
      ],
      "source": [
        "predict_lr"
      ]
    },
    {
      "cell_type": "code",
      "execution_count": 52,
      "metadata": {
        "id": "xAdTR4GSg56P"
      },
      "outputs": [
        {
          "data": {
            "text/plain": [
              "572448.7513552749"
            ]
          },
          "execution_count": 52,
          "metadata": {},
          "output_type": "execute_result"
        }
      ],
      "source": [
        "np.expm1(13.25768024)"
      ]
    },
    {
      "cell_type": "markdown",
      "metadata": {
        "id": "PraznHLEjouB"
      },
      "source": [
        "## 2.4 - Performance Metric"
      ]
    },
    {
      "cell_type": "markdown",
      "metadata": {
        "id": "yb5Nd23ki1v6"
      },
      "source": [
        "### Determination coefficient\n",
        "\n",
        "* find out how “well” a sample regression line fits the data\n",
        "* r2 is between 0 and 1\n",
        "* \"r2 measures the proportion or percentage of the total variation in Y explained by the regression model.\""
      ]
    },
    {
      "cell_type": "code",
      "execution_count": 57,
      "metadata": {
        "id": "e6EGnOEpjouB"
      },
      "outputs": [],
      "source": [
        "from sklearn.metrics import r2_score, mean_squared_error, mean_absolute_percentage_error"
      ]
    },
    {
      "cell_type": "code",
      "execution_count": 55,
      "metadata": {
        "id": "G6XKyUOXjouC"
      },
      "outputs": [
        {
          "data": {
            "text/plain": [
              "0.7880682093407632"
            ]
          },
          "execution_count": 55,
          "metadata": {},
          "output_type": "execute_result"
        }
      ],
      "source": [
        "r2_lr = r2_score(y_test, predict_lr)\n",
        "r2_lr"
      ]
    },
    {
      "cell_type": "code",
      "execution_count": 58,
      "metadata": {},
      "outputs": [
        {
          "data": {
            "text/plain": [
              "0.17351220044092464"
            ]
          },
          "execution_count": 58,
          "metadata": {},
          "output_type": "execute_result"
        }
      ],
      "source": [
        "mse_lr = mean_squared_error(y_test, predict_lr)\n",
        "mse_lr"
      ]
    },
    {
      "cell_type": "code",
      "execution_count": 59,
      "metadata": {},
      "outputs": [
        {
          "data": {
            "text/plain": [
              "0.022975801844755322"
            ]
          },
          "execution_count": 59,
          "metadata": {},
          "output_type": "execute_result"
        }
      ],
      "source": [
        "mape_lr = mean_absolute_percentage_error(y_test, predict_lr)\n",
        "mape_lr"
      ]
    },
    {
      "cell_type": "markdown",
      "metadata": {
        "id": "TWxgmYTNSaRa"
      },
      "source": [
        "### Extra\n",
        "\n",
        "* [Sklearn Documentation - Metrics for Regression](https://scikit-learn.org/stable/modules/model_evaluation.html#regression-metrics)\n",
        "\n",
        "* Note: These metrics depend on the scale of the data.\n",
        "\n",
        "* MSE (Mean Squared Error): average of the difference **squared** between the actual value and the predicted value. *(penalty for error)*\n",
        "\n",
        "* MAE (Mean Absolute Error): average of the **absolute** difference (module) between the actual value and the predicted value."
      ]
    },
    {
      "cell_type": "markdown",
      "metadata": {
        "id": "bN7JJ3fojouD"
      },
      "source": [
        "# 3 - Decision Tree for Regression\n",
        "\n",
        "\n",
        "\n",
        "\n"
      ]
    },
    {
      "cell_type": "markdown",
      "metadata": {
        "id": "X5btylrcu8bK"
      },
      "source": [
        "## 3.1 - Decision Tree Classification versus Regression\n",
        "\n",
        "[slides]\n",
        "\n",
        "[Sklearn - Desicion Tree](https://scikit-learn.org/stable/modules/tree.html#regression)\n"
      ]
    },
    {
      "cell_type": "markdown",
      "metadata": {
        "id": "O0CXJSK9jouD"
      },
      "source": [
        "## 3.2 - Model\n"
      ]
    },
    {
      "cell_type": "code",
      "execution_count": 60,
      "metadata": {
        "id": "G4je_bx7jouD"
      },
      "outputs": [],
      "source": [
        "from sklearn.tree import DecisionTreeRegressor"
      ]
    },
    {
      "cell_type": "code",
      "execution_count": 61,
      "metadata": {
        "id": "txw8V0ByjouD"
      },
      "outputs": [],
      "source": [
        "dtr = DecisionTreeRegressor(random_state=42, max_depth=5)"
      ]
    },
    {
      "cell_type": "code",
      "execution_count": 63,
      "metadata": {},
      "outputs": [
        {
          "data": {
            "text/html": [
              "<style>#sk-container-id-2 {color: black;}#sk-container-id-2 pre{padding: 0;}#sk-container-id-2 div.sk-toggleable {background-color: white;}#sk-container-id-2 label.sk-toggleable__label {cursor: pointer;display: block;width: 100%;margin-bottom: 0;padding: 0.3em;box-sizing: border-box;text-align: center;}#sk-container-id-2 label.sk-toggleable__label-arrow:before {content: \"▸\";float: left;margin-right: 0.25em;color: #696969;}#sk-container-id-2 label.sk-toggleable__label-arrow:hover:before {color: black;}#sk-container-id-2 div.sk-estimator:hover label.sk-toggleable__label-arrow:before {color: black;}#sk-container-id-2 div.sk-toggleable__content {max-height: 0;max-width: 0;overflow: hidden;text-align: left;background-color: #f0f8ff;}#sk-container-id-2 div.sk-toggleable__content pre {margin: 0.2em;color: black;border-radius: 0.25em;background-color: #f0f8ff;}#sk-container-id-2 input.sk-toggleable__control:checked~div.sk-toggleable__content {max-height: 200px;max-width: 100%;overflow: auto;}#sk-container-id-2 input.sk-toggleable__control:checked~label.sk-toggleable__label-arrow:before {content: \"▾\";}#sk-container-id-2 div.sk-estimator input.sk-toggleable__control:checked~label.sk-toggleable__label {background-color: #d4ebff;}#sk-container-id-2 div.sk-label input.sk-toggleable__control:checked~label.sk-toggleable__label {background-color: #d4ebff;}#sk-container-id-2 input.sk-hidden--visually {border: 0;clip: rect(1px 1px 1px 1px);clip: rect(1px, 1px, 1px, 1px);height: 1px;margin: -1px;overflow: hidden;padding: 0;position: absolute;width: 1px;}#sk-container-id-2 div.sk-estimator {font-family: monospace;background-color: #f0f8ff;border: 1px dotted black;border-radius: 0.25em;box-sizing: border-box;margin-bottom: 0.5em;}#sk-container-id-2 div.sk-estimator:hover {background-color: #d4ebff;}#sk-container-id-2 div.sk-parallel-item::after {content: \"\";width: 100%;border-bottom: 1px solid gray;flex-grow: 1;}#sk-container-id-2 div.sk-label:hover label.sk-toggleable__label {background-color: #d4ebff;}#sk-container-id-2 div.sk-serial::before {content: \"\";position: absolute;border-left: 1px solid gray;box-sizing: border-box;top: 0;bottom: 0;left: 50%;z-index: 0;}#sk-container-id-2 div.sk-serial {display: flex;flex-direction: column;align-items: center;background-color: white;padding-right: 0.2em;padding-left: 0.2em;position: relative;}#sk-container-id-2 div.sk-item {position: relative;z-index: 1;}#sk-container-id-2 div.sk-parallel {display: flex;align-items: stretch;justify-content: center;background-color: white;position: relative;}#sk-container-id-2 div.sk-item::before, #sk-container-id-2 div.sk-parallel-item::before {content: \"\";position: absolute;border-left: 1px solid gray;box-sizing: border-box;top: 0;bottom: 0;left: 50%;z-index: -1;}#sk-container-id-2 div.sk-parallel-item {display: flex;flex-direction: column;z-index: 1;position: relative;background-color: white;}#sk-container-id-2 div.sk-parallel-item:first-child::after {align-self: flex-end;width: 50%;}#sk-container-id-2 div.sk-parallel-item:last-child::after {align-self: flex-start;width: 50%;}#sk-container-id-2 div.sk-parallel-item:only-child::after {width: 0;}#sk-container-id-2 div.sk-dashed-wrapped {border: 1px dashed gray;margin: 0 0.4em 0.5em 0.4em;box-sizing: border-box;padding-bottom: 0.4em;background-color: white;}#sk-container-id-2 div.sk-label label {font-family: monospace;font-weight: bold;display: inline-block;line-height: 1.2em;}#sk-container-id-2 div.sk-label-container {text-align: center;}#sk-container-id-2 div.sk-container {/* jupyter's `normalize.less` sets `[hidden] { display: none; }` but bootstrap.min.css set `[hidden] { display: none !important; }` so we also need the `!important` here to be able to override the default hidden behavior on the sphinx rendered scikit-learn.org. See: https://github.com/scikit-learn/scikit-learn/issues/21755 */display: inline-block !important;position: relative;}#sk-container-id-2 div.sk-text-repr-fallback {display: none;}</style><div id=\"sk-container-id-2\" class=\"sk-top-container\"><div class=\"sk-text-repr-fallback\"><pre>DecisionTreeRegressor(max_depth=5, random_state=42)</pre><b>In a Jupyter environment, please rerun this cell to show the HTML representation or trust the notebook. <br />On GitHub, the HTML representation is unable to render, please try loading this page with nbviewer.org.</b></div><div class=\"sk-container\" hidden><div class=\"sk-item\"><div class=\"sk-estimator sk-toggleable\"><input class=\"sk-toggleable__control sk-hidden--visually\" id=\"sk-estimator-id-2\" type=\"checkbox\" checked><label for=\"sk-estimator-id-2\" class=\"sk-toggleable__label sk-toggleable__label-arrow\">DecisionTreeRegressor</label><div class=\"sk-toggleable__content\"><pre>DecisionTreeRegressor(max_depth=5, random_state=42)</pre></div></div></div></div></div>"
            ],
            "text/plain": [
              "DecisionTreeRegressor(max_depth=5, random_state=42)"
            ]
          },
          "execution_count": 63,
          "metadata": {},
          "output_type": "execute_result"
        }
      ],
      "source": [
        "dtr.fit(X_train,y_train)"
      ]
    },
    {
      "cell_type": "code",
      "execution_count": 64,
      "metadata": {
        "id": "XLt-zMWnjouE"
      },
      "outputs": [],
      "source": [
        "predict_dtr = dtr.predict(X_test)"
      ]
    },
    {
      "cell_type": "code",
      "execution_count": 65,
      "metadata": {
        "id": "1RxdWgI1jouE"
      },
      "outputs": [
        {
          "data": {
            "text/plain": [
              "array([13.55136531, 12.33741035, 13.24458243, ..., 13.23643158,\n",
              "       12.33741035, 14.55274625])"
            ]
          },
          "execution_count": 65,
          "metadata": {},
          "output_type": "execute_result"
        }
      ],
      "source": [
        "predict_dtr"
      ]
    },
    {
      "cell_type": "markdown",
      "metadata": {
        "id": "BnTTNH16jouG"
      },
      "source": [
        "## 3.3 - Metrics"
      ]
    },
    {
      "cell_type": "code",
      "execution_count": 67,
      "metadata": {
        "id": "zJe46tsBjouG"
      },
      "outputs": [
        {
          "data": {
            "text/plain": [
              "0.7846916218477392"
            ]
          },
          "execution_count": 67,
          "metadata": {},
          "output_type": "execute_result"
        }
      ],
      "source": [
        "r2_dtr = r2_score(y_test,predict_dtr)\n",
        "r2_dtr"
      ]
    },
    {
      "cell_type": "markdown",
      "metadata": {
        "id": "O0W2x9lzjouH"
      },
      "source": [
        "# Random Forest to Regression\n"
      ]
    },
    {
      "cell_type": "markdown",
      "metadata": {
        "id": "ebk_xGnsjouI"
      },
      "source": [
        "## 4.1 - Modelo Ensemble\n",
        "\n",
        "[slides]\n",
        "\n",
        "[Sklearn - Random Forest Regressor](https://scikit-learn.org/stable/modules/generated/sklearn.ensemble.RandomForestRegressor.html#sklearn.ensemble.RandomForestRegressor)\n",
        "[Random Forests](https://link.springer.com/article/10.1023/A:1010933404324), [Random Forests](https://en.wikipedia.org/wiki/Random_forest#:~:text=Random%20forests%20or%20random%20decision,class%20selected%20by%20most%20trees.), [Capítulo 4 - Livro Introduction to Statistical and Machine Learning Methods for Data Science](https://www.amazon.com.br/dp/B09C2DVZHR/ref=dp-kindle-redirect?_encoding=UTF8&btkr=1), [Capítulo 7 - Mãos à obra: aprendizado de máquina com Scikit-Learn, Keras & TensorFlow: Conceitos, ferramentas e técnicas para a construção de sistemas inteligentes](https://www.amazon.com.br/M%C3%A3os-obra-aprendizado-Scikit-Learn-inteligentes/dp/8550815489/ref=sr_1_2?keywords=machine+learning&qid=1658181249&sprefix=machine%2Caps%2C469&sr=8-2&ufe=app_do%3Aamzn1.fos.6d798eae-cadf-45de-946a-f477d47705b9) "
      ]
    },
    {
      "cell_type": "markdown",
      "metadata": {
        "id": "ynzSOUsyjouI"
      },
      "source": [
        "## 4.2 - Forecast\n",
        "\n",
        "**Attention point**\n",
        "The parameters are practically the same between `DecisionTreeRegressor()` and `RandomForestRegressor()`, with the exception of:\n",
        "\n",
        "* `n_estimators`: number of trees in the forest\n",
        "* `bootstrap`: defines whether the *bootstrap* statistical sampling method will be used\n",
        "* `oob_score`: defines whether the *out-of-bag* sampling method will be used to measure prediction errors\n",
        "* `n_jobs`: number of *jobs* running in parallel (parallel computing - processors)\n",
        "* `warm_start`: warms up a new forest or uses an existing forest.\n",
        "* `max_samples`: in case `bootstrap` is `True`, defines the number of samples to be extracted from X to train each base tree."
      ]
    },
    {
      "cell_type": "code",
      "execution_count": 68,
      "metadata": {
        "id": "xY-ooO2vjouI"
      },
      "outputs": [],
      "source": [
        "from sklearn.ensemble import RandomForestRegressor"
      ]
    },
    {
      "cell_type": "code",
      "execution_count": 69,
      "metadata": {
        "id": "alVdb30djouI"
      },
      "outputs": [],
      "source": [
        "rf = RandomForestRegressor(random_state=42, max_depth=5, n_estimators=10)"
      ]
    },
    {
      "cell_type": "code",
      "execution_count": 72,
      "metadata": {
        "id": "cyRkmqKOjouI"
      },
      "outputs": [
        {
          "data": {
            "text/html": [
              "<style>#sk-container-id-3 {color: black;}#sk-container-id-3 pre{padding: 0;}#sk-container-id-3 div.sk-toggleable {background-color: white;}#sk-container-id-3 label.sk-toggleable__label {cursor: pointer;display: block;width: 100%;margin-bottom: 0;padding: 0.3em;box-sizing: border-box;text-align: center;}#sk-container-id-3 label.sk-toggleable__label-arrow:before {content: \"▸\";float: left;margin-right: 0.25em;color: #696969;}#sk-container-id-3 label.sk-toggleable__label-arrow:hover:before {color: black;}#sk-container-id-3 div.sk-estimator:hover label.sk-toggleable__label-arrow:before {color: black;}#sk-container-id-3 div.sk-toggleable__content {max-height: 0;max-width: 0;overflow: hidden;text-align: left;background-color: #f0f8ff;}#sk-container-id-3 div.sk-toggleable__content pre {margin: 0.2em;color: black;border-radius: 0.25em;background-color: #f0f8ff;}#sk-container-id-3 input.sk-toggleable__control:checked~div.sk-toggleable__content {max-height: 200px;max-width: 100%;overflow: auto;}#sk-container-id-3 input.sk-toggleable__control:checked~label.sk-toggleable__label-arrow:before {content: \"▾\";}#sk-container-id-3 div.sk-estimator input.sk-toggleable__control:checked~label.sk-toggleable__label {background-color: #d4ebff;}#sk-container-id-3 div.sk-label input.sk-toggleable__control:checked~label.sk-toggleable__label {background-color: #d4ebff;}#sk-container-id-3 input.sk-hidden--visually {border: 0;clip: rect(1px 1px 1px 1px);clip: rect(1px, 1px, 1px, 1px);height: 1px;margin: -1px;overflow: hidden;padding: 0;position: absolute;width: 1px;}#sk-container-id-3 div.sk-estimator {font-family: monospace;background-color: #f0f8ff;border: 1px dotted black;border-radius: 0.25em;box-sizing: border-box;margin-bottom: 0.5em;}#sk-container-id-3 div.sk-estimator:hover {background-color: #d4ebff;}#sk-container-id-3 div.sk-parallel-item::after {content: \"\";width: 100%;border-bottom: 1px solid gray;flex-grow: 1;}#sk-container-id-3 div.sk-label:hover label.sk-toggleable__label {background-color: #d4ebff;}#sk-container-id-3 div.sk-serial::before {content: \"\";position: absolute;border-left: 1px solid gray;box-sizing: border-box;top: 0;bottom: 0;left: 50%;z-index: 0;}#sk-container-id-3 div.sk-serial {display: flex;flex-direction: column;align-items: center;background-color: white;padding-right: 0.2em;padding-left: 0.2em;position: relative;}#sk-container-id-3 div.sk-item {position: relative;z-index: 1;}#sk-container-id-3 div.sk-parallel {display: flex;align-items: stretch;justify-content: center;background-color: white;position: relative;}#sk-container-id-3 div.sk-item::before, #sk-container-id-3 div.sk-parallel-item::before {content: \"\";position: absolute;border-left: 1px solid gray;box-sizing: border-box;top: 0;bottom: 0;left: 50%;z-index: -1;}#sk-container-id-3 div.sk-parallel-item {display: flex;flex-direction: column;z-index: 1;position: relative;background-color: white;}#sk-container-id-3 div.sk-parallel-item:first-child::after {align-self: flex-end;width: 50%;}#sk-container-id-3 div.sk-parallel-item:last-child::after {align-self: flex-start;width: 50%;}#sk-container-id-3 div.sk-parallel-item:only-child::after {width: 0;}#sk-container-id-3 div.sk-dashed-wrapped {border: 1px dashed gray;margin: 0 0.4em 0.5em 0.4em;box-sizing: border-box;padding-bottom: 0.4em;background-color: white;}#sk-container-id-3 div.sk-label label {font-family: monospace;font-weight: bold;display: inline-block;line-height: 1.2em;}#sk-container-id-3 div.sk-label-container {text-align: center;}#sk-container-id-3 div.sk-container {/* jupyter's `normalize.less` sets `[hidden] { display: none; }` but bootstrap.min.css set `[hidden] { display: none !important; }` so we also need the `!important` here to be able to override the default hidden behavior on the sphinx rendered scikit-learn.org. See: https://github.com/scikit-learn/scikit-learn/issues/21755 */display: inline-block !important;position: relative;}#sk-container-id-3 div.sk-text-repr-fallback {display: none;}</style><div id=\"sk-container-id-3\" class=\"sk-top-container\"><div class=\"sk-text-repr-fallback\"><pre>RandomForestRegressor(max_depth=5, n_estimators=10, random_state=42)</pre><b>In a Jupyter environment, please rerun this cell to show the HTML representation or trust the notebook. <br />On GitHub, the HTML representation is unable to render, please try loading this page with nbviewer.org.</b></div><div class=\"sk-container\" hidden><div class=\"sk-item\"><div class=\"sk-estimator sk-toggleable\"><input class=\"sk-toggleable__control sk-hidden--visually\" id=\"sk-estimator-id-3\" type=\"checkbox\" checked><label for=\"sk-estimator-id-3\" class=\"sk-toggleable__label sk-toggleable__label-arrow\">RandomForestRegressor</label><div class=\"sk-toggleable__content\"><pre>RandomForestRegressor(max_depth=5, n_estimators=10, random_state=42)</pre></div></div></div></div></div>"
            ],
            "text/plain": [
              "RandomForestRegressor(max_depth=5, n_estimators=10, random_state=42)"
            ]
          },
          "execution_count": 72,
          "metadata": {},
          "output_type": "execute_result"
        }
      ],
      "source": [
        "rf.fit(X_train, y_train)"
      ]
    },
    {
      "cell_type": "code",
      "execution_count": 75,
      "metadata": {
        "id": "RC_6WvN-jouJ"
      },
      "outputs": [
        {
          "data": {
            "text/plain": [
              "array([13.53707348, 12.34106458, 13.15366323, ..., 13.23975692,\n",
              "       12.34106458, 14.6148927 ])"
            ]
          },
          "execution_count": 75,
          "metadata": {},
          "output_type": "execute_result"
        }
      ],
      "source": [
        "predict_rf = rf.predict(X_test)\n",
        "predict_rf"
      ]
    },
    {
      "cell_type": "markdown",
      "metadata": {
        "id": "PRBM23o8jouK"
      },
      "source": [
        "## 4.3 -Performance Metrics"
      ]
    },
    {
      "cell_type": "code",
      "execution_count": 88,
      "metadata": {
        "id": "lBab9TZXjouK"
      },
      "outputs": [
        {
          "data": {
            "text/plain": [
              "0.805273364453047"
            ]
          },
          "execution_count": 88,
          "metadata": {},
          "output_type": "execute_result"
        }
      ],
      "source": [
        "r2_rf = r2_score(y_test, predict_rf)\n",
        "r2_rf"
      ]
    },
    {
      "cell_type": "code",
      "execution_count": 89,
      "metadata": {},
      "outputs": [],
      "source": [
        "from sklearn.metrics import r2_score, mean_squared_error, mean_absolute_error\n",
        "\n",
        "def get_metric(model, X_test, y_test, nome):\n",
        "    predict = model.predict(X_test)\n",
        "    df_metrics = pd.DataFrame({\n",
        "        'R2': [r2_score(y_test,predict)],\n",
        "        'MSE': [mean_squared_error(y_test, predict)],\n",
        "        'MAE': [mean_absolute_error(y_test, predict)]\n",
        "    }, index=[nome])\n",
        "\n",
        "    return df_metrics"
      ]
    },
    {
      "cell_type": "code",
      "execution_count": 90,
      "metadata": {},
      "outputs": [],
      "source": [
        "def table_metrics(model_reg_linear, model_dt, model_rf, X_test, y_test):\n",
        "    df_metrics_lr = get_metric(model_reg_linear, X_test, y_test, 'Linear Regression')\n",
        "    df_metrics_dt = get_metric(model_dt, X_test, y_test, 'Decision Tree Regression')\n",
        "    df_metrics_rf = get_metric(model_rf, X_test, y_test, 'Random Forest Regression')\n",
        "\n",
        "    return pd.concat([df_metrics_lr, df_metrics_dt, df_metrics_rf])\n"
      ]
    },
    {
      "cell_type": "code",
      "execution_count": 91,
      "metadata": {},
      "outputs": [
        {
          "data": {
            "text/html": [
              "<div>\n",
              "<style scoped>\n",
              "    .dataframe tbody tr th:only-of-type {\n",
              "        vertical-align: middle;\n",
              "    }\n",
              "\n",
              "    .dataframe tbody tr th {\n",
              "        vertical-align: top;\n",
              "    }\n",
              "\n",
              "    .dataframe thead th {\n",
              "        text-align: right;\n",
              "    }\n",
              "</style>\n",
              "<table border=\"1\" class=\"dataframe\">\n",
              "  <thead>\n",
              "    <tr style=\"text-align: right;\">\n",
              "      <th></th>\n",
              "      <th>R2</th>\n",
              "      <th>MSE</th>\n",
              "      <th>MAE</th>\n",
              "    </tr>\n",
              "  </thead>\n",
              "  <tbody>\n",
              "    <tr>\n",
              "      <th>Linear Regression</th>\n",
              "      <td>0.788068</td>\n",
              "      <td>0.173512</td>\n",
              "      <td>0.312049</td>\n",
              "    </tr>\n",
              "    <tr>\n",
              "      <th>Decision Tree Regression</th>\n",
              "      <td>0.784692</td>\n",
              "      <td>0.176277</td>\n",
              "      <td>0.312601</td>\n",
              "    </tr>\n",
              "    <tr>\n",
              "      <th>Random Forest Regression</th>\n",
              "      <td>0.805273</td>\n",
              "      <td>0.159426</td>\n",
              "      <td>0.298641</td>\n",
              "    </tr>\n",
              "  </tbody>\n",
              "</table>\n",
              "</div>"
            ],
            "text/plain": [
              "                                R2       MSE       MAE\n",
              "Linear Regression         0.788068  0.173512  0.312049\n",
              "Decision Tree Regression  0.784692  0.176277  0.312601\n",
              "Random Forest Regression  0.805273  0.159426  0.298641"
            ]
          },
          "execution_count": 91,
          "metadata": {},
          "output_type": "execute_result"
        }
      ],
      "source": [
        "table_metrics(lr, dtr, rf, X_test, y_test)"
      ]
    },
    {
      "cell_type": "markdown",
      "metadata": {
        "id": "xDZsHw5ejouL"
      },
      "source": [
        "# 5 - Optimization Techniques"
      ]
    },
    {
      "cell_type": "markdown",
      "metadata": {
        "id": "EvYvksREVgSt"
      },
      "source": [
        "## 5.1 - Optimization Techniques\n",
        "\n",
        "\n",
        "\n",
        "[Docs Sklearn](https://scikit-learn.org/stable/modules/grid_search.html#tuning-the-hyper-parameters-of-an-estimator)"
      ]
    },
    {
      "cell_type": "markdown",
      "metadata": {
        "id": "79q2V6W8Vj6L"
      },
      "source": [
        "### 1. Cross Validation\n",
        "* [Docs Cross-validation](https://scikit-learn.org/stable/modules/cross_validation.html)"
      ]
    },
    {
      "cell_type": "markdown",
      "metadata": {
        "id": "VusVKhwNB-vN"
      },
      "source": [
        "### 2. Randomized Parameter Optimization \n",
        "\n",
        "* [Docs Randomized Search](https://scikit-learn.org/stable/modules/grid_search.html#randomized-parameter-optimization)\n",
        "\n",
        "* [Random Search](https://www.jmlr.org/papers/volume13/bergstra12a/bergstra12a.pdf)\n",
        "\n",
        "\n"
      ]
    },
    {
      "cell_type": "markdown",
      "metadata": {
        "id": "2exaVIu-jouM"
      },
      "source": [
        "## 5.2 - Optimize a Decision Tree"
      ]
    },
    {
      "cell_type": "code",
      "execution_count": 103,
      "metadata": {
        "id": "x32KCmxFjouN"
      },
      "outputs": [],
      "source": [
        "from sklearn.model_selection import KFold\n",
        "cv = KFold(n_splits=5, shuffle=True)"
      ]
    },
    {
      "cell_type": "markdown",
      "metadata": {
        "id": "S97v2rejjouN"
      },
      "source": [
        "### Cross validation\n"
      ]
    },
    {
      "cell_type": "code",
      "execution_count": 104,
      "metadata": {
        "id": "xyvedr_rjouO"
      },
      "outputs": [
        {
          "name": "stdout",
          "output_type": "stream",
          "text": [
            "Average performance r2: 0.783\n"
          ]
        }
      ],
      "source": [
        "from sklearn.model_selection import cross_val_score\n",
        "perf_cross_val_r2 = cross_val_score(estimator=dtr,X = X_train, y = y_train, scoring='r2',cv=cv)\n",
        "print('Average performance r2: {}'.format(round(perf_cross_val_r2.mean(),3)))"
      ]
    },
    {
      "cell_type": "code",
      "execution_count": 105,
      "metadata": {
        "id": "XHGxwuBljouO"
      },
      "outputs": [],
      "source": [
        "param_random_dt = {\n",
        "    'criterion': ['squared_error', 'absolute_error'],\n",
        "    'max_depth':[6,8,10,12,14,16],\n",
        "    'min_samples_leaf':[6,8,10],\n",
        "    'min_samples_split':[8,10,12,14,16],\n",
        "    'max_features':['sqrt','log2','auto'],\n",
        "}"
      ]
    },
    {
      "cell_type": "markdown",
      "metadata": {
        "id": "vpNOAne8sLHJ"
      },
      "source": [
        "### Random Search Validation"
      ]
    },
    {
      "cell_type": "code",
      "execution_count": 94,
      "metadata": {
        "id": "tLfrQ_PZsOWe"
      },
      "outputs": [],
      "source": [
        "from sklearn.model_selection import RandomizedSearchCV"
      ]
    },
    {
      "cell_type": "code",
      "execution_count": 99,
      "metadata": {
        "id": "g-gTVdSIjouS"
      },
      "outputs": [],
      "source": [
        "random_cv_dt = RandomizedSearchCV(dtr, param_random_dt, n_iter=5,cv=cv,scoring='r2',n_jobs=-1)"
      ]
    },
    {
      "cell_type": "code",
      "execution_count": 100,
      "metadata": {
        "id": "3sd49DOvspuX"
      },
      "outputs": [
        {
          "name": "stderr",
          "output_type": "stream",
          "text": [
            "C:\\Users\\camila-paula\\AppData\\Roaming\\Python\\Python311\\site-packages\\sklearn\\model_selection\\_validation.py:425: FitFailedWarning: \n",
            "5 fits failed out of a total of 25.\n",
            "The score on these train-test partitions for these parameters will be set to nan.\n",
            "If these failures are not expected, you can try to debug them by setting error_score='raise'.\n",
            "\n",
            "Below are more details about the failures:\n",
            "--------------------------------------------------------------------------------\n",
            "5 fits failed with the following error:\n",
            "Traceback (most recent call last):\n",
            "  File \"C:\\Users\\camila-paula\\AppData\\Roaming\\Python\\Python311\\site-packages\\sklearn\\model_selection\\_validation.py\", line 732, in _fit_and_score\n",
            "    estimator.fit(X_train, y_train, **fit_params)\n",
            "  File \"C:\\Users\\camila-paula\\AppData\\Roaming\\Python\\Python311\\site-packages\\sklearn\\base.py\", line 1144, in wrapper\n",
            "    estimator._validate_params()\n",
            "  File \"C:\\Users\\camila-paula\\AppData\\Roaming\\Python\\Python311\\site-packages\\sklearn\\base.py\", line 637, in _validate_params\n",
            "    validate_parameter_constraints(\n",
            "  File \"C:\\Users\\camila-paula\\AppData\\Roaming\\Python\\Python311\\site-packages\\sklearn\\utils\\_param_validation.py\", line 95, in validate_parameter_constraints\n",
            "    raise InvalidParameterError(\n",
            "sklearn.utils._param_validation.InvalidParameterError: The 'max_features' parameter of DecisionTreeRegressor must be an int in the range [1, inf), a float in the range (0.0, 1.0], a str among {'log2', 'sqrt'} or None. Got 'auto' instead.\n",
            "\n",
            "  warnings.warn(some_fits_failed_message, FitFailedWarning)\n",
            "C:\\Users\\camila-paula\\AppData\\Roaming\\Python\\Python311\\site-packages\\sklearn\\model_selection\\_search.py:976: UserWarning: One or more of the test scores are non-finite: [0.82401578 0.83842852 0.78545813        nan 0.82038237]\n",
            "  warnings.warn(\n"
          ]
        }
      ],
      "source": [
        "randomcv_dtr = random_cv_dt.fit(X_train,y_train)"
      ]
    },
    {
      "cell_type": "code",
      "execution_count": 101,
      "metadata": {
        "id": "SAsB3O3ZsprH"
      },
      "outputs": [
        {
          "data": {
            "text/html": [
              "<div>\n",
              "<style scoped>\n",
              "    .dataframe tbody tr th:only-of-type {\n",
              "        vertical-align: middle;\n",
              "    }\n",
              "\n",
              "    .dataframe tbody tr th {\n",
              "        vertical-align: top;\n",
              "    }\n",
              "\n",
              "    .dataframe thead th {\n",
              "        text-align: right;\n",
              "    }\n",
              "</style>\n",
              "<table border=\"1\" class=\"dataframe\">\n",
              "  <thead>\n",
              "    <tr style=\"text-align: right;\">\n",
              "      <th></th>\n",
              "      <th>mean_fit_time</th>\n",
              "      <th>std_fit_time</th>\n",
              "      <th>mean_score_time</th>\n",
              "      <th>std_score_time</th>\n",
              "      <th>param_min_samples_split</th>\n",
              "      <th>param_min_samples_leaf</th>\n",
              "      <th>param_max_features</th>\n",
              "      <th>param_max_depth</th>\n",
              "      <th>param_criterion</th>\n",
              "      <th>params</th>\n",
              "      <th>split0_test_score</th>\n",
              "      <th>split1_test_score</th>\n",
              "      <th>split2_test_score</th>\n",
              "      <th>split3_test_score</th>\n",
              "      <th>split4_test_score</th>\n",
              "      <th>mean_test_score</th>\n",
              "      <th>std_test_score</th>\n",
              "      <th>rank_test_score</th>\n",
              "    </tr>\n",
              "  </thead>\n",
              "  <tbody>\n",
              "    <tr>\n",
              "      <th>0</th>\n",
              "      <td>0.080014</td>\n",
              "      <td>0.005854</td>\n",
              "      <td>0.005799</td>\n",
              "      <td>0.001169</td>\n",
              "      <td>8</td>\n",
              "      <td>8</td>\n",
              "      <td>sqrt</td>\n",
              "      <td>10</td>\n",
              "      <td>squared_error</td>\n",
              "      <td>{'min_samples_split': 8, 'min_samples_leaf': 8...</td>\n",
              "      <td>0.821627</td>\n",
              "      <td>0.832152</td>\n",
              "      <td>0.817793</td>\n",
              "      <td>0.823196</td>\n",
              "      <td>0.825311</td>\n",
              "      <td>0.824016</td>\n",
              "      <td>0.004754</td>\n",
              "      <td>2</td>\n",
              "    </tr>\n",
              "    <tr>\n",
              "      <th>1</th>\n",
              "      <td>0.077708</td>\n",
              "      <td>0.007628</td>\n",
              "      <td>0.005315</td>\n",
              "      <td>0.001594</td>\n",
              "      <td>8</td>\n",
              "      <td>8</td>\n",
              "      <td>log2</td>\n",
              "      <td>12</td>\n",
              "      <td>squared_error</td>\n",
              "      <td>{'min_samples_split': 8, 'min_samples_leaf': 8...</td>\n",
              "      <td>0.835240</td>\n",
              "      <td>0.839305</td>\n",
              "      <td>0.837524</td>\n",
              "      <td>0.835839</td>\n",
              "      <td>0.844234</td>\n",
              "      <td>0.838429</td>\n",
              "      <td>0.003230</td>\n",
              "      <td>1</td>\n",
              "    </tr>\n",
              "    <tr>\n",
              "      <th>2</th>\n",
              "      <td>21.643012</td>\n",
              "      <td>0.523360</td>\n",
              "      <td>0.002798</td>\n",
              "      <td>0.000401</td>\n",
              "      <td>12</td>\n",
              "      <td>8</td>\n",
              "      <td>log2</td>\n",
              "      <td>8</td>\n",
              "      <td>absolute_error</td>\n",
              "      <td>{'min_samples_split': 12, 'min_samples_leaf': ...</td>\n",
              "      <td>0.802941</td>\n",
              "      <td>0.793065</td>\n",
              "      <td>0.782221</td>\n",
              "      <td>0.783176</td>\n",
              "      <td>0.765887</td>\n",
              "      <td>0.785458</td>\n",
              "      <td>0.012347</td>\n",
              "      <td>4</td>\n",
              "    </tr>\n",
              "    <tr>\n",
              "      <th>3</th>\n",
              "      <td>0.007099</td>\n",
              "      <td>0.000662</td>\n",
              "      <td>0.000000</td>\n",
              "      <td>0.000000</td>\n",
              "      <td>16</td>\n",
              "      <td>10</td>\n",
              "      <td>auto</td>\n",
              "      <td>12</td>\n",
              "      <td>squared_error</td>\n",
              "      <td>{'min_samples_split': 16, 'min_samples_leaf': ...</td>\n",
              "      <td>NaN</td>\n",
              "      <td>NaN</td>\n",
              "      <td>NaN</td>\n",
              "      <td>NaN</td>\n",
              "      <td>NaN</td>\n",
              "      <td>NaN</td>\n",
              "      <td>NaN</td>\n",
              "      <td>5</td>\n",
              "    </tr>\n",
              "    <tr>\n",
              "      <th>4</th>\n",
              "      <td>0.049941</td>\n",
              "      <td>0.003530</td>\n",
              "      <td>0.003913</td>\n",
              "      <td>0.001370</td>\n",
              "      <td>8</td>\n",
              "      <td>10</td>\n",
              "      <td>log2</td>\n",
              "      <td>10</td>\n",
              "      <td>squared_error</td>\n",
              "      <td>{'min_samples_split': 8, 'min_samples_leaf': 1...</td>\n",
              "      <td>0.817192</td>\n",
              "      <td>0.820406</td>\n",
              "      <td>0.819228</td>\n",
              "      <td>0.820306</td>\n",
              "      <td>0.824780</td>\n",
              "      <td>0.820382</td>\n",
              "      <td>0.002484</td>\n",
              "      <td>3</td>\n",
              "    </tr>\n",
              "  </tbody>\n",
              "</table>\n",
              "</div>"
            ],
            "text/plain": [
              "   mean_fit_time  std_fit_time  mean_score_time  std_score_time  \\\n",
              "0       0.080014      0.005854         0.005799        0.001169   \n",
              "1       0.077708      0.007628         0.005315        0.001594   \n",
              "2      21.643012      0.523360         0.002798        0.000401   \n",
              "3       0.007099      0.000662         0.000000        0.000000   \n",
              "4       0.049941      0.003530         0.003913        0.001370   \n",
              "\n",
              "  param_min_samples_split param_min_samples_leaf param_max_features  \\\n",
              "0                       8                      8               sqrt   \n",
              "1                       8                      8               log2   \n",
              "2                      12                      8               log2   \n",
              "3                      16                     10               auto   \n",
              "4                       8                     10               log2   \n",
              "\n",
              "  param_max_depth param_criterion  \\\n",
              "0              10   squared_error   \n",
              "1              12   squared_error   \n",
              "2               8  absolute_error   \n",
              "3              12   squared_error   \n",
              "4              10   squared_error   \n",
              "\n",
              "                                              params  split0_test_score  \\\n",
              "0  {'min_samples_split': 8, 'min_samples_leaf': 8...           0.821627   \n",
              "1  {'min_samples_split': 8, 'min_samples_leaf': 8...           0.835240   \n",
              "2  {'min_samples_split': 12, 'min_samples_leaf': ...           0.802941   \n",
              "3  {'min_samples_split': 16, 'min_samples_leaf': ...                NaN   \n",
              "4  {'min_samples_split': 8, 'min_samples_leaf': 1...           0.817192   \n",
              "\n",
              "   split1_test_score  split2_test_score  split3_test_score  split4_test_score  \\\n",
              "0           0.832152           0.817793           0.823196           0.825311   \n",
              "1           0.839305           0.837524           0.835839           0.844234   \n",
              "2           0.793065           0.782221           0.783176           0.765887   \n",
              "3                NaN                NaN                NaN                NaN   \n",
              "4           0.820406           0.819228           0.820306           0.824780   \n",
              "\n",
              "   mean_test_score  std_test_score  rank_test_score  \n",
              "0         0.824016        0.004754                2  \n",
              "1         0.838429        0.003230                1  \n",
              "2         0.785458        0.012347                4  \n",
              "3              NaN             NaN                5  \n",
              "4         0.820382        0.002484                3  "
            ]
          },
          "execution_count": 101,
          "metadata": {},
          "output_type": "execute_result"
        }
      ],
      "source": [
        "pd.DataFrame(randomcv_dtr.cv_results_)"
      ]
    },
    {
      "cell_type": "code",
      "execution_count": 102,
      "metadata": {
        "id": "A8WlSRFRsplf"
      },
      "outputs": [
        {
          "data": {
            "text/plain": [
              "{'min_samples_split': 8,\n",
              " 'min_samples_leaf': 8,\n",
              " 'max_features': 'log2',\n",
              " 'max_depth': 12,\n",
              " 'criterion': 'squared_error'}"
            ]
          },
          "execution_count": 102,
          "metadata": {},
          "output_type": "execute_result"
        }
      ],
      "source": [
        "randomcv_dtr.best_params_"
      ]
    },
    {
      "cell_type": "code",
      "execution_count": 107,
      "metadata": {
        "id": "5VVGXurFspeP"
      },
      "outputs": [
        {
          "data": {
            "text/plain": [
              "0.8384285171742085"
            ]
          },
          "execution_count": 107,
          "metadata": {},
          "output_type": "execute_result"
        }
      ],
      "source": [
        "randomcv_dtr.best_score_"
      ]
    },
    {
      "cell_type": "markdown",
      "metadata": {
        "id": "xkYN3TL1uroW"
      },
      "source": [
        "### Random Search Test"
      ]
    },
    {
      "cell_type": "code",
      "execution_count": 111,
      "metadata": {
        "id": "6R1hmWxrrGrk"
      },
      "outputs": [],
      "source": [
        "dtr_opt = DecisionTreeRegressor(criterion='squared_error',max_depth=12, max_features='log2',min_samples_leaf=8, min_samples_split=8)"
      ]
    },
    {
      "cell_type": "code",
      "execution_count": 112,
      "metadata": {
        "id": "2ktdY09ku59f"
      },
      "outputs": [
        {
          "data": {
            "text/html": [
              "<style>#sk-container-id-5 {color: black;}#sk-container-id-5 pre{padding: 0;}#sk-container-id-5 div.sk-toggleable {background-color: white;}#sk-container-id-5 label.sk-toggleable__label {cursor: pointer;display: block;width: 100%;margin-bottom: 0;padding: 0.3em;box-sizing: border-box;text-align: center;}#sk-container-id-5 label.sk-toggleable__label-arrow:before {content: \"▸\";float: left;margin-right: 0.25em;color: #696969;}#sk-container-id-5 label.sk-toggleable__label-arrow:hover:before {color: black;}#sk-container-id-5 div.sk-estimator:hover label.sk-toggleable__label-arrow:before {color: black;}#sk-container-id-5 div.sk-toggleable__content {max-height: 0;max-width: 0;overflow: hidden;text-align: left;background-color: #f0f8ff;}#sk-container-id-5 div.sk-toggleable__content pre {margin: 0.2em;color: black;border-radius: 0.25em;background-color: #f0f8ff;}#sk-container-id-5 input.sk-toggleable__control:checked~div.sk-toggleable__content {max-height: 200px;max-width: 100%;overflow: auto;}#sk-container-id-5 input.sk-toggleable__control:checked~label.sk-toggleable__label-arrow:before {content: \"▾\";}#sk-container-id-5 div.sk-estimator input.sk-toggleable__control:checked~label.sk-toggleable__label {background-color: #d4ebff;}#sk-container-id-5 div.sk-label input.sk-toggleable__control:checked~label.sk-toggleable__label {background-color: #d4ebff;}#sk-container-id-5 input.sk-hidden--visually {border: 0;clip: rect(1px 1px 1px 1px);clip: rect(1px, 1px, 1px, 1px);height: 1px;margin: -1px;overflow: hidden;padding: 0;position: absolute;width: 1px;}#sk-container-id-5 div.sk-estimator {font-family: monospace;background-color: #f0f8ff;border: 1px dotted black;border-radius: 0.25em;box-sizing: border-box;margin-bottom: 0.5em;}#sk-container-id-5 div.sk-estimator:hover {background-color: #d4ebff;}#sk-container-id-5 div.sk-parallel-item::after {content: \"\";width: 100%;border-bottom: 1px solid gray;flex-grow: 1;}#sk-container-id-5 div.sk-label:hover label.sk-toggleable__label {background-color: #d4ebff;}#sk-container-id-5 div.sk-serial::before {content: \"\";position: absolute;border-left: 1px solid gray;box-sizing: border-box;top: 0;bottom: 0;left: 50%;z-index: 0;}#sk-container-id-5 div.sk-serial {display: flex;flex-direction: column;align-items: center;background-color: white;padding-right: 0.2em;padding-left: 0.2em;position: relative;}#sk-container-id-5 div.sk-item {position: relative;z-index: 1;}#sk-container-id-5 div.sk-parallel {display: flex;align-items: stretch;justify-content: center;background-color: white;position: relative;}#sk-container-id-5 div.sk-item::before, #sk-container-id-5 div.sk-parallel-item::before {content: \"\";position: absolute;border-left: 1px solid gray;box-sizing: border-box;top: 0;bottom: 0;left: 50%;z-index: -1;}#sk-container-id-5 div.sk-parallel-item {display: flex;flex-direction: column;z-index: 1;position: relative;background-color: white;}#sk-container-id-5 div.sk-parallel-item:first-child::after {align-self: flex-end;width: 50%;}#sk-container-id-5 div.sk-parallel-item:last-child::after {align-self: flex-start;width: 50%;}#sk-container-id-5 div.sk-parallel-item:only-child::after {width: 0;}#sk-container-id-5 div.sk-dashed-wrapped {border: 1px dashed gray;margin: 0 0.4em 0.5em 0.4em;box-sizing: border-box;padding-bottom: 0.4em;background-color: white;}#sk-container-id-5 div.sk-label label {font-family: monospace;font-weight: bold;display: inline-block;line-height: 1.2em;}#sk-container-id-5 div.sk-label-container {text-align: center;}#sk-container-id-5 div.sk-container {/* jupyter's `normalize.less` sets `[hidden] { display: none; }` but bootstrap.min.css set `[hidden] { display: none !important; }` so we also need the `!important` here to be able to override the default hidden behavior on the sphinx rendered scikit-learn.org. See: https://github.com/scikit-learn/scikit-learn/issues/21755 */display: inline-block !important;position: relative;}#sk-container-id-5 div.sk-text-repr-fallback {display: none;}</style><div id=\"sk-container-id-5\" class=\"sk-top-container\"><div class=\"sk-text-repr-fallback\"><pre>DecisionTreeRegressor(max_depth=12, max_features=&#x27;log2&#x27;, min_samples_leaf=8,\n",
              "                      min_samples_split=8)</pre><b>In a Jupyter environment, please rerun this cell to show the HTML representation or trust the notebook. <br />On GitHub, the HTML representation is unable to render, please try loading this page with nbviewer.org.</b></div><div class=\"sk-container\" hidden><div class=\"sk-item\"><div class=\"sk-estimator sk-toggleable\"><input class=\"sk-toggleable__control sk-hidden--visually\" id=\"sk-estimator-id-7\" type=\"checkbox\" checked><label for=\"sk-estimator-id-7\" class=\"sk-toggleable__label sk-toggleable__label-arrow\">DecisionTreeRegressor</label><div class=\"sk-toggleable__content\"><pre>DecisionTreeRegressor(max_depth=12, max_features=&#x27;log2&#x27;, min_samples_leaf=8,\n",
              "                      min_samples_split=8)</pre></div></div></div></div></div>"
            ],
            "text/plain": [
              "DecisionTreeRegressor(max_depth=12, max_features='log2', min_samples_leaf=8,\n",
              "                      min_samples_split=8)"
            ]
          },
          "execution_count": 112,
          "metadata": {},
          "output_type": "execute_result"
        }
      ],
      "source": [
        "dtr_opt.fit(X_train, y_train)"
      ]
    },
    {
      "cell_type": "code",
      "execution_count": 113,
      "metadata": {
        "id": "GOufXDUbu5nt"
      },
      "outputs": [],
      "source": [
        "predict_dtr_opt = dtr_opt.predict(X_test)"
      ]
    },
    {
      "cell_type": "code",
      "execution_count": 114,
      "metadata": {
        "id": "K7PSaf7ExDp3"
      },
      "outputs": [
        {
          "data": {
            "text/plain": [
              "0.8365459780507996"
            ]
          },
          "execution_count": 114,
          "metadata": {},
          "output_type": "execute_result"
        }
      ],
      "source": [
        "r2_score(y_test,predict_dtr_opt)"
      ]
    },
    {
      "cell_type": "markdown",
      "metadata": {
        "id": "Htr1DwBpjouT"
      },
      "source": [
        "## 5.3  - Optmize Random Forest"
      ]
    },
    {
      "cell_type": "markdown",
      "metadata": {
        "id": "YYSxT8eeI5gG"
      },
      "source": [
        "### Cross validation"
      ]
    },
    {
      "cell_type": "code",
      "execution_count": 115,
      "metadata": {
        "id": "QHS_luJlwcKv"
      },
      "outputs": [
        {
          "name": "stdout",
          "output_type": "stream",
          "text": [
            "Average performance r2: 0.798\n"
          ]
        }
      ],
      "source": [
        "perfRF_cross_val_r2 = cross_val_score(estimator=rf,X = X_train, y = y_train, scoring='r2',cv=cv)\n",
        "print('Average performance r2: {}'.format(round(perfRF_cross_val_r2.mean(),3)))"
      ]
    },
    {
      "cell_type": "markdown",
      "metadata": {
        "id": "q_-1reiFjouS"
      },
      "source": [
        "### Random Search Validation"
      ]
    },
    {
      "cell_type": "markdown",
      "metadata": {
        "id": "XrAMRFeHDmE_"
      },
      "source": [
        "Definindo os parâmetros"
      ]
    },
    {
      "cell_type": "code",
      "execution_count": 116,
      "metadata": {
        "id": "29hdUVdGjouS"
      },
      "outputs": [],
      "source": [
        "param_random_rf = {'n_estimators':[150,200],\n",
        "                   'max_depth':[20,30],\n",
        "                   'min_samples_split':[8,10],\n",
        "                   'min_samples_leaf':[3],                    \n",
        "                   }"
      ]
    },
    {
      "cell_type": "code",
      "execution_count": 117,
      "metadata": {
        "id": "S9aUbEGdHqiB"
      },
      "outputs": [],
      "source": [
        "random_cv_rf = RandomizedSearchCV(\n",
        "    rf,\n",
        "    param_random_rf,\n",
        "    n_iter=5,\n",
        "    cv=cv,\n",
        "    scoring='r2',\n",
        "    n_jobs=1,\n",
        "    random_state=42\n",
        ")"
      ]
    },
    {
      "cell_type": "code",
      "execution_count": 118,
      "metadata": {
        "colab": {
          "background_save": true
        },
        "id": "N3x19a9gIRZL"
      },
      "outputs": [],
      "source": [
        "rf_randomcv = random_cv_rf.fit(X_train, y_train)"
      ]
    },
    {
      "cell_type": "code",
      "execution_count": 120,
      "metadata": {
        "colab": {
          "background_save": true
        },
        "id": "JUpfBTwf_ewj"
      },
      "outputs": [
        {
          "data": {
            "text/html": [
              "<div>\n",
              "<style scoped>\n",
              "    .dataframe tbody tr th:only-of-type {\n",
              "        vertical-align: middle;\n",
              "    }\n",
              "\n",
              "    .dataframe tbody tr th {\n",
              "        vertical-align: top;\n",
              "    }\n",
              "\n",
              "    .dataframe thead th {\n",
              "        text-align: right;\n",
              "    }\n",
              "</style>\n",
              "<table border=\"1\" class=\"dataframe\">\n",
              "  <thead>\n",
              "    <tr style=\"text-align: right;\">\n",
              "      <th></th>\n",
              "      <th>mean_fit_time</th>\n",
              "      <th>std_fit_time</th>\n",
              "      <th>mean_score_time</th>\n",
              "      <th>std_score_time</th>\n",
              "      <th>param_n_estimators</th>\n",
              "      <th>param_min_samples_split</th>\n",
              "      <th>param_min_samples_leaf</th>\n",
              "      <th>param_max_depth</th>\n",
              "      <th>params</th>\n",
              "      <th>split0_test_score</th>\n",
              "      <th>split1_test_score</th>\n",
              "      <th>split2_test_score</th>\n",
              "      <th>split3_test_score</th>\n",
              "      <th>split4_test_score</th>\n",
              "      <th>mean_test_score</th>\n",
              "      <th>std_test_score</th>\n",
              "      <th>rank_test_score</th>\n",
              "    </tr>\n",
              "  </thead>\n",
              "  <tbody>\n",
              "    <tr>\n",
              "      <th>0</th>\n",
              "      <td>39.519223</td>\n",
              "      <td>0.579871</td>\n",
              "      <td>0.316299</td>\n",
              "      <td>0.005068</td>\n",
              "      <td>200</td>\n",
              "      <td>8</td>\n",
              "      <td>3</td>\n",
              "      <td>20</td>\n",
              "      <td>{'n_estimators': 200, 'min_samples_split': 8, ...</td>\n",
              "      <td>0.897043</td>\n",
              "      <td>0.896562</td>\n",
              "      <td>0.897625</td>\n",
              "      <td>0.890525</td>\n",
              "      <td>0.891892</td>\n",
              "      <td>0.894729</td>\n",
              "      <td>0.002927</td>\n",
              "      <td>2</td>\n",
              "    </tr>\n",
              "    <tr>\n",
              "      <th>1</th>\n",
              "      <td>38.697211</td>\n",
              "      <td>0.127172</td>\n",
              "      <td>0.317605</td>\n",
              "      <td>0.003825</td>\n",
              "      <td>200</td>\n",
              "      <td>8</td>\n",
              "      <td>3</td>\n",
              "      <td>30</td>\n",
              "      <td>{'n_estimators': 200, 'min_samples_split': 8, ...</td>\n",
              "      <td>0.897101</td>\n",
              "      <td>0.896573</td>\n",
              "      <td>0.897671</td>\n",
              "      <td>0.890602</td>\n",
              "      <td>0.891852</td>\n",
              "      <td>0.894760</td>\n",
              "      <td>0.002932</td>\n",
              "      <td>1</td>\n",
              "    </tr>\n",
              "    <tr>\n",
              "      <th>2</th>\n",
              "      <td>28.676395</td>\n",
              "      <td>0.368310</td>\n",
              "      <td>0.234404</td>\n",
              "      <td>0.006650</td>\n",
              "      <td>150</td>\n",
              "      <td>8</td>\n",
              "      <td>3</td>\n",
              "      <td>20</td>\n",
              "      <td>{'n_estimators': 150, 'min_samples_split': 8, ...</td>\n",
              "      <td>0.896954</td>\n",
              "      <td>0.896490</td>\n",
              "      <td>0.897679</td>\n",
              "      <td>0.890253</td>\n",
              "      <td>0.891860</td>\n",
              "      <td>0.894647</td>\n",
              "      <td>0.002999</td>\n",
              "      <td>3</td>\n",
              "    </tr>\n",
              "    <tr>\n",
              "      <th>3</th>\n",
              "      <td>38.089217</td>\n",
              "      <td>0.477313</td>\n",
              "      <td>0.317811</td>\n",
              "      <td>0.018207</td>\n",
              "      <td>200</td>\n",
              "      <td>10</td>\n",
              "      <td>3</td>\n",
              "      <td>30</td>\n",
              "      <td>{'n_estimators': 200, 'min_samples_split': 10,...</td>\n",
              "      <td>0.896844</td>\n",
              "      <td>0.896373</td>\n",
              "      <td>0.897302</td>\n",
              "      <td>0.890339</td>\n",
              "      <td>0.891466</td>\n",
              "      <td>0.894465</td>\n",
              "      <td>0.002945</td>\n",
              "      <td>4</td>\n",
              "    </tr>\n",
              "    <tr>\n",
              "      <th>4</th>\n",
              "      <td>28.477110</td>\n",
              "      <td>0.128155</td>\n",
              "      <td>0.228798</td>\n",
              "      <td>0.005412</td>\n",
              "      <td>150</td>\n",
              "      <td>10</td>\n",
              "      <td>3</td>\n",
              "      <td>20</td>\n",
              "      <td>{'n_estimators': 150, 'min_samples_split': 10,...</td>\n",
              "      <td>0.896710</td>\n",
              "      <td>0.896203</td>\n",
              "      <td>0.897326</td>\n",
              "      <td>0.890065</td>\n",
              "      <td>0.891457</td>\n",
              "      <td>0.894352</td>\n",
              "      <td>0.002986</td>\n",
              "      <td>5</td>\n",
              "    </tr>\n",
              "  </tbody>\n",
              "</table>\n",
              "</div>"
            ],
            "text/plain": [
              "   mean_fit_time  std_fit_time  mean_score_time  std_score_time  \\\n",
              "0      39.519223      0.579871         0.316299        0.005068   \n",
              "1      38.697211      0.127172         0.317605        0.003825   \n",
              "2      28.676395      0.368310         0.234404        0.006650   \n",
              "3      38.089217      0.477313         0.317811        0.018207   \n",
              "4      28.477110      0.128155         0.228798        0.005412   \n",
              "\n",
              "  param_n_estimators param_min_samples_split param_min_samples_leaf  \\\n",
              "0                200                       8                      3   \n",
              "1                200                       8                      3   \n",
              "2                150                       8                      3   \n",
              "3                200                      10                      3   \n",
              "4                150                      10                      3   \n",
              "\n",
              "  param_max_depth                                             params  \\\n",
              "0              20  {'n_estimators': 200, 'min_samples_split': 8, ...   \n",
              "1              30  {'n_estimators': 200, 'min_samples_split': 8, ...   \n",
              "2              20  {'n_estimators': 150, 'min_samples_split': 8, ...   \n",
              "3              30  {'n_estimators': 200, 'min_samples_split': 10,...   \n",
              "4              20  {'n_estimators': 150, 'min_samples_split': 10,...   \n",
              "\n",
              "   split0_test_score  split1_test_score  split2_test_score  split3_test_score  \\\n",
              "0           0.897043           0.896562           0.897625           0.890525   \n",
              "1           0.897101           0.896573           0.897671           0.890602   \n",
              "2           0.896954           0.896490           0.897679           0.890253   \n",
              "3           0.896844           0.896373           0.897302           0.890339   \n",
              "4           0.896710           0.896203           0.897326           0.890065   \n",
              "\n",
              "   split4_test_score  mean_test_score  std_test_score  rank_test_score  \n",
              "0           0.891892         0.894729        0.002927                2  \n",
              "1           0.891852         0.894760        0.002932                1  \n",
              "2           0.891860         0.894647        0.002999                3  \n",
              "3           0.891466         0.894465        0.002945                4  \n",
              "4           0.891457         0.894352        0.002986                5  "
            ]
          },
          "execution_count": 120,
          "metadata": {},
          "output_type": "execute_result"
        }
      ],
      "source": [
        "pd.DataFrame(rf_randomcv.cv_results_)"
      ]
    },
    {
      "cell_type": "code",
      "execution_count": 121,
      "metadata": {
        "colab": {
          "background_save": true
        },
        "id": "sBU95_e1_mpG"
      },
      "outputs": [
        {
          "data": {
            "text/plain": [
              "{'n_estimators': 200,\n",
              " 'min_samples_split': 8,\n",
              " 'min_samples_leaf': 3,\n",
              " 'max_depth': 30}"
            ]
          },
          "execution_count": 121,
          "metadata": {},
          "output_type": "execute_result"
        }
      ],
      "source": [
        "rf_randomcv.best_params_"
      ]
    },
    {
      "cell_type": "code",
      "execution_count": 122,
      "metadata": {
        "colab": {
          "background_save": true
        },
        "id": "EpP5ACgwSnJZ"
      },
      "outputs": [
        {
          "data": {
            "text/plain": [
              "0.8947597522603858"
            ]
          },
          "execution_count": 122,
          "metadata": {},
          "output_type": "execute_result"
        }
      ],
      "source": [
        "rf_randomcv.best_score_"
      ]
    },
    {
      "cell_type": "markdown",
      "metadata": {},
      "source": [
        "### Random Search Test"
      ]
    },
    {
      "cell_type": "code",
      "execution_count": 123,
      "metadata": {},
      "outputs": [],
      "source": [
        "rf_opt = RandomForestRegressor(random_state=42, max_depth=30, n_estimators=200, min_samples_leaf=3, min_samples_split=8)"
      ]
    },
    {
      "cell_type": "code",
      "execution_count": 124,
      "metadata": {},
      "outputs": [
        {
          "data": {
            "text/html": [
              "<style>#sk-container-id-6 {color: black;}#sk-container-id-6 pre{padding: 0;}#sk-container-id-6 div.sk-toggleable {background-color: white;}#sk-container-id-6 label.sk-toggleable__label {cursor: pointer;display: block;width: 100%;margin-bottom: 0;padding: 0.3em;box-sizing: border-box;text-align: center;}#sk-container-id-6 label.sk-toggleable__label-arrow:before {content: \"▸\";float: left;margin-right: 0.25em;color: #696969;}#sk-container-id-6 label.sk-toggleable__label-arrow:hover:before {color: black;}#sk-container-id-6 div.sk-estimator:hover label.sk-toggleable__label-arrow:before {color: black;}#sk-container-id-6 div.sk-toggleable__content {max-height: 0;max-width: 0;overflow: hidden;text-align: left;background-color: #f0f8ff;}#sk-container-id-6 div.sk-toggleable__content pre {margin: 0.2em;color: black;border-radius: 0.25em;background-color: #f0f8ff;}#sk-container-id-6 input.sk-toggleable__control:checked~div.sk-toggleable__content {max-height: 200px;max-width: 100%;overflow: auto;}#sk-container-id-6 input.sk-toggleable__control:checked~label.sk-toggleable__label-arrow:before {content: \"▾\";}#sk-container-id-6 div.sk-estimator input.sk-toggleable__control:checked~label.sk-toggleable__label {background-color: #d4ebff;}#sk-container-id-6 div.sk-label input.sk-toggleable__control:checked~label.sk-toggleable__label {background-color: #d4ebff;}#sk-container-id-6 input.sk-hidden--visually {border: 0;clip: rect(1px 1px 1px 1px);clip: rect(1px, 1px, 1px, 1px);height: 1px;margin: -1px;overflow: hidden;padding: 0;position: absolute;width: 1px;}#sk-container-id-6 div.sk-estimator {font-family: monospace;background-color: #f0f8ff;border: 1px dotted black;border-radius: 0.25em;box-sizing: border-box;margin-bottom: 0.5em;}#sk-container-id-6 div.sk-estimator:hover {background-color: #d4ebff;}#sk-container-id-6 div.sk-parallel-item::after {content: \"\";width: 100%;border-bottom: 1px solid gray;flex-grow: 1;}#sk-container-id-6 div.sk-label:hover label.sk-toggleable__label {background-color: #d4ebff;}#sk-container-id-6 div.sk-serial::before {content: \"\";position: absolute;border-left: 1px solid gray;box-sizing: border-box;top: 0;bottom: 0;left: 50%;z-index: 0;}#sk-container-id-6 div.sk-serial {display: flex;flex-direction: column;align-items: center;background-color: white;padding-right: 0.2em;padding-left: 0.2em;position: relative;}#sk-container-id-6 div.sk-item {position: relative;z-index: 1;}#sk-container-id-6 div.sk-parallel {display: flex;align-items: stretch;justify-content: center;background-color: white;position: relative;}#sk-container-id-6 div.sk-item::before, #sk-container-id-6 div.sk-parallel-item::before {content: \"\";position: absolute;border-left: 1px solid gray;box-sizing: border-box;top: 0;bottom: 0;left: 50%;z-index: -1;}#sk-container-id-6 div.sk-parallel-item {display: flex;flex-direction: column;z-index: 1;position: relative;background-color: white;}#sk-container-id-6 div.sk-parallel-item:first-child::after {align-self: flex-end;width: 50%;}#sk-container-id-6 div.sk-parallel-item:last-child::after {align-self: flex-start;width: 50%;}#sk-container-id-6 div.sk-parallel-item:only-child::after {width: 0;}#sk-container-id-6 div.sk-dashed-wrapped {border: 1px dashed gray;margin: 0 0.4em 0.5em 0.4em;box-sizing: border-box;padding-bottom: 0.4em;background-color: white;}#sk-container-id-6 div.sk-label label {font-family: monospace;font-weight: bold;display: inline-block;line-height: 1.2em;}#sk-container-id-6 div.sk-label-container {text-align: center;}#sk-container-id-6 div.sk-container {/* jupyter's `normalize.less` sets `[hidden] { display: none; }` but bootstrap.min.css set `[hidden] { display: none !important; }` so we also need the `!important` here to be able to override the default hidden behavior on the sphinx rendered scikit-learn.org. See: https://github.com/scikit-learn/scikit-learn/issues/21755 */display: inline-block !important;position: relative;}#sk-container-id-6 div.sk-text-repr-fallback {display: none;}</style><div id=\"sk-container-id-6\" class=\"sk-top-container\"><div class=\"sk-text-repr-fallback\"><pre>RandomForestRegressor(max_depth=30, min_samples_leaf=3, min_samples_split=8,\n",
              "                      n_estimators=200, random_state=42)</pre><b>In a Jupyter environment, please rerun this cell to show the HTML representation or trust the notebook. <br />On GitHub, the HTML representation is unable to render, please try loading this page with nbviewer.org.</b></div><div class=\"sk-container\" hidden><div class=\"sk-item\"><div class=\"sk-estimator sk-toggleable\"><input class=\"sk-toggleable__control sk-hidden--visually\" id=\"sk-estimator-id-8\" type=\"checkbox\" checked><label for=\"sk-estimator-id-8\" class=\"sk-toggleable__label sk-toggleable__label-arrow\">RandomForestRegressor</label><div class=\"sk-toggleable__content\"><pre>RandomForestRegressor(max_depth=30, min_samples_leaf=3, min_samples_split=8,\n",
              "                      n_estimators=200, random_state=42)</pre></div></div></div></div></div>"
            ],
            "text/plain": [
              "RandomForestRegressor(max_depth=30, min_samples_leaf=3, min_samples_split=8,\n",
              "                      n_estimators=200, random_state=42)"
            ]
          },
          "execution_count": 124,
          "metadata": {},
          "output_type": "execute_result"
        }
      ],
      "source": [
        "rf_opt.fit(X_train,y_train)"
      ]
    },
    {
      "cell_type": "code",
      "execution_count": 125,
      "metadata": {},
      "outputs": [],
      "source": [
        "predict_rf_opt = rf_opt.predict(X_test)"
      ]
    },
    {
      "cell_type": "code",
      "execution_count": 126,
      "metadata": {},
      "outputs": [
        {
          "data": {
            "text/plain": [
              "0.8950454342187095"
            ]
          },
          "execution_count": 126,
          "metadata": {},
          "output_type": "execute_result"
        }
      ],
      "source": [
        "r2_score(y_test, predict_rf_opt)"
      ]
    },
    {
      "cell_type": "markdown",
      "metadata": {
        "id": "f__nZQq1jouT"
      },
      "source": [
        "## 5.4 -Selecting best model"
      ]
    },
    {
      "cell_type": "code",
      "execution_count": 131,
      "metadata": {
        "colab": {
          "background_save": true
        },
        "id": "w1kvgoydp5Rw"
      },
      "outputs": [
        {
          "name": "stdout",
          "output_type": "stream",
          "text": [
            "Random Search\n",
            "==============================\n",
            "Decision Tree: 0.836546\n",
            "Random Forest: 0.895045\n",
            "==============================\n",
            "Cross Validation\n",
            "==============================\n",
            "Decision Tree: 0.783000\n",
            "Random Forest: 0.798000\n"
          ]
        }
      ],
      "source": [
        "print('Random Search')\n",
        "print('='*30)\n",
        "print('Decision Tree: %f' % r2_score(y_test, predict_dtr_opt))\n",
        "print('Random Forest: %f' % r2_score(y_test, predict_rf_opt))\n",
        "print('='*30)\n",
        "print('Cross Validation')\n",
        "print('='*30)\n",
        "print('Decision Tree: %f' % round(perf_cross_val_r2.mean(),3))\n",
        "print('Random Forest: %f' % round(perfRF_cross_val_r2.mean(),3))\n"
      ]
    },
    {
      "cell_type": "code",
      "execution_count": null,
      "metadata": {
        "colab": {
          "background_save": true
        },
        "id": "g92hzy7OnVPL"
      },
      "outputs": [],
      "source": []
    },
    {
      "cell_type": "code",
      "execution_count": null,
      "metadata": {
        "colab": {
          "background_save": true
        },
        "id": "jtrulIP4o8Au"
      },
      "outputs": [],
      "source": []
    }
  ],
  "metadata": {
    "colab": {
      "collapsed_sections": [],
      "name": "Projeto_Regressao_embranco.ipynb",
      "provenance": []
    },
    "interpreter": {
      "hash": "c500cbb8e7d8b21f988729da27216438994fcf251b21651d2da847db7705ee99"
    },
    "kernelspec": {
      "display_name": "Python 3.8.13 ('machine_learning')",
      "language": "python",
      "name": "python3"
    },
    "language_info": {
      "codemirror_mode": {
        "name": "ipython",
        "version": 3
      },
      "file_extension": ".py",
      "mimetype": "text/x-python",
      "name": "python",
      "nbconvert_exporter": "python",
      "pygments_lexer": "ipython3",
      "version": "3.11.4"
    }
  },
  "nbformat": 4,
  "nbformat_minor": 0
}
